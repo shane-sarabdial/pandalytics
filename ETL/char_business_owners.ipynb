{
 "cells": [
  {
   "cell_type": "markdown",
   "source": [
    "# Import libraries and read data from csv"
   ],
   "metadata": {
    "collapsed": false,
    "pycharm": {
     "name": "#%% md\n"
    }
   }
  },
  {
   "cell_type": "code",
   "source": [
    "import pandas as pd\n",
    "import numpy as np\n",
    "import matplotlib.pyplot as plt\n",
    "import seaborn as sns\n",
    "import plotly as px"
   ],
   "metadata": {
    "collapsed": false,
    "pycharm": {
     "name": "#%%\n"
    }
   },
   "execution_count": 39,
   "outputs": []
  },
  {
   "cell_type": "code",
   "execution_count": 40,
   "outputs": [
    {
     "name": "stderr",
     "output_type": "stream",
     "text": [
      "C:\\Users\\shane\\AppData\\Local\\Temp\\ipykernel_652112\\1151820417.py:1: DtypeWarning:\n",
      "\n",
      "Columns (2) have mixed types. Specify dtype option on import or set low_memory=False.\n",
      "\n"
     ]
    }
   ],
   "source": [
    "business_owners = pd.read_csv('data/char_business_owner.csv')"
   ],
   "metadata": {
    "collapsed": false,
    "pycharm": {
     "name": "#%%\n"
    }
   }
  },
  {
   "cell_type": "markdown",
   "source": [
    "# Check shape and dataypes of our data"
   ],
   "metadata": {
    "collapsed": false,
    "pycharm": {
     "name": "#%% md\n"
    }
   }
  },
  {
   "cell_type": "code",
   "execution_count": 41,
   "outputs": [
    {
     "data": {
      "text/plain": "(238188, 16)"
     },
     "execution_count": 41,
     "metadata": {},
     "output_type": "execute_result"
    }
   ],
   "source": [
    "business_owners.shape"
   ],
   "metadata": {
    "collapsed": false,
    "pycharm": {
     "name": "#%%\n"
    }
   }
  },
  {
   "cell_type": "code",
   "execution_count": 42,
   "outputs": [
    {
     "data": {
      "text/plain": "            NAME NAICS2017        NAICS2017_LABEL  OWNER_SEX  \\\n0  United States        00  Total for all sectors          1   \n1  United States        00  Total for all sectors          1   \n2  United States        00  Total for all sectors          1   \n3  United States        00  Total for all sectors          1   \n4  United States        00  Total for all sectors          1   \n5  United States        00  Total for all sectors          1   \n6  United States        00  Total for all sectors          1   \n7  United States        00  Total for all sectors          1   \n8  United States        00  Total for all sectors          1   \n9  United States        00  Total for all sectors          1   \n\n                  OWNER_SEX_LABEL  OWNER_RACE                OWNER_RACE_LABEL  \\\n0  All owners of respondent firms           0  All owners of respondent firms   \n1  All owners of respondent firms           0  All owners of respondent firms   \n2  All owners of respondent firms           0  All owners of respondent firms   \n3  All owners of respondent firms           0  All owners of respondent firms   \n4  All owners of respondent firms           0  All owners of respondent firms   \n5  All owners of respondent firms           0  All owners of respondent firms   \n6  All owners of respondent firms           0  All owners of respondent firms   \n7  All owners of respondent firms           0  All owners of respondent firms   \n8  All owners of respondent firms           0  All owners of respondent firms   \n9  All owners of respondent firms           0  All owners of respondent firms   \n\n  QDESC QDESC_LABEL OWNCHAR                                 OWNCHAR_LABEL  \\\n0   O10   REASONOWN    OH1N       Wanted to be my own boss: Not important   \n1   O10   REASONOWN    OH1S  Wanted to be my own boss: Somewhat important   \n2   O10   REASONOWN    OH1V      Wanted to be my own boss: Very important   \n3   O10   REASONOWN    OI1N                 Flexible hours: Not important   \n4   O10   REASONOWN    OI1S            Flexible hours: Somewhat important   \n5   O10   REASONOWN    OI1V                Flexible hours: Very important   \n6   O10   REASONOWN    OJ1N        Balance work and family: Not important   \n7   O10   REASONOWN    OJ1S   Balance work and family: Somewhat important   \n8   O10   REASONOWN    OJ1V       Balance work and family: Very important   \n9   O10   REASONOWN    OK1N                 Greater income: Not important   \n\n   YEAR  OWNPDEMP  OWNPDEMP_PCT QDESC_LABEL.1  us  \n0  2020    409343          11.7     REASONOWN   1  \n1  2020    844600          24.0     REASONOWN   1  \n2  2020   2248700          64.0     REASONOWN   1  \n3  2020    611324          17.4     REASONOWN   1  \n4  2020    998422          28.4     REASONOWN   1  \n5  2020   1886208          53.7     REASONOWN   1  \n6  2020    481868          13.7     REASONOWN   1  \n7  2020   1007595          28.7     REASONOWN   1  \n8  2020   2004609          57.1     REASONOWN   1  \n9  2020    353955          10.1     REASONOWN   1  ",
      "text/html": "<div>\n<style scoped>\n    .dataframe tbody tr th:only-of-type {\n        vertical-align: middle;\n    }\n\n    .dataframe tbody tr th {\n        vertical-align: top;\n    }\n\n    .dataframe thead th {\n        text-align: right;\n    }\n</style>\n<table border=\"1\" class=\"dataframe\">\n  <thead>\n    <tr style=\"text-align: right;\">\n      <th></th>\n      <th>NAME</th>\n      <th>NAICS2017</th>\n      <th>NAICS2017_LABEL</th>\n      <th>OWNER_SEX</th>\n      <th>OWNER_SEX_LABEL</th>\n      <th>OWNER_RACE</th>\n      <th>OWNER_RACE_LABEL</th>\n      <th>QDESC</th>\n      <th>QDESC_LABEL</th>\n      <th>OWNCHAR</th>\n      <th>OWNCHAR_LABEL</th>\n      <th>YEAR</th>\n      <th>OWNPDEMP</th>\n      <th>OWNPDEMP_PCT</th>\n      <th>QDESC_LABEL.1</th>\n      <th>us</th>\n    </tr>\n  </thead>\n  <tbody>\n    <tr>\n      <th>0</th>\n      <td>United States</td>\n      <td>00</td>\n      <td>Total for all sectors</td>\n      <td>1</td>\n      <td>All owners of respondent firms</td>\n      <td>0</td>\n      <td>All owners of respondent firms</td>\n      <td>O10</td>\n      <td>REASONOWN</td>\n      <td>OH1N</td>\n      <td>Wanted to be my own boss: Not important</td>\n      <td>2020</td>\n      <td>409343</td>\n      <td>11.7</td>\n      <td>REASONOWN</td>\n      <td>1</td>\n    </tr>\n    <tr>\n      <th>1</th>\n      <td>United States</td>\n      <td>00</td>\n      <td>Total for all sectors</td>\n      <td>1</td>\n      <td>All owners of respondent firms</td>\n      <td>0</td>\n      <td>All owners of respondent firms</td>\n      <td>O10</td>\n      <td>REASONOWN</td>\n      <td>OH1S</td>\n      <td>Wanted to be my own boss: Somewhat important</td>\n      <td>2020</td>\n      <td>844600</td>\n      <td>24.0</td>\n      <td>REASONOWN</td>\n      <td>1</td>\n    </tr>\n    <tr>\n      <th>2</th>\n      <td>United States</td>\n      <td>00</td>\n      <td>Total for all sectors</td>\n      <td>1</td>\n      <td>All owners of respondent firms</td>\n      <td>0</td>\n      <td>All owners of respondent firms</td>\n      <td>O10</td>\n      <td>REASONOWN</td>\n      <td>OH1V</td>\n      <td>Wanted to be my own boss: Very important</td>\n      <td>2020</td>\n      <td>2248700</td>\n      <td>64.0</td>\n      <td>REASONOWN</td>\n      <td>1</td>\n    </tr>\n    <tr>\n      <th>3</th>\n      <td>United States</td>\n      <td>00</td>\n      <td>Total for all sectors</td>\n      <td>1</td>\n      <td>All owners of respondent firms</td>\n      <td>0</td>\n      <td>All owners of respondent firms</td>\n      <td>O10</td>\n      <td>REASONOWN</td>\n      <td>OI1N</td>\n      <td>Flexible hours: Not important</td>\n      <td>2020</td>\n      <td>611324</td>\n      <td>17.4</td>\n      <td>REASONOWN</td>\n      <td>1</td>\n    </tr>\n    <tr>\n      <th>4</th>\n      <td>United States</td>\n      <td>00</td>\n      <td>Total for all sectors</td>\n      <td>1</td>\n      <td>All owners of respondent firms</td>\n      <td>0</td>\n      <td>All owners of respondent firms</td>\n      <td>O10</td>\n      <td>REASONOWN</td>\n      <td>OI1S</td>\n      <td>Flexible hours: Somewhat important</td>\n      <td>2020</td>\n      <td>998422</td>\n      <td>28.4</td>\n      <td>REASONOWN</td>\n      <td>1</td>\n    </tr>\n    <tr>\n      <th>5</th>\n      <td>United States</td>\n      <td>00</td>\n      <td>Total for all sectors</td>\n      <td>1</td>\n      <td>All owners of respondent firms</td>\n      <td>0</td>\n      <td>All owners of respondent firms</td>\n      <td>O10</td>\n      <td>REASONOWN</td>\n      <td>OI1V</td>\n      <td>Flexible hours: Very important</td>\n      <td>2020</td>\n      <td>1886208</td>\n      <td>53.7</td>\n      <td>REASONOWN</td>\n      <td>1</td>\n    </tr>\n    <tr>\n      <th>6</th>\n      <td>United States</td>\n      <td>00</td>\n      <td>Total for all sectors</td>\n      <td>1</td>\n      <td>All owners of respondent firms</td>\n      <td>0</td>\n      <td>All owners of respondent firms</td>\n      <td>O10</td>\n      <td>REASONOWN</td>\n      <td>OJ1N</td>\n      <td>Balance work and family: Not important</td>\n      <td>2020</td>\n      <td>481868</td>\n      <td>13.7</td>\n      <td>REASONOWN</td>\n      <td>1</td>\n    </tr>\n    <tr>\n      <th>7</th>\n      <td>United States</td>\n      <td>00</td>\n      <td>Total for all sectors</td>\n      <td>1</td>\n      <td>All owners of respondent firms</td>\n      <td>0</td>\n      <td>All owners of respondent firms</td>\n      <td>O10</td>\n      <td>REASONOWN</td>\n      <td>OJ1S</td>\n      <td>Balance work and family: Somewhat important</td>\n      <td>2020</td>\n      <td>1007595</td>\n      <td>28.7</td>\n      <td>REASONOWN</td>\n      <td>1</td>\n    </tr>\n    <tr>\n      <th>8</th>\n      <td>United States</td>\n      <td>00</td>\n      <td>Total for all sectors</td>\n      <td>1</td>\n      <td>All owners of respondent firms</td>\n      <td>0</td>\n      <td>All owners of respondent firms</td>\n      <td>O10</td>\n      <td>REASONOWN</td>\n      <td>OJ1V</td>\n      <td>Balance work and family: Very important</td>\n      <td>2020</td>\n      <td>2004609</td>\n      <td>57.1</td>\n      <td>REASONOWN</td>\n      <td>1</td>\n    </tr>\n    <tr>\n      <th>9</th>\n      <td>United States</td>\n      <td>00</td>\n      <td>Total for all sectors</td>\n      <td>1</td>\n      <td>All owners of respondent firms</td>\n      <td>0</td>\n      <td>All owners of respondent firms</td>\n      <td>O10</td>\n      <td>REASONOWN</td>\n      <td>OK1N</td>\n      <td>Greater income: Not important</td>\n      <td>2020</td>\n      <td>353955</td>\n      <td>10.1</td>\n      <td>REASONOWN</td>\n      <td>1</td>\n    </tr>\n  </tbody>\n</table>\n</div>"
     },
     "execution_count": 42,
     "metadata": {},
     "output_type": "execute_result"
    }
   ],
   "source": [
    "business_owners.head(10)"
   ],
   "metadata": {
    "collapsed": false,
    "pycharm": {
     "name": "#%%\n"
    }
   }
  },
  {
   "cell_type": "code",
   "execution_count": 43,
   "outputs": [
    {
     "name": "stdout",
     "output_type": "stream",
     "text": [
      "<class 'pandas.core.frame.DataFrame'>\n",
      "Int64Index: 238188 entries, 0 to 238187\n",
      "Data columns (total 16 columns):\n",
      " #   Column            Non-Null Count   Dtype  \n",
      "---  ------            --------------   -----  \n",
      " 0   NAME              238188 non-null  object \n",
      " 1   NAICS2017         238188 non-null  object \n",
      " 2   NAICS2017_LABEL   238188 non-null  object \n",
      " 3   OWNER_SEX         238188 non-null  int64  \n",
      " 4   OWNER_SEX_LABEL   238188 non-null  object \n",
      " 5   OWNER_RACE        238188 non-null  int64  \n",
      " 6   OWNER_RACE_LABEL  238188 non-null  object \n",
      " 7   QDESC             238188 non-null  object \n",
      " 8   QDESC_LABEL       238188 non-null  object \n",
      " 9   OWNCHAR           238188 non-null  object \n",
      " 10  OWNCHAR_LABEL     238188 non-null  object \n",
      " 11  YEAR              238188 non-null  int64  \n",
      " 12  OWNPDEMP          238188 non-null  int64  \n",
      " 13  OWNPDEMP_PCT      238188 non-null  float64\n",
      " 14  QDESC_LABEL.1     238188 non-null  object \n",
      " 15  us                238188 non-null  int64  \n",
      "dtypes: float64(1), int64(5), object(10)\n",
      "memory usage: 30.9+ MB\n"
     ]
    }
   ],
   "source": [
    "business_owners.info()"
   ],
   "metadata": {
    "collapsed": false,
    "pycharm": {
     "name": "#%%\n"
    }
   }
  },
  {
   "cell_type": "markdown",
   "source": [
    "# Filter 1: Race dataframe\n",
    "1. Create a subset of the dataframe by filtering OWNER_RACE_LABEL and OWNCHAR_LABEL\n",
    "2. Remove duplicates\n",
    "3. Group race dataframe by OWNER_RACE_LABEL AND OWNCHAR_LABEL and take the mean of demographic percent.\n",
    "4. The grouped data will be multiindexed so we use the unstack() method and droplevel() method to faltten our dataframe."
   ],
   "metadata": {
    "collapsed": false,
    "pycharm": {
     "name": "#%% md\n"
    }
   }
  },
  {
   "cell_type": "code",
   "execution_count": 44,
   "outputs": [],
   "source": [
    "race = business_owners[['OWNER_RACE_LABEL', 'OWNCHAR_LABEL', 'NAME', 'OWNPDEMP_PCT']]"
   ],
   "metadata": {
    "collapsed": false,
    "pycharm": {
     "name": "#%%\n"
    }
   }
  },
  {
   "cell_type": "code",
   "execution_count": 45,
   "outputs": [
    {
     "name": "stdout",
     "output_type": "stream",
     "text": [
      "<class 'pandas.core.frame.DataFrame'>\n",
      "Int64Index: 238188 entries, 0 to 238187\n",
      "Data columns (total 4 columns):\n",
      " #   Column            Non-Null Count   Dtype  \n",
      "---  ------            --------------   -----  \n",
      " 0   OWNER_RACE_LABEL  238188 non-null  object \n",
      " 1   OWNCHAR_LABEL     238188 non-null  object \n",
      " 2   NAME              238188 non-null  object \n",
      " 3   OWNPDEMP_PCT      238188 non-null  float64\n",
      "dtypes: float64(1), object(3)\n",
      "memory usage: 9.1+ MB\n"
     ]
    }
   ],
   "source": [
    "race.info()"
   ],
   "metadata": {
    "collapsed": false,
    "pycharm": {
     "name": "#%%\n"
    }
   }
  },
  {
   "cell_type": "code",
   "execution_count": 46,
   "outputs": [],
   "source": [
    "race = race[(race['OWNER_RACE_LABEL'] != 'All owners of respondent firms') & (race['OWNER_RACE_LABEL'] != 'Minority') & (race['OWNER_RACE_LABEL'] != 'Nonminority')]"
   ],
   "metadata": {
    "collapsed": false,
    "pycharm": {
     "name": "#%%\n"
    }
   }
  },
  {
   "cell_type": "code",
   "execution_count": 47,
   "outputs": [],
   "source": [
    "race = race[race['OWNCHAR_LABEL'] != 'Total reporting']"
   ],
   "metadata": {
    "collapsed": false,
    "pycharm": {
     "name": "#%%\n"
    }
   }
  },
  {
   "cell_type": "code",
   "execution_count": 48,
   "outputs": [
    {
     "data": {
      "text/plain": "White                                         40159\nAsian                                         28799\nBlack or African American                     20684\nAmerican Indian and Alaska Native             17507\nNative Hawaiian and Other Pacific Islander     9670\nName: OWNER_RACE_LABEL, dtype: int64"
     },
     "execution_count": 48,
     "metadata": {},
     "output_type": "execute_result"
    }
   ],
   "source": [
    "race['OWNER_RACE_LABEL'].value_counts()"
   ],
   "metadata": {
    "collapsed": false,
    "pycharm": {
     "name": "#%%\n"
    }
   }
  },
  {
   "cell_type": "code",
   "execution_count": 49,
   "outputs": [
    {
     "data": {
      "text/plain": "(116819, 4)"
     },
     "execution_count": 49,
     "metadata": {},
     "output_type": "execute_result"
    }
   ],
   "source": [
    "race.shape"
   ],
   "metadata": {
    "collapsed": false,
    "pycharm": {
     "name": "#%%\n"
    }
   }
  },
  {
   "cell_type": "code",
   "execution_count": 50,
   "outputs": [],
   "source": [
    "race.drop_duplicates(inplace=True)"
   ],
   "metadata": {
    "collapsed": false,
    "pycharm": {
     "name": "#%%\n"
    }
   }
  },
  {
   "cell_type": "code",
   "execution_count": 51,
   "outputs": [
    {
     "data": {
      "text/plain": "White                                         12557\nAsian                                         11867\nBlack or African American                      9443\nAmerican Indian and Alaska Native              8461\nNative Hawaiian and Other Pacific Islander     4363\nName: OWNER_RACE_LABEL, dtype: int64"
     },
     "execution_count": 51,
     "metadata": {},
     "output_type": "execute_result"
    }
   ],
   "source": [
    "race['OWNER_RACE_LABEL'].value_counts()"
   ],
   "metadata": {
    "collapsed": false,
    "pycharm": {
     "name": "#%%\n"
    }
   }
  },
  {
   "cell_type": "code",
   "execution_count": 52,
   "outputs": [
    {
     "data": {
      "text/plain": "200.0"
     },
     "execution_count": 52,
     "metadata": {},
     "output_type": "execute_result"
    }
   ],
   "source": [
    "race['OWNPDEMP_PCT'].max()"
   ],
   "metadata": {
    "collapsed": false,
    "pycharm": {
     "name": "#%%\n"
    }
   }
  },
  {
   "cell_type": "code",
   "execution_count": 53,
   "outputs": [
    {
     "name": "stderr",
     "output_type": "stream",
     "text": [
      "C:\\Users\\shane\\AppData\\Local\\Temp\\ipykernel_652112\\1747430129.py:1: FutureWarning:\n",
      "\n",
      "The default value of numeric_only in DataFrameGroupBy.mean is deprecated. In a future version, numeric_only will default to False. Either specify numeric_only or select only columns which should be valid for the function.\n",
      "\n"
     ]
    }
   ],
   "source": [
    "race_filtered = race.groupby(['OWNER_RACE_LABEL','OWNCHAR_LABEL']).mean()"
   ],
   "metadata": {
    "collapsed": false,
    "pycharm": {
     "name": "#%%\n"
    }
   }
  },
  {
   "cell_type": "code",
   "execution_count": 54,
   "outputs": [
    {
     "data": {
      "text/plain": "(185, 1)"
     },
     "execution_count": 54,
     "metadata": {},
     "output_type": "execute_result"
    }
   ],
   "source": [
    "race_filtered.shape"
   ],
   "metadata": {
    "collapsed": false,
    "pycharm": {
     "name": "#%%\n"
    }
   }
  },
  {
   "cell_type": "code",
   "execution_count": 55,
   "outputs": [
    {
     "data": {
      "text/plain": "       OWNPDEMP_PCT\ncount    185.000000\nmean      35.941784\nstd       15.735067\nmin        0.000000\n25%       25.700000\n50%       33.403704\n75%       45.749286\nmax       78.583916",
      "text/html": "<div>\n<style scoped>\n    .dataframe tbody tr th:only-of-type {\n        vertical-align: middle;\n    }\n\n    .dataframe tbody tr th {\n        vertical-align: top;\n    }\n\n    .dataframe thead th {\n        text-align: right;\n    }\n</style>\n<table border=\"1\" class=\"dataframe\">\n  <thead>\n    <tr style=\"text-align: right;\">\n      <th></th>\n      <th>OWNPDEMP_PCT</th>\n    </tr>\n  </thead>\n  <tbody>\n    <tr>\n      <th>count</th>\n      <td>185.000000</td>\n    </tr>\n    <tr>\n      <th>mean</th>\n      <td>35.941784</td>\n    </tr>\n    <tr>\n      <th>std</th>\n      <td>15.735067</td>\n    </tr>\n    <tr>\n      <th>min</th>\n      <td>0.000000</td>\n    </tr>\n    <tr>\n      <th>25%</th>\n      <td>25.700000</td>\n    </tr>\n    <tr>\n      <th>50%</th>\n      <td>33.403704</td>\n    </tr>\n    <tr>\n      <th>75%</th>\n      <td>45.749286</td>\n    </tr>\n    <tr>\n      <th>max</th>\n      <td>78.583916</td>\n    </tr>\n  </tbody>\n</table>\n</div>"
     },
     "execution_count": 55,
     "metadata": {},
     "output_type": "execute_result"
    }
   ],
   "source": [
    "race_filtered.describe()"
   ],
   "metadata": {
    "collapsed": false,
    "pycharm": {
     "name": "#%%\n"
    }
   }
  },
  {
   "cell_type": "code",
   "execution_count": 56,
   "outputs": [],
   "source": [
    "race_pivot =race_filtered.unstack().T.droplevel(level=0)"
   ],
   "metadata": {
    "collapsed": false,
    "pycharm": {
     "name": "#%%\n"
    }
   }
  },
  {
   "cell_type": "code",
   "execution_count": 57,
   "outputs": [],
   "source": [
    "race_pivot.reset_index(inplace=True)"
   ],
   "metadata": {
    "collapsed": false,
    "pycharm": {
     "name": "#%%\n"
    }
   }
  },
  {
   "cell_type": "code",
   "execution_count": 58,
   "outputs": [],
   "source": [
    "race_pivot.rename(index={'OWNER_RACE_LABEL': 'index'},inplace =True)"
   ],
   "metadata": {
    "collapsed": false,
    "pycharm": {
     "name": "#%%\n"
    }
   }
  },
  {
   "cell_type": "code",
   "execution_count": 59,
   "outputs": [
    {
     "data": {
      "text/plain": "Index(['OWNCHAR_LABEL', 'American Indian and Alaska Native', 'Asian',\n       'Black or African American',\n       'Native Hawaiian and Other Pacific Islander', 'White'],\n      dtype='object', name='OWNER_RACE_LABEL')"
     },
     "execution_count": 59,
     "metadata": {},
     "output_type": "execute_result"
    }
   ],
   "source": [
    "race_pivot.columns"
   ],
   "metadata": {
    "collapsed": false,
    "pycharm": {
     "name": "#%%\n"
    }
   }
  },
  {
   "cell_type": "markdown",
   "source": [
    "# Filter 2: Race dataframe\n",
    "1. We need to create a column for our answer and question to create a treemap. So using the split function to create 2 new columns\n",
    "2. Create a copy of the dataframe called very_important_answers\n",
    "3. We with use pandas melt function to label each value.\n",
    "4. We will have 1 null value and need to drop it using dropna().\n"
   ],
   "metadata": {
    "collapsed": false,
    "pycharm": {
     "name": "#%% md\n"
    }
   }
  },
  {
   "cell_type": "code",
   "execution_count": 60,
   "outputs": [
    {
     "data": {
      "text/plain": "OWNER_RACE_LABEL                                OWNCHAR_LABEL  \\\n0                      Balance work and family: Not important   \n1                 Balance work and family: Somewhat important   \n2                     Balance work and family: Very important   \n3                        Best avenue for ideas: Not important   \n4                   Best avenue for ideas: Somewhat important   \n\nOWNER_RACE_LABEL  American Indian and Alaska Native      Asian  \\\n0                                         23.231443  20.289773   \n1                                         31.358403  33.831915   \n2                                         58.491860  55.249614   \n3                                         26.423786  18.628295   \n4                                         34.491915  33.801466   \n\nOWNER_RACE_LABEL  Black or African American  \\\n0                                 19.590863   \n1                                 29.983696   \n2                                 59.988487   \n3                                 20.560476   \n4                                 32.008029   \n\nOWNER_RACE_LABEL  Native Hawaiian and Other Pacific Islander      White  \\\n0                                                  34.012381  24.782263   \n1                                                  29.741803  32.412849   \n2                                                  56.182432  49.316307   \n3                                                  35.075000  25.458402   \n4                                                  29.368182  32.064545   \n\nOWNER_RACE_LABEL                 Question               Answer  \n0                 Balance work and family        Not important  \n1                 Balance work and family   Somewhat important  \n2                 Balance work and family       Very important  \n3                   Best avenue for ideas        Not important  \n4                   Best avenue for ideas   Somewhat important  ",
      "text/html": "<div>\n<style scoped>\n    .dataframe tbody tr th:only-of-type {\n        vertical-align: middle;\n    }\n\n    .dataframe tbody tr th {\n        vertical-align: top;\n    }\n\n    .dataframe thead th {\n        text-align: right;\n    }\n</style>\n<table border=\"1\" class=\"dataframe\">\n  <thead>\n    <tr style=\"text-align: right;\">\n      <th>OWNER_RACE_LABEL</th>\n      <th>OWNCHAR_LABEL</th>\n      <th>American Indian and Alaska Native</th>\n      <th>Asian</th>\n      <th>Black or African American</th>\n      <th>Native Hawaiian and Other Pacific Islander</th>\n      <th>White</th>\n      <th>Question</th>\n      <th>Answer</th>\n    </tr>\n  </thead>\n  <tbody>\n    <tr>\n      <th>0</th>\n      <td>Balance work and family: Not important</td>\n      <td>23.231443</td>\n      <td>20.289773</td>\n      <td>19.590863</td>\n      <td>34.012381</td>\n      <td>24.782263</td>\n      <td>Balance work and family</td>\n      <td>Not important</td>\n    </tr>\n    <tr>\n      <th>1</th>\n      <td>Balance work and family: Somewhat important</td>\n      <td>31.358403</td>\n      <td>33.831915</td>\n      <td>29.983696</td>\n      <td>29.741803</td>\n      <td>32.412849</td>\n      <td>Balance work and family</td>\n      <td>Somewhat important</td>\n    </tr>\n    <tr>\n      <th>2</th>\n      <td>Balance work and family: Very important</td>\n      <td>58.491860</td>\n      <td>55.249614</td>\n      <td>59.988487</td>\n      <td>56.182432</td>\n      <td>49.316307</td>\n      <td>Balance work and family</td>\n      <td>Very important</td>\n    </tr>\n    <tr>\n      <th>3</th>\n      <td>Best avenue for ideas: Not important</td>\n      <td>26.423786</td>\n      <td>18.628295</td>\n      <td>20.560476</td>\n      <td>35.075000</td>\n      <td>25.458402</td>\n      <td>Best avenue for ideas</td>\n      <td>Not important</td>\n    </tr>\n    <tr>\n      <th>4</th>\n      <td>Best avenue for ideas: Somewhat important</td>\n      <td>34.491915</td>\n      <td>33.801466</td>\n      <td>32.008029</td>\n      <td>29.368182</td>\n      <td>32.064545</td>\n      <td>Best avenue for ideas</td>\n      <td>Somewhat important</td>\n    </tr>\n  </tbody>\n</table>\n</div>"
     },
     "execution_count": 60,
     "metadata": {},
     "output_type": "execute_result"
    }
   ],
   "source": [
    "race_pivot[['Question', 'Answer']] =race_pivot['OWNCHAR_LABEL'].str.split(':', expand =True)\n",
    "race_pivot.head()"
   ],
   "metadata": {
    "collapsed": false,
    "pycharm": {
     "name": "#%%\n"
    }
   }
  },
  {
   "cell_type": "code",
   "execution_count": 61,
   "outputs": [],
   "source": [
    "race_pivot.drop(['OWNCHAR_LABEL',], axis=1, inplace=True)"
   ],
   "metadata": {
    "collapsed": false,
    "pycharm": {
     "name": "#%%\n"
    }
   }
  },
  {
   "cell_type": "code",
   "execution_count": 62,
   "outputs": [],
   "source": [
    "race_pivot = race_pivot[['Question','Answer','White','Black or African American','Native Hawaiian and Other Pacific Islander','Asian','American Indian and Alaska Native']]"
   ],
   "metadata": {
    "collapsed": false,
    "pycharm": {
     "name": "#%%\n"
    }
   }
  },
  {
   "cell_type": "code",
   "execution_count": 63,
   "outputs": [],
   "source": [
    "very_important_answers =race_pivot #[race_pivot['Answer'] == ' Very important']"
   ],
   "metadata": {
    "collapsed": false,
    "pycharm": {
     "name": "#%%\n"
    }
   }
  },
  {
   "cell_type": "code",
   "execution_count": 64,
   "outputs": [
    {
     "data": {
      "text/plain": "OWNER_RACE_LABEL                 Question               Answer      White  \\\n0                 Balance work and family        Not important  24.782263   \n1                 Balance work and family   Somewhat important  32.412849   \n2                 Balance work and family       Very important  49.316307   \n3                   Best avenue for ideas        Not important  25.458402   \n4                   Best avenue for ideas   Somewhat important  32.064545   \n\nOWNER_RACE_LABEL  Black or African American  \\\n0                                 19.590863   \n1                                 29.983696   \n2                                 59.988487   \n3                                 20.560476   \n4                                 32.008029   \n\nOWNER_RACE_LABEL  Native Hawaiian and Other Pacific Islander      Asian  \\\n0                                                  34.012381  20.289773   \n1                                                  29.741803  33.831915   \n2                                                  56.182432  55.249614   \n3                                                  35.075000  18.628295   \n4                                                  29.368182  33.801466   \n\nOWNER_RACE_LABEL  American Indian and Alaska Native  \n0                                         23.231443  \n1                                         31.358403  \n2                                         58.491860  \n3                                         26.423786  \n4                                         34.491915  ",
      "text/html": "<div>\n<style scoped>\n    .dataframe tbody tr th:only-of-type {\n        vertical-align: middle;\n    }\n\n    .dataframe tbody tr th {\n        vertical-align: top;\n    }\n\n    .dataframe thead th {\n        text-align: right;\n    }\n</style>\n<table border=\"1\" class=\"dataframe\">\n  <thead>\n    <tr style=\"text-align: right;\">\n      <th>OWNER_RACE_LABEL</th>\n      <th>Question</th>\n      <th>Answer</th>\n      <th>White</th>\n      <th>Black or African American</th>\n      <th>Native Hawaiian and Other Pacific Islander</th>\n      <th>Asian</th>\n      <th>American Indian and Alaska Native</th>\n    </tr>\n  </thead>\n  <tbody>\n    <tr>\n      <th>0</th>\n      <td>Balance work and family</td>\n      <td>Not important</td>\n      <td>24.782263</td>\n      <td>19.590863</td>\n      <td>34.012381</td>\n      <td>20.289773</td>\n      <td>23.231443</td>\n    </tr>\n    <tr>\n      <th>1</th>\n      <td>Balance work and family</td>\n      <td>Somewhat important</td>\n      <td>32.412849</td>\n      <td>29.983696</td>\n      <td>29.741803</td>\n      <td>33.831915</td>\n      <td>31.358403</td>\n    </tr>\n    <tr>\n      <th>2</th>\n      <td>Balance work and family</td>\n      <td>Very important</td>\n      <td>49.316307</td>\n      <td>59.988487</td>\n      <td>56.182432</td>\n      <td>55.249614</td>\n      <td>58.491860</td>\n    </tr>\n    <tr>\n      <th>3</th>\n      <td>Best avenue for ideas</td>\n      <td>Not important</td>\n      <td>25.458402</td>\n      <td>20.560476</td>\n      <td>35.075000</td>\n      <td>18.628295</td>\n      <td>26.423786</td>\n    </tr>\n    <tr>\n      <th>4</th>\n      <td>Best avenue for ideas</td>\n      <td>Somewhat important</td>\n      <td>32.064545</td>\n      <td>32.008029</td>\n      <td>29.368182</td>\n      <td>33.801466</td>\n      <td>34.491915</td>\n    </tr>\n  </tbody>\n</table>\n</div>"
     },
     "execution_count": 64,
     "metadata": {},
     "output_type": "execute_result"
    }
   ],
   "source": [
    "very_important_answers.head()"
   ],
   "metadata": {
    "collapsed": false,
    "pycharm": {
     "name": "#%%\n"
    }
   }
  },
  {
   "cell_type": "code",
   "execution_count": 65,
   "outputs": [],
   "source": [
    "very_important_answers = pd.melt(very_important_answers,id_vars=['Question','Answer'])"
   ],
   "metadata": {
    "collapsed": false,
    "pycharm": {
     "name": "#%%\n"
    }
   }
  },
  {
   "cell_type": "code",
   "execution_count": 66,
   "outputs": [
    {
     "data": {
      "text/plain": "                  Question               Answer OWNER_RACE_LABEL      value\n0  Balance work and family        Not important            White  24.782263\n1  Balance work and family   Somewhat important            White  32.412849\n2  Balance work and family       Very important            White  49.316307\n3    Best avenue for ideas        Not important            White  25.458402\n4    Best avenue for ideas   Somewhat important            White  32.064545",
      "text/html": "<div>\n<style scoped>\n    .dataframe tbody tr th:only-of-type {\n        vertical-align: middle;\n    }\n\n    .dataframe tbody tr th {\n        vertical-align: top;\n    }\n\n    .dataframe thead th {\n        text-align: right;\n    }\n</style>\n<table border=\"1\" class=\"dataframe\">\n  <thead>\n    <tr style=\"text-align: right;\">\n      <th></th>\n      <th>Question</th>\n      <th>Answer</th>\n      <th>OWNER_RACE_LABEL</th>\n      <th>value</th>\n    </tr>\n  </thead>\n  <tbody>\n    <tr>\n      <th>0</th>\n      <td>Balance work and family</td>\n      <td>Not important</td>\n      <td>White</td>\n      <td>24.782263</td>\n    </tr>\n    <tr>\n      <th>1</th>\n      <td>Balance work and family</td>\n      <td>Somewhat important</td>\n      <td>White</td>\n      <td>32.412849</td>\n    </tr>\n    <tr>\n      <th>2</th>\n      <td>Balance work and family</td>\n      <td>Very important</td>\n      <td>White</td>\n      <td>49.316307</td>\n    </tr>\n    <tr>\n      <th>3</th>\n      <td>Best avenue for ideas</td>\n      <td>Not important</td>\n      <td>White</td>\n      <td>25.458402</td>\n    </tr>\n    <tr>\n      <th>4</th>\n      <td>Best avenue for ideas</td>\n      <td>Somewhat important</td>\n      <td>White</td>\n      <td>32.064545</td>\n    </tr>\n  </tbody>\n</table>\n</div>"
     },
     "execution_count": 66,
     "metadata": {},
     "output_type": "execute_result"
    }
   ],
   "source": [
    "very_important_answers.dropna(inplace=True)\n",
    "very_important_answers.head()"
   ],
   "metadata": {
    "collapsed": false,
    "pycharm": {
     "name": "#%%\n"
    }
   }
  },
  {
   "cell_type": "code",
   "execution_count": 67,
   "outputs": [],
   "source": [
    "import plotly.express as px\n"
   ],
   "metadata": {
    "collapsed": false,
    "pycharm": {
     "name": "#%%\n"
    }
   }
  },
  {
   "cell_type": "code",
   "execution_count": 68,
   "outputs": [
    {
     "data": {
      "application/vnd.plotly.v1+json": {
       "data": [
        {
         "branchvalues": "total",
         "customdata": [
          [
           23.231443298969065
          ],
          [
           26.42378640776699
          ],
          [
           61.36060606060607
          ],
          [
           68.34180327868853
          ],
          [
           25.272602739726025
          ],
          [
           45.74928571428571
          ],
          [
           21.911290322580644
          ],
          [
           41.26541353383459
          ],
          [
           68.3551724137931
          ],
          [
           29.96726457399103
          ],
          [
           24.575510204081635
          ],
          [
           37.830681818181816
          ],
          [
           20.289772727272727
          ],
          [
           18.628294573643412
          ],
          [
           54.61009389671362
          ],
          [
           60.235433070866144
          ],
          [
           20.668941979522184
          ],
          [
           37.13532608695652
          ],
          [
           15.719469026548673
          ],
          [
           34.70333333333333
          ],
          [
           72.14635761589405
          ],
          [
           23.01884984025559
          ],
          [
           19.42615384615385
          ],
          [
           32.61144578313253
          ],
          [
           19.59086294416244
          ],
          [
           20.56047619047619
          ],
          [
           64.53869863013698
          ],
          [
           68.63682310469315
          ],
          [
           23.070762711864408
          ],
          [
           42.13953488372093
          ],
          [
           16.971751412429377
          ],
          [
           33.403703703703705
          ],
          [
           72.48418972332016
          ],
          [
           23.80779220779221
          ],
          [
           18.88556701030928
          ],
          [
           35.72979452054795
          ],
          [
           34.01238095238095
          ],
          [
           35.075
          ],
          [
           57.56277372262774
          ],
          [
           65.70538461538462
          ],
          [
           35.93839285714286
          ],
          [
           51.427464788732394
          ],
          [
           30.563157894736843
          ],
          [
           40.837671232876716
          ],
          [
           66.15777777777777
          ],
          [
           39.33790322580645
          ],
          [
           29.77358490566038
          ],
          [
           43.61716417910448
          ],
          [
           24.782262996941895
          ],
          [
           25.45840220385675
          ],
          [
           60.16601731601732
          ],
          [
           78.58391608391608
          ],
          [
           26.771875000000005
          ],
          [
           47.088617886178874
          ],
          [
           21.290220820189276
          ],
          [
           44.16252927400469
          ],
          [
           75.86156583629892
          ],
          [
           33.72358974358975
          ],
          [
           23.899154929577467
          ],
          [
           38.95177664974619
          ],
          [
           31.35840336134454
          ],
          [
           34.49191489361702
          ],
          [
           24.146632124352333
          ],
          [
           24.677835051546392
          ],
          [
           31.90460251046025
          ],
          [
           30.60702479338843
          ],
          [
           29.97991452991453
          ],
          [
           37.277042801556426
          ],
          [
           19.052
          ],
          [
           33.88483606557377
          ],
          [
           31.060714285714287
          ],
          [
           41.61773584905661
          ],
          [
           33.831914893617025
          ],
          [
           33.80146627565982
          ],
          [
           27.17582089552239
          ],
          [
           28.99700598802395
          ],
          [
           32.75994318181818
          ],
          [
           35.599714285714285
          ],
          [
           32.63765060240964
          ],
          [
           40.10517711171662
          ],
          [
           16.248497854077254
          ],
          [
           33.52638036809816
          ],
          [
           31.6658064516129
          ],
          [
           39.87147058823529
          ],
          [
           29.983695652173914
          ],
          [
           32.0080291970803
          ],
          [
           21.846666666666668
          ],
          [
           21.71497797356828
          ],
          [
           30.112549019607844
          ],
          [
           27.81111111111111
          ],
          [
           30.803831417624522
          ],
          [
           35.73854166666667
          ],
          [
           15.445394736842104
          ],
          [
           32.023828125
          ],
          [
           29.2668
          ],
          [
           36.36363636363637
          ],
          [
           29.741803278688526
          ],
          [
           29.368181818181817
          ],
          [
           24.54954128440367
          ],
          [
           25.7
          ],
          [
           29.885344827586206
          ],
          [
           32.137068965517244
          ],
          [
           29.077586206896548
          ],
          [
           36.430952380952384
          ],
          [
           17.715584415584413
          ],
          [
           31.546774193548387
          ],
          [
           31.533333333333335
          ],
          [
           34.69469696969697
          ],
          [
           32.41284916201117
          ],
          [
           32.06454545454545
          ],
          [
           18.82607003891051
          ],
          [
           16.54100418410042
          ],
          [
           32.86129032258065
          ],
          [
           27.720261437908494
          ],
          [
           31.16816901408451
          ],
          [
           34.05346820809248
          ],
          [
           11.558959537572255
          ],
          [
           32.67706422018348
          ],
          [
           29.045238095238098
          ],
          [
           34.67754491017964
          ],
          [
           58.491860465116275
          ],
          [
           54.11083032490975
          ],
          [
           27.62626728110599
          ],
          [
           18.582634730538924
          ],
          [
           55.422878228782295
          ],
          [
           36.93181818181818
          ],
          [
           60.47490636704119
          ],
          [
           34.47898832684825
          ],
          [
           21.81683673469388
          ],
          [
           49.34981412639405
          ],
          [
           59.748327137546475
          ],
          [
           34.57644787644787
          ],
          [
           55.24961439588689
          ],
          [
           56.1755376344086
          ],
          [
           26.22567975830816
          ],
          [
           18.321428571428573
          ],
          [
           55.026881720430104
          ],
          [
           35.173669467787114
          ],
          [
           59.88719346049046
          ],
          [
           34.488736263736264
          ],
          [
           17.936929460580913
          ],
          [
           52.33509234828496
          ],
          [
           57.99429347826087
          ],
          [
           35.33918128654971
          ],
          [
           59.98848684210526
          ],
          [
           57.80444444444446
          ],
          [
           24.715789473684215
          ],
          [
           20.048113207547168
          ],
          [
           57.17648902821316
          ],
          [
           39.401760563380286
          ],
          [
           61.77311475409836
          ],
          [
           41.26780185758514
          ],
          [
           20.2542600896861
          ],
          [
           55.951692307692305
          ],
          [
           61.740802675585286
          ],
          [
           38.48092105263158
          ],
          [
           56.182432432432435
          ],
          [
           51.78832116788321
          ],
          [
           35.91192660550459
          ],
          [
           29.801234567901236
          ],
          [
           52.266666666666666
          ],
          [
           33.93863636363636
          ],
          [
           57.938167938931294
          ],
          [
           36.77301587301587
          ],
          [
           30.305882352941175
          ],
          [
           48.679432624113474
          ],
          [
           54.5863309352518
          ],
          [
           38.74172661870504
          ],
          [
           49.31630695443646
          ],
          [
           48.464035087719296
          ],
          [
           27.542028985507244
          ],
          [
           10.392121212121213
          ],
          [
           46.07447795823666
          ],
          [
           29.224355300859596
          ],
          [
           54.096659242761696
          ],
          [
           26.379564032697544
          ],
          [
           14.63153153153153
          ],
          [
           38.52370203160271
          ],
          [
           53.65337690631809
          ],
          [
           30.215877437325904
          ],
          [
           43.7236692430932
          ],
          [
           41.867650632544375
          ],
          [
           45.18020052418525
          ],
          [
           50.401410092067195
          ],
          [
           41.99200742720636
          ],
          [
           38.78381923253398
          ],
          [
           44.81879958526321
          ],
          [
           37.879651273124715
          ],
          [
           50.459443008863545
          ],
          [
           39.58964143683994
          ],
          [
           44.53443894344769
          ],
          [
           38.22611104165804
          ],
          [
           42.13896285956775
          ],
          [
           42.77179451165112
          ],
          [
           40.81574662316207
          ],
          [
           44.673507371368665
          ],
          [
           41.753213147618766
          ],
          [
           35.98930179389626
          ],
          [
           45.2568245303348
          ],
          [
           36.61775227824132
          ],
          [
           54.460141358582646
          ],
          [
           40.34565122979887
          ],
          [
           43.48335984905276
          ],
          [
           36.19015379684363
          ],
          [
           44.55373114110124
          ],
          [
           43.385638592425906
          ],
          [
           47.28475347961949
          ],
          [
           50.58410265630054
          ],
          [
           42.66206141864223
          ],
          [
           37.50897822958624
          ],
          [
           46.12409087339709
          ],
          [
           37.09881803858779
          ],
          [
           54.56224129180354
          ],
          [
           42.250746539185364
          ],
          [
           45.72747289872236
          ],
          [
           36.89565870987368
          ],
          [
           43.338579817757235
          ],
          [
           41.07987778722996
          ],
          [
           44.10805184858983
          ],
          [
           48.39505621682727
          ],
          [
           41.63341118244215
          ],
          [
           41.10022197417075
          ],
          [
           43.68507800502398
          ],
          [
           38.119272917032056
          ],
          [
           49.12574101499811
          ],
          [
           41.08554608102154
          ],
          [
           41.939328035499
          ],
          [
           39.35889944181141
          ],
          [
           38.463964857248506
          ],
          [
           37.97662609761319
          ],
          [
           44.42646239534624
          ],
          [
           62.141932505036095
          ],
          [
           37.078257448161786
          ],
          [
           36.90949132948195
          ],
          [
           40.8350128987758
          ],
          [
           36.38633448986026
          ],
          [
           59.799563249777776
          ],
          [
           35.16005997336062
          ],
          [
           40.27739340684332
          ],
          [
           34.98257319120627
          ],
          [
           42.49031833662354
          ],
          [
           41.43936515444943
          ],
          [
           44.38201798180043
          ],
          [
           51.120028732143126
          ],
          [
           41.06674333811821
          ],
          [
           38.12492249742948
          ],
          [
           44.15599559720206
          ],
          [
           37.239420607696424
          ],
          [
           53.552489616382196
          ],
          [
           39.75775567288858
          ],
          [
           43.20896031539604
          ],
          [
           37.1944044934954
          ],
          [
           42.793252548564524
          ]
         ],
         "domain": {
          "x": [
           0.0,
           1.0
          ],
          "y": [
           0.0,
           1.0
          ]
         },
         "hovertemplate": "labels=%{label}<br>value_sum=%{value}<br>parent=%{parent}<br>id=%{id}<br>value=%{color}<extra></extra>",
         "ids": [
          "How important is/Balance work and family/American Indian and Alaska Native/ Not important",
          "How important is/Best avenue for ideas/American Indian and Alaska Native/ Not important",
          "How important is/Carry on family business/American Indian and Alaska Native/ Not important",
          "How important is/Couldn't find a job/American Indian and Alaska Native/ Not important",
          "How important is/Flexible hours/American Indian and Alaska Native/ Not important",
          "How important is/Friend or family role model/American Indian and Alaska Native/ Not important",
          "How important is/Greater income/American Indian and Alaska Native/ Not important",
          "How important is/Help my community/American Indian and Alaska Native/ Not important",
          "How important is/Other/American Indian and Alaska Native/ Not important",
          "How important is/Start my own business/American Indian and Alaska Native/ Not important",
          "How important is/Wanted to be my own boss/American Indian and Alaska Native/ Not important",
          "How important is/Work for self/American Indian and Alaska Native/ Not important",
          "How important is/Balance work and family/Asian/ Not important",
          "How important is/Best avenue for ideas/Asian/ Not important",
          "How important is/Carry on family business/Asian/ Not important",
          "How important is/Couldn't find a job/Asian/ Not important",
          "How important is/Flexible hours/Asian/ Not important",
          "How important is/Friend or family role model/Asian/ Not important",
          "How important is/Greater income/Asian/ Not important",
          "How important is/Help my community/Asian/ Not important",
          "How important is/Other/Asian/ Not important",
          "How important is/Start my own business/Asian/ Not important",
          "How important is/Wanted to be my own boss/Asian/ Not important",
          "How important is/Work for self/Asian/ Not important",
          "How important is/Balance work and family/Black or African American/ Not important",
          "How important is/Best avenue for ideas/Black or African American/ Not important",
          "How important is/Carry on family business/Black or African American/ Not important",
          "How important is/Couldn't find a job/Black or African American/ Not important",
          "How important is/Flexible hours/Black or African American/ Not important",
          "How important is/Friend or family role model/Black or African American/ Not important",
          "How important is/Greater income/Black or African American/ Not important",
          "How important is/Help my community/Black or African American/ Not important",
          "How important is/Other/Black or African American/ Not important",
          "How important is/Start my own business/Black or African American/ Not important",
          "How important is/Wanted to be my own boss/Black or African American/ Not important",
          "How important is/Work for self/Black or African American/ Not important",
          "How important is/Balance work and family/Native Hawaiian and Other Pacific Islander/ Not important",
          "How important is/Best avenue for ideas/Native Hawaiian and Other Pacific Islander/ Not important",
          "How important is/Carry on family business/Native Hawaiian and Other Pacific Islander/ Not important",
          "How important is/Couldn't find a job/Native Hawaiian and Other Pacific Islander/ Not important",
          "How important is/Flexible hours/Native Hawaiian and Other Pacific Islander/ Not important",
          "How important is/Friend or family role model/Native Hawaiian and Other Pacific Islander/ Not important",
          "How important is/Greater income/Native Hawaiian and Other Pacific Islander/ Not important",
          "How important is/Help my community/Native Hawaiian and Other Pacific Islander/ Not important",
          "How important is/Other/Native Hawaiian and Other Pacific Islander/ Not important",
          "How important is/Start my own business/Native Hawaiian and Other Pacific Islander/ Not important",
          "How important is/Wanted to be my own boss/Native Hawaiian and Other Pacific Islander/ Not important",
          "How important is/Work for self/Native Hawaiian and Other Pacific Islander/ Not important",
          "How important is/Balance work and family/White/ Not important",
          "How important is/Best avenue for ideas/White/ Not important",
          "How important is/Carry on family business/White/ Not important",
          "How important is/Couldn't find a job/White/ Not important",
          "How important is/Flexible hours/White/ Not important",
          "How important is/Friend or family role model/White/ Not important",
          "How important is/Greater income/White/ Not important",
          "How important is/Help my community/White/ Not important",
          "How important is/Other/White/ Not important",
          "How important is/Start my own business/White/ Not important",
          "How important is/Wanted to be my own boss/White/ Not important",
          "How important is/Work for self/White/ Not important",
          "How important is/Balance work and family/American Indian and Alaska Native/ Somewhat important",
          "How important is/Best avenue for ideas/American Indian and Alaska Native/ Somewhat important",
          "How important is/Carry on family business/American Indian and Alaska Native/ Somewhat important",
          "How important is/Couldn't find a job/American Indian and Alaska Native/ Somewhat important",
          "How important is/Flexible hours/American Indian and Alaska Native/ Somewhat important",
          "How important is/Friend or family role model/American Indian and Alaska Native/ Somewhat important",
          "How important is/Greater income/American Indian and Alaska Native/ Somewhat important",
          "How important is/Help my community/American Indian and Alaska Native/ Somewhat important",
          "How important is/Other/American Indian and Alaska Native/ Somewhat important",
          "How important is/Start my own business/American Indian and Alaska Native/ Somewhat important",
          "How important is/Wanted to be my own boss/American Indian and Alaska Native/ Somewhat important",
          "How important is/Work for self/American Indian and Alaska Native/ Somewhat important",
          "How important is/Balance work and family/Asian/ Somewhat important",
          "How important is/Best avenue for ideas/Asian/ Somewhat important",
          "How important is/Carry on family business/Asian/ Somewhat important",
          "How important is/Couldn't find a job/Asian/ Somewhat important",
          "How important is/Flexible hours/Asian/ Somewhat important",
          "How important is/Friend or family role model/Asian/ Somewhat important",
          "How important is/Greater income/Asian/ Somewhat important",
          "How important is/Help my community/Asian/ Somewhat important",
          "How important is/Other/Asian/ Somewhat important",
          "How important is/Start my own business/Asian/ Somewhat important",
          "How important is/Wanted to be my own boss/Asian/ Somewhat important",
          "How important is/Work for self/Asian/ Somewhat important",
          "How important is/Balance work and family/Black or African American/ Somewhat important",
          "How important is/Best avenue for ideas/Black or African American/ Somewhat important",
          "How important is/Carry on family business/Black or African American/ Somewhat important",
          "How important is/Couldn't find a job/Black or African American/ Somewhat important",
          "How important is/Flexible hours/Black or African American/ Somewhat important",
          "How important is/Friend or family role model/Black or African American/ Somewhat important",
          "How important is/Greater income/Black or African American/ Somewhat important",
          "How important is/Help my community/Black or African American/ Somewhat important",
          "How important is/Other/Black or African American/ Somewhat important",
          "How important is/Start my own business/Black or African American/ Somewhat important",
          "How important is/Wanted to be my own boss/Black or African American/ Somewhat important",
          "How important is/Work for self/Black or African American/ Somewhat important",
          "How important is/Balance work and family/Native Hawaiian and Other Pacific Islander/ Somewhat important",
          "How important is/Best avenue for ideas/Native Hawaiian and Other Pacific Islander/ Somewhat important",
          "How important is/Carry on family business/Native Hawaiian and Other Pacific Islander/ Somewhat important",
          "How important is/Couldn't find a job/Native Hawaiian and Other Pacific Islander/ Somewhat important",
          "How important is/Flexible hours/Native Hawaiian and Other Pacific Islander/ Somewhat important",
          "How important is/Friend or family role model/Native Hawaiian and Other Pacific Islander/ Somewhat important",
          "How important is/Greater income/Native Hawaiian and Other Pacific Islander/ Somewhat important",
          "How important is/Help my community/Native Hawaiian and Other Pacific Islander/ Somewhat important",
          "How important is/Other/Native Hawaiian and Other Pacific Islander/ Somewhat important",
          "How important is/Start my own business/Native Hawaiian and Other Pacific Islander/ Somewhat important",
          "How important is/Wanted to be my own boss/Native Hawaiian and Other Pacific Islander/ Somewhat important",
          "How important is/Work for self/Native Hawaiian and Other Pacific Islander/ Somewhat important",
          "How important is/Balance work and family/White/ Somewhat important",
          "How important is/Best avenue for ideas/White/ Somewhat important",
          "How important is/Carry on family business/White/ Somewhat important",
          "How important is/Couldn't find a job/White/ Somewhat important",
          "How important is/Flexible hours/White/ Somewhat important",
          "How important is/Friend or family role model/White/ Somewhat important",
          "How important is/Greater income/White/ Somewhat important",
          "How important is/Help my community/White/ Somewhat important",
          "How important is/Other/White/ Somewhat important",
          "How important is/Start my own business/White/ Somewhat important",
          "How important is/Wanted to be my own boss/White/ Somewhat important",
          "How important is/Work for self/White/ Somewhat important",
          "How important is/Balance work and family/American Indian and Alaska Native/ Very important",
          "How important is/Best avenue for ideas/American Indian and Alaska Native/ Very important",
          "How important is/Carry on family business/American Indian and Alaska Native/ Very important",
          "How important is/Couldn't find a job/American Indian and Alaska Native/ Very important",
          "How important is/Flexible hours/American Indian and Alaska Native/ Very important",
          "How important is/Friend or family role model/American Indian and Alaska Native/ Very important",
          "How important is/Greater income/American Indian and Alaska Native/ Very important",
          "How important is/Help my community/American Indian and Alaska Native/ Very important",
          "How important is/Other/American Indian and Alaska Native/ Very important",
          "How important is/Start my own business/American Indian and Alaska Native/ Very important",
          "How important is/Wanted to be my own boss/American Indian and Alaska Native/ Very important",
          "How important is/Work for self/American Indian and Alaska Native/ Very important",
          "How important is/Balance work and family/Asian/ Very important",
          "How important is/Best avenue for ideas/Asian/ Very important",
          "How important is/Carry on family business/Asian/ Very important",
          "How important is/Couldn't find a job/Asian/ Very important",
          "How important is/Flexible hours/Asian/ Very important",
          "How important is/Friend or family role model/Asian/ Very important",
          "How important is/Greater income/Asian/ Very important",
          "How important is/Help my community/Asian/ Very important",
          "How important is/Other/Asian/ Very important",
          "How important is/Start my own business/Asian/ Very important",
          "How important is/Wanted to be my own boss/Asian/ Very important",
          "How important is/Work for self/Asian/ Very important",
          "How important is/Balance work and family/Black or African American/ Very important",
          "How important is/Best avenue for ideas/Black or African American/ Very important",
          "How important is/Carry on family business/Black or African American/ Very important",
          "How important is/Couldn't find a job/Black or African American/ Very important",
          "How important is/Flexible hours/Black or African American/ Very important",
          "How important is/Friend or family role model/Black or African American/ Very important",
          "How important is/Greater income/Black or African American/ Very important",
          "How important is/Help my community/Black or African American/ Very important",
          "How important is/Other/Black or African American/ Very important",
          "How important is/Start my own business/Black or African American/ Very important",
          "How important is/Wanted to be my own boss/Black or African American/ Very important",
          "How important is/Work for self/Black or African American/ Very important",
          "How important is/Balance work and family/Native Hawaiian and Other Pacific Islander/ Very important",
          "How important is/Best avenue for ideas/Native Hawaiian and Other Pacific Islander/ Very important",
          "How important is/Carry on family business/Native Hawaiian and Other Pacific Islander/ Very important",
          "How important is/Couldn't find a job/Native Hawaiian and Other Pacific Islander/ Very important",
          "How important is/Flexible hours/Native Hawaiian and Other Pacific Islander/ Very important",
          "How important is/Friend or family role model/Native Hawaiian and Other Pacific Islander/ Very important",
          "How important is/Greater income/Native Hawaiian and Other Pacific Islander/ Very important",
          "How important is/Help my community/Native Hawaiian and Other Pacific Islander/ Very important",
          "How important is/Other/Native Hawaiian and Other Pacific Islander/ Very important",
          "How important is/Start my own business/Native Hawaiian and Other Pacific Islander/ Very important",
          "How important is/Wanted to be my own boss/Native Hawaiian and Other Pacific Islander/ Very important",
          "How important is/Work for self/Native Hawaiian and Other Pacific Islander/ Very important",
          "How important is/Balance work and family/White/ Very important",
          "How important is/Best avenue for ideas/White/ Very important",
          "How important is/Carry on family business/White/ Very important",
          "How important is/Couldn't find a job/White/ Very important",
          "How important is/Flexible hours/White/ Very important",
          "How important is/Friend or family role model/White/ Very important",
          "How important is/Greater income/White/ Very important",
          "How important is/Help my community/White/ Very important",
          "How important is/Other/White/ Very important",
          "How important is/Start my own business/White/ Very important",
          "How important is/Wanted to be my own boss/White/ Very important",
          "How important is/Work for self/White/ Very important",
          "How important is/Balance work and family/American Indian and Alaska Native",
          "How important is/Best avenue for ideas/American Indian and Alaska Native",
          "How important is/Carry on family business/American Indian and Alaska Native",
          "How important is/Couldn't find a job/American Indian and Alaska Native",
          "How important is/Flexible hours/American Indian and Alaska Native",
          "How important is/Friend or family role model/American Indian and Alaska Native",
          "How important is/Greater income/American Indian and Alaska Native",
          "How important is/Help my community/American Indian and Alaska Native",
          "How important is/Other/American Indian and Alaska Native",
          "How important is/Start my own business/American Indian and Alaska Native",
          "How important is/Wanted to be my own boss/American Indian and Alaska Native",
          "How important is/Work for self/American Indian and Alaska Native",
          "How important is/Balance work and family/Asian",
          "How important is/Best avenue for ideas/Asian",
          "How important is/Carry on family business/Asian",
          "How important is/Couldn't find a job/Asian",
          "How important is/Flexible hours/Asian",
          "How important is/Friend or family role model/Asian",
          "How important is/Greater income/Asian",
          "How important is/Help my community/Asian",
          "How important is/Other/Asian",
          "How important is/Start my own business/Asian",
          "How important is/Wanted to be my own boss/Asian",
          "How important is/Work for self/Asian",
          "How important is/Balance work and family/Black or African American",
          "How important is/Best avenue for ideas/Black or African American",
          "How important is/Carry on family business/Black or African American",
          "How important is/Couldn't find a job/Black or African American",
          "How important is/Flexible hours/Black or African American",
          "How important is/Friend or family role model/Black or African American",
          "How important is/Greater income/Black or African American",
          "How important is/Help my community/Black or African American",
          "How important is/Other/Black or African American",
          "How important is/Start my own business/Black or African American",
          "How important is/Wanted to be my own boss/Black or African American",
          "How important is/Work for self/Black or African American",
          "How important is/Balance work and family/Native Hawaiian and Other Pacific Islander",
          "How important is/Best avenue for ideas/Native Hawaiian and Other Pacific Islander",
          "How important is/Carry on family business/Native Hawaiian and Other Pacific Islander",
          "How important is/Couldn't find a job/Native Hawaiian and Other Pacific Islander",
          "How important is/Flexible hours/Native Hawaiian and Other Pacific Islander",
          "How important is/Friend or family role model/Native Hawaiian and Other Pacific Islander",
          "How important is/Greater income/Native Hawaiian and Other Pacific Islander",
          "How important is/Help my community/Native Hawaiian and Other Pacific Islander",
          "How important is/Other/Native Hawaiian and Other Pacific Islander",
          "How important is/Start my own business/Native Hawaiian and Other Pacific Islander",
          "How important is/Wanted to be my own boss/Native Hawaiian and Other Pacific Islander",
          "How important is/Work for self/Native Hawaiian and Other Pacific Islander",
          "How important is/Balance work and family/White",
          "How important is/Best avenue for ideas/White",
          "How important is/Carry on family business/White",
          "How important is/Couldn't find a job/White",
          "How important is/Flexible hours/White",
          "How important is/Friend or family role model/White",
          "How important is/Greater income/White",
          "How important is/Help my community/White",
          "How important is/Other/White",
          "How important is/Start my own business/White",
          "How important is/Wanted to be my own boss/White",
          "How important is/Work for self/White",
          "How important is/Balance work and family",
          "How important is/Best avenue for ideas",
          "How important is/Carry on family business",
          "How important is/Couldn't find a job",
          "How important is/Flexible hours",
          "How important is/Friend or family role model",
          "How important is/Greater income",
          "How important is/Help my community",
          "How important is/Other",
          "How important is/Start my own business",
          "How important is/Wanted to be my own boss",
          "How important is/Work for self",
          "How important is"
         ],
         "labels": [
          " Not important",
          " Not important",
          " Not important",
          " Not important",
          " Not important",
          " Not important",
          " Not important",
          " Not important",
          " Not important",
          " Not important",
          " Not important",
          " Not important",
          " Not important",
          " Not important",
          " Not important",
          " Not important",
          " Not important",
          " Not important",
          " Not important",
          " Not important",
          " Not important",
          " Not important",
          " Not important",
          " Not important",
          " Not important",
          " Not important",
          " Not important",
          " Not important",
          " Not important",
          " Not important",
          " Not important",
          " Not important",
          " Not important",
          " Not important",
          " Not important",
          " Not important",
          " Not important",
          " Not important",
          " Not important",
          " Not important",
          " Not important",
          " Not important",
          " Not important",
          " Not important",
          " Not important",
          " Not important",
          " Not important",
          " Not important",
          " Not important",
          " Not important",
          " Not important",
          " Not important",
          " Not important",
          " Not important",
          " Not important",
          " Not important",
          " Not important",
          " Not important",
          " Not important",
          " Not important",
          " Somewhat important",
          " Somewhat important",
          " Somewhat important",
          " Somewhat important",
          " Somewhat important",
          " Somewhat important",
          " Somewhat important",
          " Somewhat important",
          " Somewhat important",
          " Somewhat important",
          " Somewhat important",
          " Somewhat important",
          " Somewhat important",
          " Somewhat important",
          " Somewhat important",
          " Somewhat important",
          " Somewhat important",
          " Somewhat important",
          " Somewhat important",
          " Somewhat important",
          " Somewhat important",
          " Somewhat important",
          " Somewhat important",
          " Somewhat important",
          " Somewhat important",
          " Somewhat important",
          " Somewhat important",
          " Somewhat important",
          " Somewhat important",
          " Somewhat important",
          " Somewhat important",
          " Somewhat important",
          " Somewhat important",
          " Somewhat important",
          " Somewhat important",
          " Somewhat important",
          " Somewhat important",
          " Somewhat important",
          " Somewhat important",
          " Somewhat important",
          " Somewhat important",
          " Somewhat important",
          " Somewhat important",
          " Somewhat important",
          " Somewhat important",
          " Somewhat important",
          " Somewhat important",
          " Somewhat important",
          " Somewhat important",
          " Somewhat important",
          " Somewhat important",
          " Somewhat important",
          " Somewhat important",
          " Somewhat important",
          " Somewhat important",
          " Somewhat important",
          " Somewhat important",
          " Somewhat important",
          " Somewhat important",
          " Somewhat important",
          " Very important",
          " Very important",
          " Very important",
          " Very important",
          " Very important",
          " Very important",
          " Very important",
          " Very important",
          " Very important",
          " Very important",
          " Very important",
          " Very important",
          " Very important",
          " Very important",
          " Very important",
          " Very important",
          " Very important",
          " Very important",
          " Very important",
          " Very important",
          " Very important",
          " Very important",
          " Very important",
          " Very important",
          " Very important",
          " Very important",
          " Very important",
          " Very important",
          " Very important",
          " Very important",
          " Very important",
          " Very important",
          " Very important",
          " Very important",
          " Very important",
          " Very important",
          " Very important",
          " Very important",
          " Very important",
          " Very important",
          " Very important",
          " Very important",
          " Very important",
          " Very important",
          " Very important",
          " Very important",
          " Very important",
          " Very important",
          " Very important",
          " Very important",
          " Very important",
          " Very important",
          " Very important",
          " Very important",
          " Very important",
          " Very important",
          " Very important",
          " Very important",
          " Very important",
          " Very important",
          "American Indian and Alaska Native",
          "American Indian and Alaska Native",
          "American Indian and Alaska Native",
          "American Indian and Alaska Native",
          "American Indian and Alaska Native",
          "American Indian and Alaska Native",
          "American Indian and Alaska Native",
          "American Indian and Alaska Native",
          "American Indian and Alaska Native",
          "American Indian and Alaska Native",
          "American Indian and Alaska Native",
          "American Indian and Alaska Native",
          "Asian",
          "Asian",
          "Asian",
          "Asian",
          "Asian",
          "Asian",
          "Asian",
          "Asian",
          "Asian",
          "Asian",
          "Asian",
          "Asian",
          "Black or African American",
          "Black or African American",
          "Black or African American",
          "Black or African American",
          "Black or African American",
          "Black or African American",
          "Black or African American",
          "Black or African American",
          "Black or African American",
          "Black or African American",
          "Black or African American",
          "Black or African American",
          "Native Hawaiian and Other Pacific Islander",
          "Native Hawaiian and Other Pacific Islander",
          "Native Hawaiian and Other Pacific Islander",
          "Native Hawaiian and Other Pacific Islander",
          "Native Hawaiian and Other Pacific Islander",
          "Native Hawaiian and Other Pacific Islander",
          "Native Hawaiian and Other Pacific Islander",
          "Native Hawaiian and Other Pacific Islander",
          "Native Hawaiian and Other Pacific Islander",
          "Native Hawaiian and Other Pacific Islander",
          "Native Hawaiian and Other Pacific Islander",
          "Native Hawaiian and Other Pacific Islander",
          "White",
          "White",
          "White",
          "White",
          "White",
          "White",
          "White",
          "White",
          "White",
          "White",
          "White",
          "White",
          "Balance work and family",
          "Best avenue for ideas",
          "Carry on family business",
          "Couldn't find a job",
          "Flexible hours",
          "Friend or family role model",
          "Greater income",
          "Help my community",
          "Other",
          "Start my own business",
          "Wanted to be my own boss",
          "Work for self",
          "How important is"
         ],
         "marker": {
          "coloraxis": "coloraxis",
          "colors": [
           23.231443298969065,
           26.42378640776699,
           61.36060606060607,
           68.34180327868853,
           25.272602739726025,
           45.74928571428571,
           21.911290322580644,
           41.26541353383459,
           68.3551724137931,
           29.96726457399103,
           24.575510204081635,
           37.830681818181816,
           20.289772727272727,
           18.628294573643412,
           54.61009389671362,
           60.235433070866144,
           20.668941979522184,
           37.13532608695652,
           15.719469026548673,
           34.70333333333333,
           72.14635761589405,
           23.01884984025559,
           19.42615384615385,
           32.61144578313253,
           19.59086294416244,
           20.56047619047619,
           64.53869863013698,
           68.63682310469315,
           23.070762711864408,
           42.13953488372093,
           16.971751412429377,
           33.403703703703705,
           72.48418972332016,
           23.80779220779221,
           18.88556701030928,
           35.72979452054795,
           34.01238095238095,
           35.075,
           57.56277372262774,
           65.70538461538462,
           35.93839285714286,
           51.427464788732394,
           30.563157894736843,
           40.837671232876716,
           66.15777777777777,
           39.33790322580645,
           29.77358490566038,
           43.61716417910448,
           24.782262996941895,
           25.45840220385675,
           60.16601731601732,
           78.58391608391608,
           26.771875000000005,
           47.088617886178874,
           21.290220820189276,
           44.16252927400469,
           75.86156583629892,
           33.72358974358975,
           23.899154929577467,
           38.95177664974619,
           31.35840336134454,
           34.49191489361702,
           24.146632124352333,
           24.677835051546392,
           31.90460251046025,
           30.60702479338843,
           29.97991452991453,
           37.277042801556426,
           19.052,
           33.88483606557377,
           31.060714285714287,
           41.61773584905661,
           33.831914893617025,
           33.80146627565982,
           27.17582089552239,
           28.99700598802395,
           32.75994318181818,
           35.599714285714285,
           32.63765060240964,
           40.10517711171662,
           16.248497854077254,
           33.52638036809816,
           31.6658064516129,
           39.87147058823529,
           29.983695652173914,
           32.0080291970803,
           21.846666666666668,
           21.71497797356828,
           30.112549019607844,
           27.81111111111111,
           30.803831417624522,
           35.73854166666667,
           15.445394736842104,
           32.023828125,
           29.2668,
           36.36363636363637,
           29.741803278688526,
           29.368181818181817,
           24.54954128440367,
           25.7,
           29.885344827586206,
           32.137068965517244,
           29.077586206896548,
           36.430952380952384,
           17.715584415584413,
           31.546774193548387,
           31.533333333333335,
           34.69469696969697,
           32.41284916201117,
           32.06454545454545,
           18.82607003891051,
           16.54100418410042,
           32.86129032258065,
           27.720261437908494,
           31.16816901408451,
           34.05346820809248,
           11.558959537572255,
           32.67706422018348,
           29.045238095238098,
           34.67754491017964,
           58.491860465116275,
           54.11083032490975,
           27.62626728110599,
           18.582634730538924,
           55.422878228782295,
           36.93181818181818,
           60.47490636704119,
           34.47898832684825,
           21.81683673469388,
           49.34981412639405,
           59.748327137546475,
           34.57644787644787,
           55.24961439588689,
           56.1755376344086,
           26.22567975830816,
           18.321428571428573,
           55.026881720430104,
           35.173669467787114,
           59.88719346049046,
           34.488736263736264,
           17.936929460580913,
           52.33509234828496,
           57.99429347826087,
           35.33918128654971,
           59.98848684210526,
           57.80444444444446,
           24.715789473684215,
           20.048113207547168,
           57.17648902821316,
           39.401760563380286,
           61.77311475409836,
           41.26780185758514,
           20.2542600896861,
           55.951692307692305,
           61.740802675585286,
           38.48092105263158,
           56.182432432432435,
           51.78832116788321,
           35.91192660550459,
           29.801234567901236,
           52.266666666666666,
           33.93863636363636,
           57.938167938931294,
           36.77301587301587,
           30.305882352941175,
           48.679432624113474,
           54.5863309352518,
           38.74172661870504,
           49.31630695443646,
           48.464035087719296,
           27.542028985507244,
           10.392121212121213,
           46.07447795823666,
           29.224355300859596,
           54.096659242761696,
           26.379564032697544,
           14.63153153153153,
           38.52370203160271,
           53.65337690631809,
           30.215877437325904,
           43.7236692430932,
           41.867650632544375,
           45.18020052418525,
           50.401410092067195,
           41.99200742720636,
           38.78381923253398,
           44.81879958526321,
           37.879651273124715,
           50.459443008863545,
           39.58964143683994,
           44.53443894344769,
           38.22611104165804,
           42.13896285956775,
           42.77179451165112,
           40.81574662316207,
           44.673507371368665,
           41.753213147618766,
           35.98930179389626,
           45.2568245303348,
           36.61775227824132,
           54.460141358582646,
           40.34565122979887,
           43.48335984905276,
           36.19015379684363,
           44.55373114110124,
           43.385638592425906,
           47.28475347961949,
           50.58410265630054,
           42.66206141864223,
           37.50897822958624,
           46.12409087339709,
           37.09881803858779,
           54.56224129180354,
           42.250746539185364,
           45.72747289872236,
           36.89565870987368,
           43.338579817757235,
           41.07987778722996,
           44.10805184858983,
           48.39505621682727,
           41.63341118244215,
           41.10022197417075,
           43.68507800502398,
           38.119272917032056,
           49.12574101499811,
           41.08554608102154,
           41.939328035499,
           39.35889944181141,
           38.463964857248506,
           37.97662609761319,
           44.42646239534624,
           62.141932505036095,
           37.078257448161786,
           36.90949132948195,
           40.8350128987758,
           36.38633448986026,
           59.799563249777776,
           35.16005997336062,
           40.27739340684332,
           34.98257319120627,
           42.49031833662354,
           41.43936515444943,
           44.38201798180043,
           51.120028732143126,
           41.06674333811821,
           38.12492249742948,
           44.15599559720206,
           37.239420607696424,
           53.552489616382196,
           39.75775567288858,
           43.20896031539604,
           37.1944044934954,
           42.793252548564524
          ]
         },
         "name": "",
         "parents": [
          "How important is/Balance work and family/American Indian and Alaska Native",
          "How important is/Best avenue for ideas/American Indian and Alaska Native",
          "How important is/Carry on family business/American Indian and Alaska Native",
          "How important is/Couldn't find a job/American Indian and Alaska Native",
          "How important is/Flexible hours/American Indian and Alaska Native",
          "How important is/Friend or family role model/American Indian and Alaska Native",
          "How important is/Greater income/American Indian and Alaska Native",
          "How important is/Help my community/American Indian and Alaska Native",
          "How important is/Other/American Indian and Alaska Native",
          "How important is/Start my own business/American Indian and Alaska Native",
          "How important is/Wanted to be my own boss/American Indian and Alaska Native",
          "How important is/Work for self/American Indian and Alaska Native",
          "How important is/Balance work and family/Asian",
          "How important is/Best avenue for ideas/Asian",
          "How important is/Carry on family business/Asian",
          "How important is/Couldn't find a job/Asian",
          "How important is/Flexible hours/Asian",
          "How important is/Friend or family role model/Asian",
          "How important is/Greater income/Asian",
          "How important is/Help my community/Asian",
          "How important is/Other/Asian",
          "How important is/Start my own business/Asian",
          "How important is/Wanted to be my own boss/Asian",
          "How important is/Work for self/Asian",
          "How important is/Balance work and family/Black or African American",
          "How important is/Best avenue for ideas/Black or African American",
          "How important is/Carry on family business/Black or African American",
          "How important is/Couldn't find a job/Black or African American",
          "How important is/Flexible hours/Black or African American",
          "How important is/Friend or family role model/Black or African American",
          "How important is/Greater income/Black or African American",
          "How important is/Help my community/Black or African American",
          "How important is/Other/Black or African American",
          "How important is/Start my own business/Black or African American",
          "How important is/Wanted to be my own boss/Black or African American",
          "How important is/Work for self/Black or African American",
          "How important is/Balance work and family/Native Hawaiian and Other Pacific Islander",
          "How important is/Best avenue for ideas/Native Hawaiian and Other Pacific Islander",
          "How important is/Carry on family business/Native Hawaiian and Other Pacific Islander",
          "How important is/Couldn't find a job/Native Hawaiian and Other Pacific Islander",
          "How important is/Flexible hours/Native Hawaiian and Other Pacific Islander",
          "How important is/Friend or family role model/Native Hawaiian and Other Pacific Islander",
          "How important is/Greater income/Native Hawaiian and Other Pacific Islander",
          "How important is/Help my community/Native Hawaiian and Other Pacific Islander",
          "How important is/Other/Native Hawaiian and Other Pacific Islander",
          "How important is/Start my own business/Native Hawaiian and Other Pacific Islander",
          "How important is/Wanted to be my own boss/Native Hawaiian and Other Pacific Islander",
          "How important is/Work for self/Native Hawaiian and Other Pacific Islander",
          "How important is/Balance work and family/White",
          "How important is/Best avenue for ideas/White",
          "How important is/Carry on family business/White",
          "How important is/Couldn't find a job/White",
          "How important is/Flexible hours/White",
          "How important is/Friend or family role model/White",
          "How important is/Greater income/White",
          "How important is/Help my community/White",
          "How important is/Other/White",
          "How important is/Start my own business/White",
          "How important is/Wanted to be my own boss/White",
          "How important is/Work for self/White",
          "How important is/Balance work and family/American Indian and Alaska Native",
          "How important is/Best avenue for ideas/American Indian and Alaska Native",
          "How important is/Carry on family business/American Indian and Alaska Native",
          "How important is/Couldn't find a job/American Indian and Alaska Native",
          "How important is/Flexible hours/American Indian and Alaska Native",
          "How important is/Friend or family role model/American Indian and Alaska Native",
          "How important is/Greater income/American Indian and Alaska Native",
          "How important is/Help my community/American Indian and Alaska Native",
          "How important is/Other/American Indian and Alaska Native",
          "How important is/Start my own business/American Indian and Alaska Native",
          "How important is/Wanted to be my own boss/American Indian and Alaska Native",
          "How important is/Work for self/American Indian and Alaska Native",
          "How important is/Balance work and family/Asian",
          "How important is/Best avenue for ideas/Asian",
          "How important is/Carry on family business/Asian",
          "How important is/Couldn't find a job/Asian",
          "How important is/Flexible hours/Asian",
          "How important is/Friend or family role model/Asian",
          "How important is/Greater income/Asian",
          "How important is/Help my community/Asian",
          "How important is/Other/Asian",
          "How important is/Start my own business/Asian",
          "How important is/Wanted to be my own boss/Asian",
          "How important is/Work for self/Asian",
          "How important is/Balance work and family/Black or African American",
          "How important is/Best avenue for ideas/Black or African American",
          "How important is/Carry on family business/Black or African American",
          "How important is/Couldn't find a job/Black or African American",
          "How important is/Flexible hours/Black or African American",
          "How important is/Friend or family role model/Black or African American",
          "How important is/Greater income/Black or African American",
          "How important is/Help my community/Black or African American",
          "How important is/Other/Black or African American",
          "How important is/Start my own business/Black or African American",
          "How important is/Wanted to be my own boss/Black or African American",
          "How important is/Work for self/Black or African American",
          "How important is/Balance work and family/Native Hawaiian and Other Pacific Islander",
          "How important is/Best avenue for ideas/Native Hawaiian and Other Pacific Islander",
          "How important is/Carry on family business/Native Hawaiian and Other Pacific Islander",
          "How important is/Couldn't find a job/Native Hawaiian and Other Pacific Islander",
          "How important is/Flexible hours/Native Hawaiian and Other Pacific Islander",
          "How important is/Friend or family role model/Native Hawaiian and Other Pacific Islander",
          "How important is/Greater income/Native Hawaiian and Other Pacific Islander",
          "How important is/Help my community/Native Hawaiian and Other Pacific Islander",
          "How important is/Other/Native Hawaiian and Other Pacific Islander",
          "How important is/Start my own business/Native Hawaiian and Other Pacific Islander",
          "How important is/Wanted to be my own boss/Native Hawaiian and Other Pacific Islander",
          "How important is/Work for self/Native Hawaiian and Other Pacific Islander",
          "How important is/Balance work and family/White",
          "How important is/Best avenue for ideas/White",
          "How important is/Carry on family business/White",
          "How important is/Couldn't find a job/White",
          "How important is/Flexible hours/White",
          "How important is/Friend or family role model/White",
          "How important is/Greater income/White",
          "How important is/Help my community/White",
          "How important is/Other/White",
          "How important is/Start my own business/White",
          "How important is/Wanted to be my own boss/White",
          "How important is/Work for self/White",
          "How important is/Balance work and family/American Indian and Alaska Native",
          "How important is/Best avenue for ideas/American Indian and Alaska Native",
          "How important is/Carry on family business/American Indian and Alaska Native",
          "How important is/Couldn't find a job/American Indian and Alaska Native",
          "How important is/Flexible hours/American Indian and Alaska Native",
          "How important is/Friend or family role model/American Indian and Alaska Native",
          "How important is/Greater income/American Indian and Alaska Native",
          "How important is/Help my community/American Indian and Alaska Native",
          "How important is/Other/American Indian and Alaska Native",
          "How important is/Start my own business/American Indian and Alaska Native",
          "How important is/Wanted to be my own boss/American Indian and Alaska Native",
          "How important is/Work for self/American Indian and Alaska Native",
          "How important is/Balance work and family/Asian",
          "How important is/Best avenue for ideas/Asian",
          "How important is/Carry on family business/Asian",
          "How important is/Couldn't find a job/Asian",
          "How important is/Flexible hours/Asian",
          "How important is/Friend or family role model/Asian",
          "How important is/Greater income/Asian",
          "How important is/Help my community/Asian",
          "How important is/Other/Asian",
          "How important is/Start my own business/Asian",
          "How important is/Wanted to be my own boss/Asian",
          "How important is/Work for self/Asian",
          "How important is/Balance work and family/Black or African American",
          "How important is/Best avenue for ideas/Black or African American",
          "How important is/Carry on family business/Black or African American",
          "How important is/Couldn't find a job/Black or African American",
          "How important is/Flexible hours/Black or African American",
          "How important is/Friend or family role model/Black or African American",
          "How important is/Greater income/Black or African American",
          "How important is/Help my community/Black or African American",
          "How important is/Other/Black or African American",
          "How important is/Start my own business/Black or African American",
          "How important is/Wanted to be my own boss/Black or African American",
          "How important is/Work for self/Black or African American",
          "How important is/Balance work and family/Native Hawaiian and Other Pacific Islander",
          "How important is/Best avenue for ideas/Native Hawaiian and Other Pacific Islander",
          "How important is/Carry on family business/Native Hawaiian and Other Pacific Islander",
          "How important is/Couldn't find a job/Native Hawaiian and Other Pacific Islander",
          "How important is/Flexible hours/Native Hawaiian and Other Pacific Islander",
          "How important is/Friend or family role model/Native Hawaiian and Other Pacific Islander",
          "How important is/Greater income/Native Hawaiian and Other Pacific Islander",
          "How important is/Help my community/Native Hawaiian and Other Pacific Islander",
          "How important is/Other/Native Hawaiian and Other Pacific Islander",
          "How important is/Start my own business/Native Hawaiian and Other Pacific Islander",
          "How important is/Wanted to be my own boss/Native Hawaiian and Other Pacific Islander",
          "How important is/Work for self/Native Hawaiian and Other Pacific Islander",
          "How important is/Balance work and family/White",
          "How important is/Best avenue for ideas/White",
          "How important is/Carry on family business/White",
          "How important is/Couldn't find a job/White",
          "How important is/Flexible hours/White",
          "How important is/Friend or family role model/White",
          "How important is/Greater income/White",
          "How important is/Help my community/White",
          "How important is/Other/White",
          "How important is/Start my own business/White",
          "How important is/Wanted to be my own boss/White",
          "How important is/Work for self/White",
          "How important is/Balance work and family",
          "How important is/Best avenue for ideas",
          "How important is/Carry on family business",
          "How important is/Couldn't find a job",
          "How important is/Flexible hours",
          "How important is/Friend or family role model",
          "How important is/Greater income",
          "How important is/Help my community",
          "How important is/Other",
          "How important is/Start my own business",
          "How important is/Wanted to be my own boss",
          "How important is/Work for self",
          "How important is/Balance work and family",
          "How important is/Best avenue for ideas",
          "How important is/Carry on family business",
          "How important is/Couldn't find a job",
          "How important is/Flexible hours",
          "How important is/Friend or family role model",
          "How important is/Greater income",
          "How important is/Help my community",
          "How important is/Other",
          "How important is/Start my own business",
          "How important is/Wanted to be my own boss",
          "How important is/Work for self",
          "How important is/Balance work and family",
          "How important is/Best avenue for ideas",
          "How important is/Carry on family business",
          "How important is/Couldn't find a job",
          "How important is/Flexible hours",
          "How important is/Friend or family role model",
          "How important is/Greater income",
          "How important is/Help my community",
          "How important is/Other",
          "How important is/Start my own business",
          "How important is/Wanted to be my own boss",
          "How important is/Work for self",
          "How important is/Balance work and family",
          "How important is/Best avenue for ideas",
          "How important is/Carry on family business",
          "How important is/Couldn't find a job",
          "How important is/Flexible hours",
          "How important is/Friend or family role model",
          "How important is/Greater income",
          "How important is/Help my community",
          "How important is/Other",
          "How important is/Start my own business",
          "How important is/Wanted to be my own boss",
          "How important is/Work for self",
          "How important is/Balance work and family",
          "How important is/Best avenue for ideas",
          "How important is/Carry on family business",
          "How important is/Couldn't find a job",
          "How important is/Flexible hours",
          "How important is/Friend or family role model",
          "How important is/Greater income",
          "How important is/Help my community",
          "How important is/Other",
          "How important is/Start my own business",
          "How important is/Wanted to be my own boss",
          "How important is/Work for self",
          "How important is",
          "How important is",
          "How important is",
          "How important is",
          "How important is",
          "How important is",
          "How important is",
          "How important is",
          "How important is",
          "How important is",
          "How important is",
          "How important is",
          ""
         ],
         "values": [
          23.23144329896907,
          26.42378640776699,
          61.36060606060607,
          68.34180327868853,
          25.272602739726025,
          45.74928571428571,
          21.911290322580644,
          41.26541353383459,
          68.3551724137931,
          29.96726457399103,
          24.575510204081635,
          37.830681818181816,
          20.289772727272727,
          18.628294573643412,
          54.61009389671362,
          60.235433070866144,
          20.668941979522184,
          37.13532608695652,
          15.719469026548673,
          34.70333333333333,
          72.14635761589405,
          23.01884984025559,
          19.42615384615385,
          32.61144578313253,
          19.59086294416244,
          20.56047619047619,
          64.53869863013698,
          68.63682310469315,
          23.070762711864408,
          42.13953488372093,
          16.971751412429377,
          33.403703703703705,
          72.48418972332016,
          23.80779220779221,
          18.88556701030928,
          35.72979452054795,
          34.01238095238095,
          35.075,
          57.56277372262774,
          65.70538461538462,
          35.93839285714286,
          51.427464788732394,
          30.563157894736843,
          40.837671232876716,
          66.15777777777777,
          39.33790322580645,
          29.77358490566038,
          43.61716417910448,
          24.782262996941895,
          25.45840220385675,
          60.16601731601732,
          78.58391608391608,
          26.771875,
          47.08861788617887,
          21.290220820189276,
          44.16252927400469,
          75.86156583629892,
          33.72358974358975,
          23.899154929577467,
          38.95177664974619,
          31.35840336134454,
          34.49191489361702,
          24.146632124352333,
          24.677835051546392,
          31.90460251046025,
          30.60702479338843,
          29.97991452991453,
          37.277042801556426,
          19.052,
          33.88483606557377,
          31.060714285714287,
          41.61773584905661,
          33.831914893617025,
          33.80146627565982,
          27.17582089552239,
          28.99700598802395,
          32.75994318181818,
          35.599714285714285,
          32.63765060240964,
          40.10517711171662,
          16.248497854077254,
          33.52638036809816,
          31.6658064516129,
          39.87147058823529,
          29.983695652173914,
          32.0080291970803,
          21.846666666666668,
          21.71497797356828,
          30.112549019607844,
          27.81111111111111,
          30.803831417624522,
          35.73854166666667,
          15.445394736842104,
          32.023828125,
          29.2668,
          36.36363636363637,
          29.741803278688526,
          29.368181818181817,
          24.54954128440367,
          25.7,
          29.885344827586206,
          32.137068965517244,
          29.07758620689655,
          36.430952380952384,
          17.715584415584413,
          31.546774193548387,
          31.533333333333335,
          34.69469696969697,
          32.41284916201117,
          32.06454545454545,
          18.82607003891051,
          16.54100418410042,
          32.86129032258065,
          27.720261437908494,
          31.16816901408451,
          34.05346820809248,
          11.558959537572255,
          32.67706422018348,
          29.045238095238098,
          34.67754491017964,
          58.491860465116275,
          54.11083032490975,
          27.62626728110599,
          18.582634730538924,
          55.42287822878229,
          36.93181818181818,
          60.47490636704119,
          34.47898832684825,
          21.81683673469388,
          49.34981412639405,
          59.74832713754647,
          34.57644787644787,
          55.24961439588689,
          56.1755376344086,
          26.22567975830816,
          18.321428571428573,
          55.026881720430104,
          35.173669467787114,
          59.88719346049046,
          34.488736263736264,
          17.936929460580913,
          52.33509234828496,
          57.99429347826087,
          35.33918128654971,
          59.98848684210526,
          57.80444444444445,
          24.71578947368421,
          20.048113207547168,
          57.17648902821316,
          39.401760563380286,
          61.77311475409836,
          41.26780185758514,
          20.2542600896861,
          55.951692307692305,
          61.740802675585286,
          38.48092105263158,
          56.182432432432435,
          51.78832116788321,
          35.91192660550459,
          29.801234567901236,
          52.266666666666666,
          33.93863636363636,
          57.938167938931294,
          36.77301587301587,
          30.305882352941175,
          48.679432624113474,
          54.5863309352518,
          38.74172661870504,
          49.316306954436456,
          48.464035087719296,
          27.542028985507244,
          10.392121212121213,
          46.074477958236656,
          29.224355300859596,
          54.096659242761696,
          26.379564032697544,
          14.63153153153153,
          38.52370203160271,
          53.65337690631809,
          30.215877437325904,
          113.08170712542989,
          115.02653162629376,
          113.13350546606439,
          111.60227306077385,
          112.60008347896857,
          113.28812868949232,
          112.36611121953636,
          113.02144466223928,
          109.22400914848697,
          113.20191476595886,
          115.38455162734239,
          114.0248655436863,
          109.37130201677664,
          108.60529848371183,
          108.01159455054417,
          107.55386763031866,
          108.45576688177047,
          107.90870984045792,
          108.24431308944878,
          109.29724670878622,
          106.33178493055222,
          108.8803225566387,
          109.08625377602762,
          107.82209765791754,
          109.5630454384416,
          110.37294983200094,
          111.10115477048785,
          110.39991428580859,
          110.35980075968541,
          109.35240655821232,
          109.54869758415225,
          110.41004722795552,
          108.18384454984836,
          111.78331264048452,
          109.89316968589456,
          110.5743519368159,
          119.93661666350191,
          116.23150298606504,
          118.024241612536,
          121.20661918328585,
          118.09040435139573,
          117.503170117886,
          117.57891204056469,
          114.04163948684497,
          114.17924454630335,
          119.5641100434683,
          115.89324917424551,
          117.05358776750649,
          106.51141911338952,
          105.9869827461215,
          106.53411634043508,
          105.5170414801377,
          105.70764328081731,
          104.03323462494696,
          106.55504907703548,
          104.59556151479472,
          102.05205690540271,
          104.92435599537595,
          106.59776993113366,
          103.84519899725174,
          558.4640903575396,
          556.223265674193,
          556.8046127400675,
          556.2797156403246,
          555.2136987526375,
          552.0856498309955,
          554.2930830107375,
          551.3659396006207,
          539.9709400805937,
          558.3540160019263,
          556.8549941946437,
          553.3201019031779,
          6649.230107787458
         ],
         "type": "treemap"
        }
       ],
       "layout": {
        "template": {
         "data": {
          "histogram2dcontour": [
           {
            "type": "histogram2dcontour",
            "colorbar": {
             "outlinewidth": 0,
             "ticks": ""
            },
            "colorscale": [
             [
              0.0,
              "#0d0887"
             ],
             [
              0.1111111111111111,
              "#46039f"
             ],
             [
              0.2222222222222222,
              "#7201a8"
             ],
             [
              0.3333333333333333,
              "#9c179e"
             ],
             [
              0.4444444444444444,
              "#bd3786"
             ],
             [
              0.5555555555555556,
              "#d8576b"
             ],
             [
              0.6666666666666666,
              "#ed7953"
             ],
             [
              0.7777777777777778,
              "#fb9f3a"
             ],
             [
              0.8888888888888888,
              "#fdca26"
             ],
             [
              1.0,
              "#f0f921"
             ]
            ]
           }
          ],
          "choropleth": [
           {
            "type": "choropleth",
            "colorbar": {
             "outlinewidth": 0,
             "ticks": ""
            }
           }
          ],
          "histogram2d": [
           {
            "type": "histogram2d",
            "colorbar": {
             "outlinewidth": 0,
             "ticks": ""
            },
            "colorscale": [
             [
              0.0,
              "#0d0887"
             ],
             [
              0.1111111111111111,
              "#46039f"
             ],
             [
              0.2222222222222222,
              "#7201a8"
             ],
             [
              0.3333333333333333,
              "#9c179e"
             ],
             [
              0.4444444444444444,
              "#bd3786"
             ],
             [
              0.5555555555555556,
              "#d8576b"
             ],
             [
              0.6666666666666666,
              "#ed7953"
             ],
             [
              0.7777777777777778,
              "#fb9f3a"
             ],
             [
              0.8888888888888888,
              "#fdca26"
             ],
             [
              1.0,
              "#f0f921"
             ]
            ]
           }
          ],
          "heatmap": [
           {
            "type": "heatmap",
            "colorbar": {
             "outlinewidth": 0,
             "ticks": ""
            },
            "colorscale": [
             [
              0.0,
              "#0d0887"
             ],
             [
              0.1111111111111111,
              "#46039f"
             ],
             [
              0.2222222222222222,
              "#7201a8"
             ],
             [
              0.3333333333333333,
              "#9c179e"
             ],
             [
              0.4444444444444444,
              "#bd3786"
             ],
             [
              0.5555555555555556,
              "#d8576b"
             ],
             [
              0.6666666666666666,
              "#ed7953"
             ],
             [
              0.7777777777777778,
              "#fb9f3a"
             ],
             [
              0.8888888888888888,
              "#fdca26"
             ],
             [
              1.0,
              "#f0f921"
             ]
            ]
           }
          ],
          "heatmapgl": [
           {
            "type": "heatmapgl",
            "colorbar": {
             "outlinewidth": 0,
             "ticks": ""
            },
            "colorscale": [
             [
              0.0,
              "#0d0887"
             ],
             [
              0.1111111111111111,
              "#46039f"
             ],
             [
              0.2222222222222222,
              "#7201a8"
             ],
             [
              0.3333333333333333,
              "#9c179e"
             ],
             [
              0.4444444444444444,
              "#bd3786"
             ],
             [
              0.5555555555555556,
              "#d8576b"
             ],
             [
              0.6666666666666666,
              "#ed7953"
             ],
             [
              0.7777777777777778,
              "#fb9f3a"
             ],
             [
              0.8888888888888888,
              "#fdca26"
             ],
             [
              1.0,
              "#f0f921"
             ]
            ]
           }
          ],
          "contourcarpet": [
           {
            "type": "contourcarpet",
            "colorbar": {
             "outlinewidth": 0,
             "ticks": ""
            }
           }
          ],
          "contour": [
           {
            "type": "contour",
            "colorbar": {
             "outlinewidth": 0,
             "ticks": ""
            },
            "colorscale": [
             [
              0.0,
              "#0d0887"
             ],
             [
              0.1111111111111111,
              "#46039f"
             ],
             [
              0.2222222222222222,
              "#7201a8"
             ],
             [
              0.3333333333333333,
              "#9c179e"
             ],
             [
              0.4444444444444444,
              "#bd3786"
             ],
             [
              0.5555555555555556,
              "#d8576b"
             ],
             [
              0.6666666666666666,
              "#ed7953"
             ],
             [
              0.7777777777777778,
              "#fb9f3a"
             ],
             [
              0.8888888888888888,
              "#fdca26"
             ],
             [
              1.0,
              "#f0f921"
             ]
            ]
           }
          ],
          "surface": [
           {
            "type": "surface",
            "colorbar": {
             "outlinewidth": 0,
             "ticks": ""
            },
            "colorscale": [
             [
              0.0,
              "#0d0887"
             ],
             [
              0.1111111111111111,
              "#46039f"
             ],
             [
              0.2222222222222222,
              "#7201a8"
             ],
             [
              0.3333333333333333,
              "#9c179e"
             ],
             [
              0.4444444444444444,
              "#bd3786"
             ],
             [
              0.5555555555555556,
              "#d8576b"
             ],
             [
              0.6666666666666666,
              "#ed7953"
             ],
             [
              0.7777777777777778,
              "#fb9f3a"
             ],
             [
              0.8888888888888888,
              "#fdca26"
             ],
             [
              1.0,
              "#f0f921"
             ]
            ]
           }
          ],
          "mesh3d": [
           {
            "type": "mesh3d",
            "colorbar": {
             "outlinewidth": 0,
             "ticks": ""
            }
           }
          ],
          "scatter": [
           {
            "fillpattern": {
             "fillmode": "overlay",
             "size": 10,
             "solidity": 0.2
            },
            "type": "scatter"
           }
          ],
          "parcoords": [
           {
            "type": "parcoords",
            "line": {
             "colorbar": {
              "outlinewidth": 0,
              "ticks": ""
             }
            }
           }
          ],
          "scatterpolargl": [
           {
            "type": "scatterpolargl",
            "marker": {
             "colorbar": {
              "outlinewidth": 0,
              "ticks": ""
             }
            }
           }
          ],
          "bar": [
           {
            "error_x": {
             "color": "#2a3f5f"
            },
            "error_y": {
             "color": "#2a3f5f"
            },
            "marker": {
             "line": {
              "color": "#E5ECF6",
              "width": 0.5
             },
             "pattern": {
              "fillmode": "overlay",
              "size": 10,
              "solidity": 0.2
             }
            },
            "type": "bar"
           }
          ],
          "scattergeo": [
           {
            "type": "scattergeo",
            "marker": {
             "colorbar": {
              "outlinewidth": 0,
              "ticks": ""
             }
            }
           }
          ],
          "scatterpolar": [
           {
            "type": "scatterpolar",
            "marker": {
             "colorbar": {
              "outlinewidth": 0,
              "ticks": ""
             }
            }
           }
          ],
          "histogram": [
           {
            "marker": {
             "pattern": {
              "fillmode": "overlay",
              "size": 10,
              "solidity": 0.2
             }
            },
            "type": "histogram"
           }
          ],
          "scattergl": [
           {
            "type": "scattergl",
            "marker": {
             "colorbar": {
              "outlinewidth": 0,
              "ticks": ""
             }
            }
           }
          ],
          "scatter3d": [
           {
            "type": "scatter3d",
            "line": {
             "colorbar": {
              "outlinewidth": 0,
              "ticks": ""
             }
            },
            "marker": {
             "colorbar": {
              "outlinewidth": 0,
              "ticks": ""
             }
            }
           }
          ],
          "scattermapbox": [
           {
            "type": "scattermapbox",
            "marker": {
             "colorbar": {
              "outlinewidth": 0,
              "ticks": ""
             }
            }
           }
          ],
          "scatterternary": [
           {
            "type": "scatterternary",
            "marker": {
             "colorbar": {
              "outlinewidth": 0,
              "ticks": ""
             }
            }
           }
          ],
          "scattercarpet": [
           {
            "type": "scattercarpet",
            "marker": {
             "colorbar": {
              "outlinewidth": 0,
              "ticks": ""
             }
            }
           }
          ],
          "carpet": [
           {
            "aaxis": {
             "endlinecolor": "#2a3f5f",
             "gridcolor": "white",
             "linecolor": "white",
             "minorgridcolor": "white",
             "startlinecolor": "#2a3f5f"
            },
            "baxis": {
             "endlinecolor": "#2a3f5f",
             "gridcolor": "white",
             "linecolor": "white",
             "minorgridcolor": "white",
             "startlinecolor": "#2a3f5f"
            },
            "type": "carpet"
           }
          ],
          "table": [
           {
            "cells": {
             "fill": {
              "color": "#EBF0F8"
             },
             "line": {
              "color": "white"
             }
            },
            "header": {
             "fill": {
              "color": "#C8D4E3"
             },
             "line": {
              "color": "white"
             }
            },
            "type": "table"
           }
          ],
          "barpolar": [
           {
            "marker": {
             "line": {
              "color": "#E5ECF6",
              "width": 0.5
             },
             "pattern": {
              "fillmode": "overlay",
              "size": 10,
              "solidity": 0.2
             }
            },
            "type": "barpolar"
           }
          ],
          "pie": [
           {
            "automargin": true,
            "type": "pie"
           }
          ]
         },
         "layout": {
          "autotypenumbers": "strict",
          "colorway": [
           "#636efa",
           "#EF553B",
           "#00cc96",
           "#ab63fa",
           "#FFA15A",
           "#19d3f3",
           "#FF6692",
           "#B6E880",
           "#FF97FF",
           "#FECB52"
          ],
          "font": {
           "color": "#2a3f5f"
          },
          "hovermode": "closest",
          "hoverlabel": {
           "align": "left"
          },
          "paper_bgcolor": "white",
          "plot_bgcolor": "#E5ECF6",
          "polar": {
           "bgcolor": "#E5ECF6",
           "angularaxis": {
            "gridcolor": "white",
            "linecolor": "white",
            "ticks": ""
           },
           "radialaxis": {
            "gridcolor": "white",
            "linecolor": "white",
            "ticks": ""
           }
          },
          "ternary": {
           "bgcolor": "#E5ECF6",
           "aaxis": {
            "gridcolor": "white",
            "linecolor": "white",
            "ticks": ""
           },
           "baxis": {
            "gridcolor": "white",
            "linecolor": "white",
            "ticks": ""
           },
           "caxis": {
            "gridcolor": "white",
            "linecolor": "white",
            "ticks": ""
           }
          },
          "coloraxis": {
           "colorbar": {
            "outlinewidth": 0,
            "ticks": ""
           }
          },
          "colorscale": {
           "sequential": [
            [
             0.0,
             "#0d0887"
            ],
            [
             0.1111111111111111,
             "#46039f"
            ],
            [
             0.2222222222222222,
             "#7201a8"
            ],
            [
             0.3333333333333333,
             "#9c179e"
            ],
            [
             0.4444444444444444,
             "#bd3786"
            ],
            [
             0.5555555555555556,
             "#d8576b"
            ],
            [
             0.6666666666666666,
             "#ed7953"
            ],
            [
             0.7777777777777778,
             "#fb9f3a"
            ],
            [
             0.8888888888888888,
             "#fdca26"
            ],
            [
             1.0,
             "#f0f921"
            ]
           ],
           "sequentialminus": [
            [
             0.0,
             "#0d0887"
            ],
            [
             0.1111111111111111,
             "#46039f"
            ],
            [
             0.2222222222222222,
             "#7201a8"
            ],
            [
             0.3333333333333333,
             "#9c179e"
            ],
            [
             0.4444444444444444,
             "#bd3786"
            ],
            [
             0.5555555555555556,
             "#d8576b"
            ],
            [
             0.6666666666666666,
             "#ed7953"
            ],
            [
             0.7777777777777778,
             "#fb9f3a"
            ],
            [
             0.8888888888888888,
             "#fdca26"
            ],
            [
             1.0,
             "#f0f921"
            ]
           ],
           "diverging": [
            [
             0,
             "#8e0152"
            ],
            [
             0.1,
             "#c51b7d"
            ],
            [
             0.2,
             "#de77ae"
            ],
            [
             0.3,
             "#f1b6da"
            ],
            [
             0.4,
             "#fde0ef"
            ],
            [
             0.5,
             "#f7f7f7"
            ],
            [
             0.6,
             "#e6f5d0"
            ],
            [
             0.7,
             "#b8e186"
            ],
            [
             0.8,
             "#7fbc41"
            ],
            [
             0.9,
             "#4d9221"
            ],
            [
             1,
             "#276419"
            ]
           ]
          },
          "xaxis": {
           "gridcolor": "white",
           "linecolor": "white",
           "ticks": "",
           "title": {
            "standoff": 15
           },
           "zerolinecolor": "white",
           "automargin": true,
           "zerolinewidth": 2
          },
          "yaxis": {
           "gridcolor": "white",
           "linecolor": "white",
           "ticks": "",
           "title": {
            "standoff": 15
           },
           "zerolinecolor": "white",
           "automargin": true,
           "zerolinewidth": 2
          },
          "scene": {
           "xaxis": {
            "backgroundcolor": "#E5ECF6",
            "gridcolor": "white",
            "linecolor": "white",
            "showbackground": true,
            "ticks": "",
            "zerolinecolor": "white",
            "gridwidth": 2
           },
           "yaxis": {
            "backgroundcolor": "#E5ECF6",
            "gridcolor": "white",
            "linecolor": "white",
            "showbackground": true,
            "ticks": "",
            "zerolinecolor": "white",
            "gridwidth": 2
           },
           "zaxis": {
            "backgroundcolor": "#E5ECF6",
            "gridcolor": "white",
            "linecolor": "white",
            "showbackground": true,
            "ticks": "",
            "zerolinecolor": "white",
            "gridwidth": 2
           }
          },
          "shapedefaults": {
           "line": {
            "color": "#2a3f5f"
           }
          },
          "annotationdefaults": {
           "arrowcolor": "#2a3f5f",
           "arrowhead": 0,
           "arrowwidth": 1
          },
          "geo": {
           "bgcolor": "white",
           "landcolor": "#E5ECF6",
           "subunitcolor": "white",
           "showland": true,
           "showlakes": true,
           "lakecolor": "white"
          },
          "title": {
           "x": 0.05
          },
          "mapbox": {
           "style": "light"
          }
         }
        },
        "coloraxis": {
         "colorbar": {
          "title": {
           "text": "value"
          }
         },
         "colorscale": [
          [
           0.0,
           "rgb(103,0,31)"
          ],
          [
           0.1,
           "rgb(178,24,43)"
          ],
          [
           0.2,
           "rgb(214,96,77)"
          ],
          [
           0.3,
           "rgb(244,165,130)"
          ],
          [
           0.4,
           "rgb(253,219,199)"
          ],
          [
           0.5,
           "rgb(247,247,247)"
          ],
          [
           0.6,
           "rgb(209,229,240)"
          ],
          [
           0.7,
           "rgb(146,197,222)"
          ],
          [
           0.8,
           "rgb(67,147,195)"
          ],
          [
           0.9,
           "rgb(33,102,172)"
          ],
          [
           1.0,
           "rgb(5,48,97)"
          ]
         ]
        },
        "legend": {
         "tracegroupgap": 0
        },
        "margin": {
         "t": 60
        },
        "height": 1000,
        "width": 1720,
        "title": {
         "text": "Most Important Reason to Own A Business",
         "x": 0.5
        }
       },
       "config": {
        "plotlyServerURL": "https://plot.ly"
       }
      },
      "text/html": "<div>                            <div id=\"726f88cf-b5fe-47e9-99cc-5a7f45e66e1c\" class=\"plotly-graph-div\" style=\"height:1000px; width:1720px;\"></div>            <script type=\"text/javascript\">                require([\"plotly\"], function(Plotly) {                    window.PLOTLYENV=window.PLOTLYENV || {};                                    if (document.getElementById(\"726f88cf-b5fe-47e9-99cc-5a7f45e66e1c\")) {                    Plotly.newPlot(                        \"726f88cf-b5fe-47e9-99cc-5a7f45e66e1c\",                        [{\"branchvalues\":\"total\",\"customdata\":[[23.231443298969065],[26.42378640776699],[61.36060606060607],[68.34180327868853],[25.272602739726025],[45.74928571428571],[21.911290322580644],[41.26541353383459],[68.3551724137931],[29.96726457399103],[24.575510204081635],[37.830681818181816],[20.289772727272727],[18.628294573643412],[54.61009389671362],[60.235433070866144],[20.668941979522184],[37.13532608695652],[15.719469026548673],[34.70333333333333],[72.14635761589405],[23.01884984025559],[19.42615384615385],[32.61144578313253],[19.59086294416244],[20.56047619047619],[64.53869863013698],[68.63682310469315],[23.070762711864408],[42.13953488372093],[16.971751412429377],[33.403703703703705],[72.48418972332016],[23.80779220779221],[18.88556701030928],[35.72979452054795],[34.01238095238095],[35.075],[57.56277372262774],[65.70538461538462],[35.93839285714286],[51.427464788732394],[30.563157894736843],[40.837671232876716],[66.15777777777777],[39.33790322580645],[29.77358490566038],[43.61716417910448],[24.782262996941895],[25.45840220385675],[60.16601731601732],[78.58391608391608],[26.771875000000005],[47.088617886178874],[21.290220820189276],[44.16252927400469],[75.86156583629892],[33.72358974358975],[23.899154929577467],[38.95177664974619],[31.35840336134454],[34.49191489361702],[24.146632124352333],[24.677835051546392],[31.90460251046025],[30.60702479338843],[29.97991452991453],[37.277042801556426],[19.052],[33.88483606557377],[31.060714285714287],[41.61773584905661],[33.831914893617025],[33.80146627565982],[27.17582089552239],[28.99700598802395],[32.75994318181818],[35.599714285714285],[32.63765060240964],[40.10517711171662],[16.248497854077254],[33.52638036809816],[31.6658064516129],[39.87147058823529],[29.983695652173914],[32.0080291970803],[21.846666666666668],[21.71497797356828],[30.112549019607844],[27.81111111111111],[30.803831417624522],[35.73854166666667],[15.445394736842104],[32.023828125],[29.2668],[36.36363636363637],[29.741803278688526],[29.368181818181817],[24.54954128440367],[25.7],[29.885344827586206],[32.137068965517244],[29.077586206896548],[36.430952380952384],[17.715584415584413],[31.546774193548387],[31.533333333333335],[34.69469696969697],[32.41284916201117],[32.06454545454545],[18.82607003891051],[16.54100418410042],[32.86129032258065],[27.720261437908494],[31.16816901408451],[34.05346820809248],[11.558959537572255],[32.67706422018348],[29.045238095238098],[34.67754491017964],[58.491860465116275],[54.11083032490975],[27.62626728110599],[18.582634730538924],[55.422878228782295],[36.93181818181818],[60.47490636704119],[34.47898832684825],[21.81683673469388],[49.34981412639405],[59.748327137546475],[34.57644787644787],[55.24961439588689],[56.1755376344086],[26.22567975830816],[18.321428571428573],[55.026881720430104],[35.173669467787114],[59.88719346049046],[34.488736263736264],[17.936929460580913],[52.33509234828496],[57.99429347826087],[35.33918128654971],[59.98848684210526],[57.80444444444446],[24.715789473684215],[20.048113207547168],[57.17648902821316],[39.401760563380286],[61.77311475409836],[41.26780185758514],[20.2542600896861],[55.951692307692305],[61.740802675585286],[38.48092105263158],[56.182432432432435],[51.78832116788321],[35.91192660550459],[29.801234567901236],[52.266666666666666],[33.93863636363636],[57.938167938931294],[36.77301587301587],[30.305882352941175],[48.679432624113474],[54.5863309352518],[38.74172661870504],[49.31630695443646],[48.464035087719296],[27.542028985507244],[10.392121212121213],[46.07447795823666],[29.224355300859596],[54.096659242761696],[26.379564032697544],[14.63153153153153],[38.52370203160271],[53.65337690631809],[30.215877437325904],[43.7236692430932],[41.867650632544375],[45.18020052418525],[50.401410092067195],[41.99200742720636],[38.78381923253398],[44.81879958526321],[37.879651273124715],[50.459443008863545],[39.58964143683994],[44.53443894344769],[38.22611104165804],[42.13896285956775],[42.77179451165112],[40.81574662316207],[44.673507371368665],[41.753213147618766],[35.98930179389626],[45.2568245303348],[36.61775227824132],[54.460141358582646],[40.34565122979887],[43.48335984905276],[36.19015379684363],[44.55373114110124],[43.385638592425906],[47.28475347961949],[50.58410265630054],[42.66206141864223],[37.50897822958624],[46.12409087339709],[37.09881803858779],[54.56224129180354],[42.250746539185364],[45.72747289872236],[36.89565870987368],[43.338579817757235],[41.07987778722996],[44.10805184858983],[48.39505621682727],[41.63341118244215],[41.10022197417075],[43.68507800502398],[38.119272917032056],[49.12574101499811],[41.08554608102154],[41.939328035499],[39.35889944181141],[38.463964857248506],[37.97662609761319],[44.42646239534624],[62.141932505036095],[37.078257448161786],[36.90949132948195],[40.8350128987758],[36.38633448986026],[59.799563249777776],[35.16005997336062],[40.27739340684332],[34.98257319120627],[42.49031833662354],[41.43936515444943],[44.38201798180043],[51.120028732143126],[41.06674333811821],[38.12492249742948],[44.15599559720206],[37.239420607696424],[53.552489616382196],[39.75775567288858],[43.20896031539604],[37.1944044934954],[42.793252548564524]],\"domain\":{\"x\":[0.0,1.0],\"y\":[0.0,1.0]},\"hovertemplate\":\"labels=%{label}<br>value_sum=%{value}<br>parent=%{parent}<br>id=%{id}<br>value=%{color}<extra></extra>\",\"ids\":[\"How important is/Balance work and family/American Indian and Alaska Native/ Not important\",\"How important is/Best avenue for ideas/American Indian and Alaska Native/ Not important\",\"How important is/Carry on family business/American Indian and Alaska Native/ Not important\",\"How important is/Couldn't find a job/American Indian and Alaska Native/ Not important\",\"How important is/Flexible hours/American Indian and Alaska Native/ Not important\",\"How important is/Friend or family role model/American Indian and Alaska Native/ Not important\",\"How important is/Greater income/American Indian and Alaska Native/ Not important\",\"How important is/Help my community/American Indian and Alaska Native/ Not important\",\"How important is/Other/American Indian and Alaska Native/ Not important\",\"How important is/Start my own business/American Indian and Alaska Native/ Not important\",\"How important is/Wanted to be my own boss/American Indian and Alaska Native/ Not important\",\"How important is/Work for self/American Indian and Alaska Native/ Not important\",\"How important is/Balance work and family/Asian/ Not important\",\"How important is/Best avenue for ideas/Asian/ Not important\",\"How important is/Carry on family business/Asian/ Not important\",\"How important is/Couldn't find a job/Asian/ Not important\",\"How important is/Flexible hours/Asian/ Not important\",\"How important is/Friend or family role model/Asian/ Not important\",\"How important is/Greater income/Asian/ Not important\",\"How important is/Help my community/Asian/ Not important\",\"How important is/Other/Asian/ Not important\",\"How important is/Start my own business/Asian/ Not important\",\"How important is/Wanted to be my own boss/Asian/ Not important\",\"How important is/Work for self/Asian/ Not important\",\"How important is/Balance work and family/Black or African American/ Not important\",\"How important is/Best avenue for ideas/Black or African American/ Not important\",\"How important is/Carry on family business/Black or African American/ Not important\",\"How important is/Couldn't find a job/Black or African American/ Not important\",\"How important is/Flexible hours/Black or African American/ Not important\",\"How important is/Friend or family role model/Black or African American/ Not important\",\"How important is/Greater income/Black or African American/ Not important\",\"How important is/Help my community/Black or African American/ Not important\",\"How important is/Other/Black or African American/ Not important\",\"How important is/Start my own business/Black or African American/ Not important\",\"How important is/Wanted to be my own boss/Black or African American/ Not important\",\"How important is/Work for self/Black or African American/ Not important\",\"How important is/Balance work and family/Native Hawaiian and Other Pacific Islander/ Not important\",\"How important is/Best avenue for ideas/Native Hawaiian and Other Pacific Islander/ Not important\",\"How important is/Carry on family business/Native Hawaiian and Other Pacific Islander/ Not important\",\"How important is/Couldn't find a job/Native Hawaiian and Other Pacific Islander/ Not important\",\"How important is/Flexible hours/Native Hawaiian and Other Pacific Islander/ Not important\",\"How important is/Friend or family role model/Native Hawaiian and Other Pacific Islander/ Not important\",\"How important is/Greater income/Native Hawaiian and Other Pacific Islander/ Not important\",\"How important is/Help my community/Native Hawaiian and Other Pacific Islander/ Not important\",\"How important is/Other/Native Hawaiian and Other Pacific Islander/ Not important\",\"How important is/Start my own business/Native Hawaiian and Other Pacific Islander/ Not important\",\"How important is/Wanted to be my own boss/Native Hawaiian and Other Pacific Islander/ Not important\",\"How important is/Work for self/Native Hawaiian and Other Pacific Islander/ Not important\",\"How important is/Balance work and family/White/ Not important\",\"How important is/Best avenue for ideas/White/ Not important\",\"How important is/Carry on family business/White/ Not important\",\"How important is/Couldn't find a job/White/ Not important\",\"How important is/Flexible hours/White/ Not important\",\"How important is/Friend or family role model/White/ Not important\",\"How important is/Greater income/White/ Not important\",\"How important is/Help my community/White/ Not important\",\"How important is/Other/White/ Not important\",\"How important is/Start my own business/White/ Not important\",\"How important is/Wanted to be my own boss/White/ Not important\",\"How important is/Work for self/White/ Not important\",\"How important is/Balance work and family/American Indian and Alaska Native/ Somewhat important\",\"How important is/Best avenue for ideas/American Indian and Alaska Native/ Somewhat important\",\"How important is/Carry on family business/American Indian and Alaska Native/ Somewhat important\",\"How important is/Couldn't find a job/American Indian and Alaska Native/ Somewhat important\",\"How important is/Flexible hours/American Indian and Alaska Native/ Somewhat important\",\"How important is/Friend or family role model/American Indian and Alaska Native/ Somewhat important\",\"How important is/Greater income/American Indian and Alaska Native/ Somewhat important\",\"How important is/Help my community/American Indian and Alaska Native/ Somewhat important\",\"How important is/Other/American Indian and Alaska Native/ Somewhat important\",\"How important is/Start my own business/American Indian and Alaska Native/ Somewhat important\",\"How important is/Wanted to be my own boss/American Indian and Alaska Native/ Somewhat important\",\"How important is/Work for self/American Indian and Alaska Native/ Somewhat important\",\"How important is/Balance work and family/Asian/ Somewhat important\",\"How important is/Best avenue for ideas/Asian/ Somewhat important\",\"How important is/Carry on family business/Asian/ Somewhat important\",\"How important is/Couldn't find a job/Asian/ Somewhat important\",\"How important is/Flexible hours/Asian/ Somewhat important\",\"How important is/Friend or family role model/Asian/ Somewhat important\",\"How important is/Greater income/Asian/ Somewhat important\",\"How important is/Help my community/Asian/ Somewhat important\",\"How important is/Other/Asian/ Somewhat important\",\"How important is/Start my own business/Asian/ Somewhat important\",\"How important is/Wanted to be my own boss/Asian/ Somewhat important\",\"How important is/Work for self/Asian/ Somewhat important\",\"How important is/Balance work and family/Black or African American/ Somewhat important\",\"How important is/Best avenue for ideas/Black or African American/ Somewhat important\",\"How important is/Carry on family business/Black or African American/ Somewhat important\",\"How important is/Couldn't find a job/Black or African American/ Somewhat important\",\"How important is/Flexible hours/Black or African American/ Somewhat important\",\"How important is/Friend or family role model/Black or African American/ Somewhat important\",\"How important is/Greater income/Black or African American/ Somewhat important\",\"How important is/Help my community/Black or African American/ Somewhat important\",\"How important is/Other/Black or African American/ Somewhat important\",\"How important is/Start my own business/Black or African American/ Somewhat important\",\"How important is/Wanted to be my own boss/Black or African American/ Somewhat important\",\"How important is/Work for self/Black or African American/ Somewhat important\",\"How important is/Balance work and family/Native Hawaiian and Other Pacific Islander/ Somewhat important\",\"How important is/Best avenue for ideas/Native Hawaiian and Other Pacific Islander/ Somewhat important\",\"How important is/Carry on family business/Native Hawaiian and Other Pacific Islander/ Somewhat important\",\"How important is/Couldn't find a job/Native Hawaiian and Other Pacific Islander/ Somewhat important\",\"How important is/Flexible hours/Native Hawaiian and Other Pacific Islander/ Somewhat important\",\"How important is/Friend or family role model/Native Hawaiian and Other Pacific Islander/ Somewhat important\",\"How important is/Greater income/Native Hawaiian and Other Pacific Islander/ Somewhat important\",\"How important is/Help my community/Native Hawaiian and Other Pacific Islander/ Somewhat important\",\"How important is/Other/Native Hawaiian and Other Pacific Islander/ Somewhat important\",\"How important is/Start my own business/Native Hawaiian and Other Pacific Islander/ Somewhat important\",\"How important is/Wanted to be my own boss/Native Hawaiian and Other Pacific Islander/ Somewhat important\",\"How important is/Work for self/Native Hawaiian and Other Pacific Islander/ Somewhat important\",\"How important is/Balance work and family/White/ Somewhat important\",\"How important is/Best avenue for ideas/White/ Somewhat important\",\"How important is/Carry on family business/White/ Somewhat important\",\"How important is/Couldn't find a job/White/ Somewhat important\",\"How important is/Flexible hours/White/ Somewhat important\",\"How important is/Friend or family role model/White/ Somewhat important\",\"How important is/Greater income/White/ Somewhat important\",\"How important is/Help my community/White/ Somewhat important\",\"How important is/Other/White/ Somewhat important\",\"How important is/Start my own business/White/ Somewhat important\",\"How important is/Wanted to be my own boss/White/ Somewhat important\",\"How important is/Work for self/White/ Somewhat important\",\"How important is/Balance work and family/American Indian and Alaska Native/ Very important\",\"How important is/Best avenue for ideas/American Indian and Alaska Native/ Very important\",\"How important is/Carry on family business/American Indian and Alaska Native/ Very important\",\"How important is/Couldn't find a job/American Indian and Alaska Native/ Very important\",\"How important is/Flexible hours/American Indian and Alaska Native/ Very important\",\"How important is/Friend or family role model/American Indian and Alaska Native/ Very important\",\"How important is/Greater income/American Indian and Alaska Native/ Very important\",\"How important is/Help my community/American Indian and Alaska Native/ Very important\",\"How important is/Other/American Indian and Alaska Native/ Very important\",\"How important is/Start my own business/American Indian and Alaska Native/ Very important\",\"How important is/Wanted to be my own boss/American Indian and Alaska Native/ Very important\",\"How important is/Work for self/American Indian and Alaska Native/ Very important\",\"How important is/Balance work and family/Asian/ Very important\",\"How important is/Best avenue for ideas/Asian/ Very important\",\"How important is/Carry on family business/Asian/ Very important\",\"How important is/Couldn't find a job/Asian/ Very important\",\"How important is/Flexible hours/Asian/ Very important\",\"How important is/Friend or family role model/Asian/ Very important\",\"How important is/Greater income/Asian/ Very important\",\"How important is/Help my community/Asian/ Very important\",\"How important is/Other/Asian/ Very important\",\"How important is/Start my own business/Asian/ Very important\",\"How important is/Wanted to be my own boss/Asian/ Very important\",\"How important is/Work for self/Asian/ Very important\",\"How important is/Balance work and family/Black or African American/ Very important\",\"How important is/Best avenue for ideas/Black or African American/ Very important\",\"How important is/Carry on family business/Black or African American/ Very important\",\"How important is/Couldn't find a job/Black or African American/ Very important\",\"How important is/Flexible hours/Black or African American/ Very important\",\"How important is/Friend or family role model/Black or African American/ Very important\",\"How important is/Greater income/Black or African American/ Very important\",\"How important is/Help my community/Black or African American/ Very important\",\"How important is/Other/Black or African American/ Very important\",\"How important is/Start my own business/Black or African American/ Very important\",\"How important is/Wanted to be my own boss/Black or African American/ Very important\",\"How important is/Work for self/Black or African American/ Very important\",\"How important is/Balance work and family/Native Hawaiian and Other Pacific Islander/ Very important\",\"How important is/Best avenue for ideas/Native Hawaiian and Other Pacific Islander/ Very important\",\"How important is/Carry on family business/Native Hawaiian and Other Pacific Islander/ Very important\",\"How important is/Couldn't find a job/Native Hawaiian and Other Pacific Islander/ Very important\",\"How important is/Flexible hours/Native Hawaiian and Other Pacific Islander/ Very important\",\"How important is/Friend or family role model/Native Hawaiian and Other Pacific Islander/ Very important\",\"How important is/Greater income/Native Hawaiian and Other Pacific Islander/ Very important\",\"How important is/Help my community/Native Hawaiian and Other Pacific Islander/ Very important\",\"How important is/Other/Native Hawaiian and Other Pacific Islander/ Very important\",\"How important is/Start my own business/Native Hawaiian and Other Pacific Islander/ Very important\",\"How important is/Wanted to be my own boss/Native Hawaiian and Other Pacific Islander/ Very important\",\"How important is/Work for self/Native Hawaiian and Other Pacific Islander/ Very important\",\"How important is/Balance work and family/White/ Very important\",\"How important is/Best avenue for ideas/White/ Very important\",\"How important is/Carry on family business/White/ Very important\",\"How important is/Couldn't find a job/White/ Very important\",\"How important is/Flexible hours/White/ Very important\",\"How important is/Friend or family role model/White/ Very important\",\"How important is/Greater income/White/ Very important\",\"How important is/Help my community/White/ Very important\",\"How important is/Other/White/ Very important\",\"How important is/Start my own business/White/ Very important\",\"How important is/Wanted to be my own boss/White/ Very important\",\"How important is/Work for self/White/ Very important\",\"How important is/Balance work and family/American Indian and Alaska Native\",\"How important is/Best avenue for ideas/American Indian and Alaska Native\",\"How important is/Carry on family business/American Indian and Alaska Native\",\"How important is/Couldn't find a job/American Indian and Alaska Native\",\"How important is/Flexible hours/American Indian and Alaska Native\",\"How important is/Friend or family role model/American Indian and Alaska Native\",\"How important is/Greater income/American Indian and Alaska Native\",\"How important is/Help my community/American Indian and Alaska Native\",\"How important is/Other/American Indian and Alaska Native\",\"How important is/Start my own business/American Indian and Alaska Native\",\"How important is/Wanted to be my own boss/American Indian and Alaska Native\",\"How important is/Work for self/American Indian and Alaska Native\",\"How important is/Balance work and family/Asian\",\"How important is/Best avenue for ideas/Asian\",\"How important is/Carry on family business/Asian\",\"How important is/Couldn't find a job/Asian\",\"How important is/Flexible hours/Asian\",\"How important is/Friend or family role model/Asian\",\"How important is/Greater income/Asian\",\"How important is/Help my community/Asian\",\"How important is/Other/Asian\",\"How important is/Start my own business/Asian\",\"How important is/Wanted to be my own boss/Asian\",\"How important is/Work for self/Asian\",\"How important is/Balance work and family/Black or African American\",\"How important is/Best avenue for ideas/Black or African American\",\"How important is/Carry on family business/Black or African American\",\"How important is/Couldn't find a job/Black or African American\",\"How important is/Flexible hours/Black or African American\",\"How important is/Friend or family role model/Black or African American\",\"How important is/Greater income/Black or African American\",\"How important is/Help my community/Black or African American\",\"How important is/Other/Black or African American\",\"How important is/Start my own business/Black or African American\",\"How important is/Wanted to be my own boss/Black or African American\",\"How important is/Work for self/Black or African American\",\"How important is/Balance work and family/Native Hawaiian and Other Pacific Islander\",\"How important is/Best avenue for ideas/Native Hawaiian and Other Pacific Islander\",\"How important is/Carry on family business/Native Hawaiian and Other Pacific Islander\",\"How important is/Couldn't find a job/Native Hawaiian and Other Pacific Islander\",\"How important is/Flexible hours/Native Hawaiian and Other Pacific Islander\",\"How important is/Friend or family role model/Native Hawaiian and Other Pacific Islander\",\"How important is/Greater income/Native Hawaiian and Other Pacific Islander\",\"How important is/Help my community/Native Hawaiian and Other Pacific Islander\",\"How important is/Other/Native Hawaiian and Other Pacific Islander\",\"How important is/Start my own business/Native Hawaiian and Other Pacific Islander\",\"How important is/Wanted to be my own boss/Native Hawaiian and Other Pacific Islander\",\"How important is/Work for self/Native Hawaiian and Other Pacific Islander\",\"How important is/Balance work and family/White\",\"How important is/Best avenue for ideas/White\",\"How important is/Carry on family business/White\",\"How important is/Couldn't find a job/White\",\"How important is/Flexible hours/White\",\"How important is/Friend or family role model/White\",\"How important is/Greater income/White\",\"How important is/Help my community/White\",\"How important is/Other/White\",\"How important is/Start my own business/White\",\"How important is/Wanted to be my own boss/White\",\"How important is/Work for self/White\",\"How important is/Balance work and family\",\"How important is/Best avenue for ideas\",\"How important is/Carry on family business\",\"How important is/Couldn't find a job\",\"How important is/Flexible hours\",\"How important is/Friend or family role model\",\"How important is/Greater income\",\"How important is/Help my community\",\"How important is/Other\",\"How important is/Start my own business\",\"How important is/Wanted to be my own boss\",\"How important is/Work for self\",\"How important is\"],\"labels\":[\" Not important\",\" Not important\",\" Not important\",\" Not important\",\" Not important\",\" Not important\",\" Not important\",\" Not important\",\" Not important\",\" Not important\",\" Not important\",\" Not important\",\" Not important\",\" Not important\",\" Not important\",\" Not important\",\" Not important\",\" Not important\",\" Not important\",\" Not important\",\" Not important\",\" Not important\",\" Not important\",\" Not important\",\" Not important\",\" Not important\",\" Not important\",\" Not important\",\" Not important\",\" Not important\",\" Not important\",\" Not important\",\" Not important\",\" Not important\",\" Not important\",\" Not important\",\" Not important\",\" Not important\",\" Not important\",\" Not important\",\" Not important\",\" Not important\",\" Not important\",\" Not important\",\" Not important\",\" Not important\",\" Not important\",\" Not important\",\" Not important\",\" Not important\",\" Not important\",\" Not important\",\" Not important\",\" Not important\",\" Not important\",\" Not important\",\" Not important\",\" Not important\",\" Not important\",\" Not important\",\" Somewhat important\",\" Somewhat important\",\" Somewhat important\",\" Somewhat important\",\" Somewhat important\",\" Somewhat important\",\" Somewhat important\",\" Somewhat important\",\" Somewhat important\",\" Somewhat important\",\" Somewhat important\",\" Somewhat important\",\" Somewhat important\",\" Somewhat important\",\" Somewhat important\",\" Somewhat important\",\" Somewhat important\",\" Somewhat important\",\" Somewhat important\",\" Somewhat important\",\" Somewhat important\",\" Somewhat important\",\" Somewhat important\",\" Somewhat important\",\" Somewhat important\",\" Somewhat important\",\" Somewhat important\",\" Somewhat important\",\" Somewhat important\",\" Somewhat important\",\" Somewhat important\",\" Somewhat important\",\" Somewhat important\",\" Somewhat important\",\" Somewhat important\",\" Somewhat important\",\" Somewhat important\",\" Somewhat important\",\" Somewhat important\",\" Somewhat important\",\" Somewhat important\",\" Somewhat important\",\" Somewhat important\",\" Somewhat important\",\" Somewhat important\",\" Somewhat important\",\" Somewhat important\",\" Somewhat important\",\" Somewhat important\",\" Somewhat important\",\" Somewhat important\",\" Somewhat important\",\" Somewhat important\",\" Somewhat important\",\" Somewhat important\",\" Somewhat important\",\" Somewhat important\",\" Somewhat important\",\" Somewhat important\",\" Somewhat important\",\" Very important\",\" Very important\",\" Very important\",\" Very important\",\" Very important\",\" Very important\",\" Very important\",\" Very important\",\" Very important\",\" Very important\",\" Very important\",\" Very important\",\" Very important\",\" Very important\",\" Very important\",\" Very important\",\" Very important\",\" Very important\",\" Very important\",\" Very important\",\" Very important\",\" Very important\",\" Very important\",\" Very important\",\" Very important\",\" Very important\",\" Very important\",\" Very important\",\" Very important\",\" Very important\",\" Very important\",\" Very important\",\" Very important\",\" Very important\",\" Very important\",\" Very important\",\" Very important\",\" Very important\",\" Very important\",\" Very important\",\" Very important\",\" Very important\",\" Very important\",\" Very important\",\" Very important\",\" Very important\",\" Very important\",\" Very important\",\" Very important\",\" Very important\",\" Very important\",\" Very important\",\" Very important\",\" Very important\",\" Very important\",\" Very important\",\" Very important\",\" Very important\",\" Very important\",\" Very important\",\"American Indian and Alaska Native\",\"American Indian and Alaska Native\",\"American Indian and Alaska Native\",\"American Indian and Alaska Native\",\"American Indian and Alaska Native\",\"American Indian and Alaska Native\",\"American Indian and Alaska Native\",\"American Indian and Alaska Native\",\"American Indian and Alaska Native\",\"American Indian and Alaska Native\",\"American Indian and Alaska Native\",\"American Indian and Alaska Native\",\"Asian\",\"Asian\",\"Asian\",\"Asian\",\"Asian\",\"Asian\",\"Asian\",\"Asian\",\"Asian\",\"Asian\",\"Asian\",\"Asian\",\"Black or African American\",\"Black or African American\",\"Black or African American\",\"Black or African American\",\"Black or African American\",\"Black or African American\",\"Black or African American\",\"Black or African American\",\"Black or African American\",\"Black or African American\",\"Black or African American\",\"Black or African American\",\"Native Hawaiian and Other Pacific Islander\",\"Native Hawaiian and Other Pacific Islander\",\"Native Hawaiian and Other Pacific Islander\",\"Native Hawaiian and Other Pacific Islander\",\"Native Hawaiian and Other Pacific Islander\",\"Native Hawaiian and Other Pacific Islander\",\"Native Hawaiian and Other Pacific Islander\",\"Native Hawaiian and Other Pacific Islander\",\"Native Hawaiian and Other Pacific Islander\",\"Native Hawaiian and Other Pacific Islander\",\"Native Hawaiian and Other Pacific Islander\",\"Native Hawaiian and Other Pacific Islander\",\"White\",\"White\",\"White\",\"White\",\"White\",\"White\",\"White\",\"White\",\"White\",\"White\",\"White\",\"White\",\"Balance work and family\",\"Best avenue for ideas\",\"Carry on family business\",\"Couldn't find a job\",\"Flexible hours\",\"Friend or family role model\",\"Greater income\",\"Help my community\",\"Other\",\"Start my own business\",\"Wanted to be my own boss\",\"Work for self\",\"How important is\"],\"marker\":{\"coloraxis\":\"coloraxis\",\"colors\":[23.231443298969065,26.42378640776699,61.36060606060607,68.34180327868853,25.272602739726025,45.74928571428571,21.911290322580644,41.26541353383459,68.3551724137931,29.96726457399103,24.575510204081635,37.830681818181816,20.289772727272727,18.628294573643412,54.61009389671362,60.235433070866144,20.668941979522184,37.13532608695652,15.719469026548673,34.70333333333333,72.14635761589405,23.01884984025559,19.42615384615385,32.61144578313253,19.59086294416244,20.56047619047619,64.53869863013698,68.63682310469315,23.070762711864408,42.13953488372093,16.971751412429377,33.403703703703705,72.48418972332016,23.80779220779221,18.88556701030928,35.72979452054795,34.01238095238095,35.075,57.56277372262774,65.70538461538462,35.93839285714286,51.427464788732394,30.563157894736843,40.837671232876716,66.15777777777777,39.33790322580645,29.77358490566038,43.61716417910448,24.782262996941895,25.45840220385675,60.16601731601732,78.58391608391608,26.771875000000005,47.088617886178874,21.290220820189276,44.16252927400469,75.86156583629892,33.72358974358975,23.899154929577467,38.95177664974619,31.35840336134454,34.49191489361702,24.146632124352333,24.677835051546392,31.90460251046025,30.60702479338843,29.97991452991453,37.277042801556426,19.052,33.88483606557377,31.060714285714287,41.61773584905661,33.831914893617025,33.80146627565982,27.17582089552239,28.99700598802395,32.75994318181818,35.599714285714285,32.63765060240964,40.10517711171662,16.248497854077254,33.52638036809816,31.6658064516129,39.87147058823529,29.983695652173914,32.0080291970803,21.846666666666668,21.71497797356828,30.112549019607844,27.81111111111111,30.803831417624522,35.73854166666667,15.445394736842104,32.023828125,29.2668,36.36363636363637,29.741803278688526,29.368181818181817,24.54954128440367,25.7,29.885344827586206,32.137068965517244,29.077586206896548,36.430952380952384,17.715584415584413,31.546774193548387,31.533333333333335,34.69469696969697,32.41284916201117,32.06454545454545,18.82607003891051,16.54100418410042,32.86129032258065,27.720261437908494,31.16816901408451,34.05346820809248,11.558959537572255,32.67706422018348,29.045238095238098,34.67754491017964,58.491860465116275,54.11083032490975,27.62626728110599,18.582634730538924,55.422878228782295,36.93181818181818,60.47490636704119,34.47898832684825,21.81683673469388,49.34981412639405,59.748327137546475,34.57644787644787,55.24961439588689,56.1755376344086,26.22567975830816,18.321428571428573,55.026881720430104,35.173669467787114,59.88719346049046,34.488736263736264,17.936929460580913,52.33509234828496,57.99429347826087,35.33918128654971,59.98848684210526,57.80444444444446,24.715789473684215,20.048113207547168,57.17648902821316,39.401760563380286,61.77311475409836,41.26780185758514,20.2542600896861,55.951692307692305,61.740802675585286,38.48092105263158,56.182432432432435,51.78832116788321,35.91192660550459,29.801234567901236,52.266666666666666,33.93863636363636,57.938167938931294,36.77301587301587,30.305882352941175,48.679432624113474,54.5863309352518,38.74172661870504,49.31630695443646,48.464035087719296,27.542028985507244,10.392121212121213,46.07447795823666,29.224355300859596,54.096659242761696,26.379564032697544,14.63153153153153,38.52370203160271,53.65337690631809,30.215877437325904,43.7236692430932,41.867650632544375,45.18020052418525,50.401410092067195,41.99200742720636,38.78381923253398,44.81879958526321,37.879651273124715,50.459443008863545,39.58964143683994,44.53443894344769,38.22611104165804,42.13896285956775,42.77179451165112,40.81574662316207,44.673507371368665,41.753213147618766,35.98930179389626,45.2568245303348,36.61775227824132,54.460141358582646,40.34565122979887,43.48335984905276,36.19015379684363,44.55373114110124,43.385638592425906,47.28475347961949,50.58410265630054,42.66206141864223,37.50897822958624,46.12409087339709,37.09881803858779,54.56224129180354,42.250746539185364,45.72747289872236,36.89565870987368,43.338579817757235,41.07987778722996,44.10805184858983,48.39505621682727,41.63341118244215,41.10022197417075,43.68507800502398,38.119272917032056,49.12574101499811,41.08554608102154,41.939328035499,39.35889944181141,38.463964857248506,37.97662609761319,44.42646239534624,62.141932505036095,37.078257448161786,36.90949132948195,40.8350128987758,36.38633448986026,59.799563249777776,35.16005997336062,40.27739340684332,34.98257319120627,42.49031833662354,41.43936515444943,44.38201798180043,51.120028732143126,41.06674333811821,38.12492249742948,44.15599559720206,37.239420607696424,53.552489616382196,39.75775567288858,43.20896031539604,37.1944044934954,42.793252548564524]},\"name\":\"\",\"parents\":[\"How important is/Balance work and family/American Indian and Alaska Native\",\"How important is/Best avenue for ideas/American Indian and Alaska Native\",\"How important is/Carry on family business/American Indian and Alaska Native\",\"How important is/Couldn't find a job/American Indian and Alaska Native\",\"How important is/Flexible hours/American Indian and Alaska Native\",\"How important is/Friend or family role model/American Indian and Alaska Native\",\"How important is/Greater income/American Indian and Alaska Native\",\"How important is/Help my community/American Indian and Alaska Native\",\"How important is/Other/American Indian and Alaska Native\",\"How important is/Start my own business/American Indian and Alaska Native\",\"How important is/Wanted to be my own boss/American Indian and Alaska Native\",\"How important is/Work for self/American Indian and Alaska Native\",\"How important is/Balance work and family/Asian\",\"How important is/Best avenue for ideas/Asian\",\"How important is/Carry on family business/Asian\",\"How important is/Couldn't find a job/Asian\",\"How important is/Flexible hours/Asian\",\"How important is/Friend or family role model/Asian\",\"How important is/Greater income/Asian\",\"How important is/Help my community/Asian\",\"How important is/Other/Asian\",\"How important is/Start my own business/Asian\",\"How important is/Wanted to be my own boss/Asian\",\"How important is/Work for self/Asian\",\"How important is/Balance work and family/Black or African American\",\"How important is/Best avenue for ideas/Black or African American\",\"How important is/Carry on family business/Black or African American\",\"How important is/Couldn't find a job/Black or African American\",\"How important is/Flexible hours/Black or African American\",\"How important is/Friend or family role model/Black or African American\",\"How important is/Greater income/Black or African American\",\"How important is/Help my community/Black or African American\",\"How important is/Other/Black or African American\",\"How important is/Start my own business/Black or African American\",\"How important is/Wanted to be my own boss/Black or African American\",\"How important is/Work for self/Black or African American\",\"How important is/Balance work and family/Native Hawaiian and Other Pacific Islander\",\"How important is/Best avenue for ideas/Native Hawaiian and Other Pacific Islander\",\"How important is/Carry on family business/Native Hawaiian and Other Pacific Islander\",\"How important is/Couldn't find a job/Native Hawaiian and Other Pacific Islander\",\"How important is/Flexible hours/Native Hawaiian and Other Pacific Islander\",\"How important is/Friend or family role model/Native Hawaiian and Other Pacific Islander\",\"How important is/Greater income/Native Hawaiian and Other Pacific Islander\",\"How important is/Help my community/Native Hawaiian and Other Pacific Islander\",\"How important is/Other/Native Hawaiian and Other Pacific Islander\",\"How important is/Start my own business/Native Hawaiian and Other Pacific Islander\",\"How important is/Wanted to be my own boss/Native Hawaiian and Other Pacific Islander\",\"How important is/Work for self/Native Hawaiian and Other Pacific Islander\",\"How important is/Balance work and family/White\",\"How important is/Best avenue for ideas/White\",\"How important is/Carry on family business/White\",\"How important is/Couldn't find a job/White\",\"How important is/Flexible hours/White\",\"How important is/Friend or family role model/White\",\"How important is/Greater income/White\",\"How important is/Help my community/White\",\"How important is/Other/White\",\"How important is/Start my own business/White\",\"How important is/Wanted to be my own boss/White\",\"How important is/Work for self/White\",\"How important is/Balance work and family/American Indian and Alaska Native\",\"How important is/Best avenue for ideas/American Indian and Alaska Native\",\"How important is/Carry on family business/American Indian and Alaska Native\",\"How important is/Couldn't find a job/American Indian and Alaska Native\",\"How important is/Flexible hours/American Indian and Alaska Native\",\"How important is/Friend or family role model/American Indian and Alaska Native\",\"How important is/Greater income/American Indian and Alaska Native\",\"How important is/Help my community/American Indian and Alaska Native\",\"How important is/Other/American Indian and Alaska Native\",\"How important is/Start my own business/American Indian and Alaska Native\",\"How important is/Wanted to be my own boss/American Indian and Alaska Native\",\"How important is/Work for self/American Indian and Alaska Native\",\"How important is/Balance work and family/Asian\",\"How important is/Best avenue for ideas/Asian\",\"How important is/Carry on family business/Asian\",\"How important is/Couldn't find a job/Asian\",\"How important is/Flexible hours/Asian\",\"How important is/Friend or family role model/Asian\",\"How important is/Greater income/Asian\",\"How important is/Help my community/Asian\",\"How important is/Other/Asian\",\"How important is/Start my own business/Asian\",\"How important is/Wanted to be my own boss/Asian\",\"How important is/Work for self/Asian\",\"How important is/Balance work and family/Black or African American\",\"How important is/Best avenue for ideas/Black or African American\",\"How important is/Carry on family business/Black or African American\",\"How important is/Couldn't find a job/Black or African American\",\"How important is/Flexible hours/Black or African American\",\"How important is/Friend or family role model/Black or African American\",\"How important is/Greater income/Black or African American\",\"How important is/Help my community/Black or African American\",\"How important is/Other/Black or African American\",\"How important is/Start my own business/Black or African American\",\"How important is/Wanted to be my own boss/Black or African American\",\"How important is/Work for self/Black or African American\",\"How important is/Balance work and family/Native Hawaiian and Other Pacific Islander\",\"How important is/Best avenue for ideas/Native Hawaiian and Other Pacific Islander\",\"How important is/Carry on family business/Native Hawaiian and Other Pacific Islander\",\"How important is/Couldn't find a job/Native Hawaiian and Other Pacific Islander\",\"How important is/Flexible hours/Native Hawaiian and Other Pacific Islander\",\"How important is/Friend or family role model/Native Hawaiian and Other Pacific Islander\",\"How important is/Greater income/Native Hawaiian and Other Pacific Islander\",\"How important is/Help my community/Native Hawaiian and Other Pacific Islander\",\"How important is/Other/Native Hawaiian and Other Pacific Islander\",\"How important is/Start my own business/Native Hawaiian and Other Pacific Islander\",\"How important is/Wanted to be my own boss/Native Hawaiian and Other Pacific Islander\",\"How important is/Work for self/Native Hawaiian and Other Pacific Islander\",\"How important is/Balance work and family/White\",\"How important is/Best avenue for ideas/White\",\"How important is/Carry on family business/White\",\"How important is/Couldn't find a job/White\",\"How important is/Flexible hours/White\",\"How important is/Friend or family role model/White\",\"How important is/Greater income/White\",\"How important is/Help my community/White\",\"How important is/Other/White\",\"How important is/Start my own business/White\",\"How important is/Wanted to be my own boss/White\",\"How important is/Work for self/White\",\"How important is/Balance work and family/American Indian and Alaska Native\",\"How important is/Best avenue for ideas/American Indian and Alaska Native\",\"How important is/Carry on family business/American Indian and Alaska Native\",\"How important is/Couldn't find a job/American Indian and Alaska Native\",\"How important is/Flexible hours/American Indian and Alaska Native\",\"How important is/Friend or family role model/American Indian and Alaska Native\",\"How important is/Greater income/American Indian and Alaska Native\",\"How important is/Help my community/American Indian and Alaska Native\",\"How important is/Other/American Indian and Alaska Native\",\"How important is/Start my own business/American Indian and Alaska Native\",\"How important is/Wanted to be my own boss/American Indian and Alaska Native\",\"How important is/Work for self/American Indian and Alaska Native\",\"How important is/Balance work and family/Asian\",\"How important is/Best avenue for ideas/Asian\",\"How important is/Carry on family business/Asian\",\"How important is/Couldn't find a job/Asian\",\"How important is/Flexible hours/Asian\",\"How important is/Friend or family role model/Asian\",\"How important is/Greater income/Asian\",\"How important is/Help my community/Asian\",\"How important is/Other/Asian\",\"How important is/Start my own business/Asian\",\"How important is/Wanted to be my own boss/Asian\",\"How important is/Work for self/Asian\",\"How important is/Balance work and family/Black or African American\",\"How important is/Best avenue for ideas/Black or African American\",\"How important is/Carry on family business/Black or African American\",\"How important is/Couldn't find a job/Black or African American\",\"How important is/Flexible hours/Black or African American\",\"How important is/Friend or family role model/Black or African American\",\"How important is/Greater income/Black or African American\",\"How important is/Help my community/Black or African American\",\"How important is/Other/Black or African American\",\"How important is/Start my own business/Black or African American\",\"How important is/Wanted to be my own boss/Black or African American\",\"How important is/Work for self/Black or African American\",\"How important is/Balance work and family/Native Hawaiian and Other Pacific Islander\",\"How important is/Best avenue for ideas/Native Hawaiian and Other Pacific Islander\",\"How important is/Carry on family business/Native Hawaiian and Other Pacific Islander\",\"How important is/Couldn't find a job/Native Hawaiian and Other Pacific Islander\",\"How important is/Flexible hours/Native Hawaiian and Other Pacific Islander\",\"How important is/Friend or family role model/Native Hawaiian and Other Pacific Islander\",\"How important is/Greater income/Native Hawaiian and Other Pacific Islander\",\"How important is/Help my community/Native Hawaiian and Other Pacific Islander\",\"How important is/Other/Native Hawaiian and Other Pacific Islander\",\"How important is/Start my own business/Native Hawaiian and Other Pacific Islander\",\"How important is/Wanted to be my own boss/Native Hawaiian and Other Pacific Islander\",\"How important is/Work for self/Native Hawaiian and Other Pacific Islander\",\"How important is/Balance work and family/White\",\"How important is/Best avenue for ideas/White\",\"How important is/Carry on family business/White\",\"How important is/Couldn't find a job/White\",\"How important is/Flexible hours/White\",\"How important is/Friend or family role model/White\",\"How important is/Greater income/White\",\"How important is/Help my community/White\",\"How important is/Other/White\",\"How important is/Start my own business/White\",\"How important is/Wanted to be my own boss/White\",\"How important is/Work for self/White\",\"How important is/Balance work and family\",\"How important is/Best avenue for ideas\",\"How important is/Carry on family business\",\"How important is/Couldn't find a job\",\"How important is/Flexible hours\",\"How important is/Friend or family role model\",\"How important is/Greater income\",\"How important is/Help my community\",\"How important is/Other\",\"How important is/Start my own business\",\"How important is/Wanted to be my own boss\",\"How important is/Work for self\",\"How important is/Balance work and family\",\"How important is/Best avenue for ideas\",\"How important is/Carry on family business\",\"How important is/Couldn't find a job\",\"How important is/Flexible hours\",\"How important is/Friend or family role model\",\"How important is/Greater income\",\"How important is/Help my community\",\"How important is/Other\",\"How important is/Start my own business\",\"How important is/Wanted to be my own boss\",\"How important is/Work for self\",\"How important is/Balance work and family\",\"How important is/Best avenue for ideas\",\"How important is/Carry on family business\",\"How important is/Couldn't find a job\",\"How important is/Flexible hours\",\"How important is/Friend or family role model\",\"How important is/Greater income\",\"How important is/Help my community\",\"How important is/Other\",\"How important is/Start my own business\",\"How important is/Wanted to be my own boss\",\"How important is/Work for self\",\"How important is/Balance work and family\",\"How important is/Best avenue for ideas\",\"How important is/Carry on family business\",\"How important is/Couldn't find a job\",\"How important is/Flexible hours\",\"How important is/Friend or family role model\",\"How important is/Greater income\",\"How important is/Help my community\",\"How important is/Other\",\"How important is/Start my own business\",\"How important is/Wanted to be my own boss\",\"How important is/Work for self\",\"How important is/Balance work and family\",\"How important is/Best avenue for ideas\",\"How important is/Carry on family business\",\"How important is/Couldn't find a job\",\"How important is/Flexible hours\",\"How important is/Friend or family role model\",\"How important is/Greater income\",\"How important is/Help my community\",\"How important is/Other\",\"How important is/Start my own business\",\"How important is/Wanted to be my own boss\",\"How important is/Work for self\",\"How important is\",\"How important is\",\"How important is\",\"How important is\",\"How important is\",\"How important is\",\"How important is\",\"How important is\",\"How important is\",\"How important is\",\"How important is\",\"How important is\",\"\"],\"values\":[23.23144329896907,26.42378640776699,61.36060606060607,68.34180327868853,25.272602739726025,45.74928571428571,21.911290322580644,41.26541353383459,68.3551724137931,29.96726457399103,24.575510204081635,37.830681818181816,20.289772727272727,18.628294573643412,54.61009389671362,60.235433070866144,20.668941979522184,37.13532608695652,15.719469026548673,34.70333333333333,72.14635761589405,23.01884984025559,19.42615384615385,32.61144578313253,19.59086294416244,20.56047619047619,64.53869863013698,68.63682310469315,23.070762711864408,42.13953488372093,16.971751412429377,33.403703703703705,72.48418972332016,23.80779220779221,18.88556701030928,35.72979452054795,34.01238095238095,35.075,57.56277372262774,65.70538461538462,35.93839285714286,51.427464788732394,30.563157894736843,40.837671232876716,66.15777777777777,39.33790322580645,29.77358490566038,43.61716417910448,24.782262996941895,25.45840220385675,60.16601731601732,78.58391608391608,26.771875,47.08861788617887,21.290220820189276,44.16252927400469,75.86156583629892,33.72358974358975,23.899154929577467,38.95177664974619,31.35840336134454,34.49191489361702,24.146632124352333,24.677835051546392,31.90460251046025,30.60702479338843,29.97991452991453,37.277042801556426,19.052,33.88483606557377,31.060714285714287,41.61773584905661,33.831914893617025,33.80146627565982,27.17582089552239,28.99700598802395,32.75994318181818,35.599714285714285,32.63765060240964,40.10517711171662,16.248497854077254,33.52638036809816,31.6658064516129,39.87147058823529,29.983695652173914,32.0080291970803,21.846666666666668,21.71497797356828,30.112549019607844,27.81111111111111,30.803831417624522,35.73854166666667,15.445394736842104,32.023828125,29.2668,36.36363636363637,29.741803278688526,29.368181818181817,24.54954128440367,25.7,29.885344827586206,32.137068965517244,29.07758620689655,36.430952380952384,17.715584415584413,31.546774193548387,31.533333333333335,34.69469696969697,32.41284916201117,32.06454545454545,18.82607003891051,16.54100418410042,32.86129032258065,27.720261437908494,31.16816901408451,34.05346820809248,11.558959537572255,32.67706422018348,29.045238095238098,34.67754491017964,58.491860465116275,54.11083032490975,27.62626728110599,18.582634730538924,55.42287822878229,36.93181818181818,60.47490636704119,34.47898832684825,21.81683673469388,49.34981412639405,59.74832713754647,34.57644787644787,55.24961439588689,56.1755376344086,26.22567975830816,18.321428571428573,55.026881720430104,35.173669467787114,59.88719346049046,34.488736263736264,17.936929460580913,52.33509234828496,57.99429347826087,35.33918128654971,59.98848684210526,57.80444444444445,24.71578947368421,20.048113207547168,57.17648902821316,39.401760563380286,61.77311475409836,41.26780185758514,20.2542600896861,55.951692307692305,61.740802675585286,38.48092105263158,56.182432432432435,51.78832116788321,35.91192660550459,29.801234567901236,52.266666666666666,33.93863636363636,57.938167938931294,36.77301587301587,30.305882352941175,48.679432624113474,54.5863309352518,38.74172661870504,49.316306954436456,48.464035087719296,27.542028985507244,10.392121212121213,46.074477958236656,29.224355300859596,54.096659242761696,26.379564032697544,14.63153153153153,38.52370203160271,53.65337690631809,30.215877437325904,113.08170712542989,115.02653162629376,113.13350546606439,111.60227306077385,112.60008347896857,113.28812868949232,112.36611121953636,113.02144466223928,109.22400914848697,113.20191476595886,115.38455162734239,114.0248655436863,109.37130201677664,108.60529848371183,108.01159455054417,107.55386763031866,108.45576688177047,107.90870984045792,108.24431308944878,109.29724670878622,106.33178493055222,108.8803225566387,109.08625377602762,107.82209765791754,109.5630454384416,110.37294983200094,111.10115477048785,110.39991428580859,110.35980075968541,109.35240655821232,109.54869758415225,110.41004722795552,108.18384454984836,111.78331264048452,109.89316968589456,110.5743519368159,119.93661666350191,116.23150298606504,118.024241612536,121.20661918328585,118.09040435139573,117.503170117886,117.57891204056469,114.04163948684497,114.17924454630335,119.5641100434683,115.89324917424551,117.05358776750649,106.51141911338952,105.9869827461215,106.53411634043508,105.5170414801377,105.70764328081731,104.03323462494696,106.55504907703548,104.59556151479472,102.05205690540271,104.92435599537595,106.59776993113366,103.84519899725174,558.4640903575396,556.223265674193,556.8046127400675,556.2797156403246,555.2136987526375,552.0856498309955,554.2930830107375,551.3659396006207,539.9709400805937,558.3540160019263,556.8549941946437,553.3201019031779,6649.230107787458],\"type\":\"treemap\"}],                        {\"template\":{\"data\":{\"histogram2dcontour\":[{\"type\":\"histogram2dcontour\",\"colorbar\":{\"outlinewidth\":0,\"ticks\":\"\"},\"colorscale\":[[0.0,\"#0d0887\"],[0.1111111111111111,\"#46039f\"],[0.2222222222222222,\"#7201a8\"],[0.3333333333333333,\"#9c179e\"],[0.4444444444444444,\"#bd3786\"],[0.5555555555555556,\"#d8576b\"],[0.6666666666666666,\"#ed7953\"],[0.7777777777777778,\"#fb9f3a\"],[0.8888888888888888,\"#fdca26\"],[1.0,\"#f0f921\"]]}],\"choropleth\":[{\"type\":\"choropleth\",\"colorbar\":{\"outlinewidth\":0,\"ticks\":\"\"}}],\"histogram2d\":[{\"type\":\"histogram2d\",\"colorbar\":{\"outlinewidth\":0,\"ticks\":\"\"},\"colorscale\":[[0.0,\"#0d0887\"],[0.1111111111111111,\"#46039f\"],[0.2222222222222222,\"#7201a8\"],[0.3333333333333333,\"#9c179e\"],[0.4444444444444444,\"#bd3786\"],[0.5555555555555556,\"#d8576b\"],[0.6666666666666666,\"#ed7953\"],[0.7777777777777778,\"#fb9f3a\"],[0.8888888888888888,\"#fdca26\"],[1.0,\"#f0f921\"]]}],\"heatmap\":[{\"type\":\"heatmap\",\"colorbar\":{\"outlinewidth\":0,\"ticks\":\"\"},\"colorscale\":[[0.0,\"#0d0887\"],[0.1111111111111111,\"#46039f\"],[0.2222222222222222,\"#7201a8\"],[0.3333333333333333,\"#9c179e\"],[0.4444444444444444,\"#bd3786\"],[0.5555555555555556,\"#d8576b\"],[0.6666666666666666,\"#ed7953\"],[0.7777777777777778,\"#fb9f3a\"],[0.8888888888888888,\"#fdca26\"],[1.0,\"#f0f921\"]]}],\"heatmapgl\":[{\"type\":\"heatmapgl\",\"colorbar\":{\"outlinewidth\":0,\"ticks\":\"\"},\"colorscale\":[[0.0,\"#0d0887\"],[0.1111111111111111,\"#46039f\"],[0.2222222222222222,\"#7201a8\"],[0.3333333333333333,\"#9c179e\"],[0.4444444444444444,\"#bd3786\"],[0.5555555555555556,\"#d8576b\"],[0.6666666666666666,\"#ed7953\"],[0.7777777777777778,\"#fb9f3a\"],[0.8888888888888888,\"#fdca26\"],[1.0,\"#f0f921\"]]}],\"contourcarpet\":[{\"type\":\"contourcarpet\",\"colorbar\":{\"outlinewidth\":0,\"ticks\":\"\"}}],\"contour\":[{\"type\":\"contour\",\"colorbar\":{\"outlinewidth\":0,\"ticks\":\"\"},\"colorscale\":[[0.0,\"#0d0887\"],[0.1111111111111111,\"#46039f\"],[0.2222222222222222,\"#7201a8\"],[0.3333333333333333,\"#9c179e\"],[0.4444444444444444,\"#bd3786\"],[0.5555555555555556,\"#d8576b\"],[0.6666666666666666,\"#ed7953\"],[0.7777777777777778,\"#fb9f3a\"],[0.8888888888888888,\"#fdca26\"],[1.0,\"#f0f921\"]]}],\"surface\":[{\"type\":\"surface\",\"colorbar\":{\"outlinewidth\":0,\"ticks\":\"\"},\"colorscale\":[[0.0,\"#0d0887\"],[0.1111111111111111,\"#46039f\"],[0.2222222222222222,\"#7201a8\"],[0.3333333333333333,\"#9c179e\"],[0.4444444444444444,\"#bd3786\"],[0.5555555555555556,\"#d8576b\"],[0.6666666666666666,\"#ed7953\"],[0.7777777777777778,\"#fb9f3a\"],[0.8888888888888888,\"#fdca26\"],[1.0,\"#f0f921\"]]}],\"mesh3d\":[{\"type\":\"mesh3d\",\"colorbar\":{\"outlinewidth\":0,\"ticks\":\"\"}}],\"scatter\":[{\"fillpattern\":{\"fillmode\":\"overlay\",\"size\":10,\"solidity\":0.2},\"type\":\"scatter\"}],\"parcoords\":[{\"type\":\"parcoords\",\"line\":{\"colorbar\":{\"outlinewidth\":0,\"ticks\":\"\"}}}],\"scatterpolargl\":[{\"type\":\"scatterpolargl\",\"marker\":{\"colorbar\":{\"outlinewidth\":0,\"ticks\":\"\"}}}],\"bar\":[{\"error_x\":{\"color\":\"#2a3f5f\"},\"error_y\":{\"color\":\"#2a3f5f\"},\"marker\":{\"line\":{\"color\":\"#E5ECF6\",\"width\":0.5},\"pattern\":{\"fillmode\":\"overlay\",\"size\":10,\"solidity\":0.2}},\"type\":\"bar\"}],\"scattergeo\":[{\"type\":\"scattergeo\",\"marker\":{\"colorbar\":{\"outlinewidth\":0,\"ticks\":\"\"}}}],\"scatterpolar\":[{\"type\":\"scatterpolar\",\"marker\":{\"colorbar\":{\"outlinewidth\":0,\"ticks\":\"\"}}}],\"histogram\":[{\"marker\":{\"pattern\":{\"fillmode\":\"overlay\",\"size\":10,\"solidity\":0.2}},\"type\":\"histogram\"}],\"scattergl\":[{\"type\":\"scattergl\",\"marker\":{\"colorbar\":{\"outlinewidth\":0,\"ticks\":\"\"}}}],\"scatter3d\":[{\"type\":\"scatter3d\",\"line\":{\"colorbar\":{\"outlinewidth\":0,\"ticks\":\"\"}},\"marker\":{\"colorbar\":{\"outlinewidth\":0,\"ticks\":\"\"}}}],\"scattermapbox\":[{\"type\":\"scattermapbox\",\"marker\":{\"colorbar\":{\"outlinewidth\":0,\"ticks\":\"\"}}}],\"scatterternary\":[{\"type\":\"scatterternary\",\"marker\":{\"colorbar\":{\"outlinewidth\":0,\"ticks\":\"\"}}}],\"scattercarpet\":[{\"type\":\"scattercarpet\",\"marker\":{\"colorbar\":{\"outlinewidth\":0,\"ticks\":\"\"}}}],\"carpet\":[{\"aaxis\":{\"endlinecolor\":\"#2a3f5f\",\"gridcolor\":\"white\",\"linecolor\":\"white\",\"minorgridcolor\":\"white\",\"startlinecolor\":\"#2a3f5f\"},\"baxis\":{\"endlinecolor\":\"#2a3f5f\",\"gridcolor\":\"white\",\"linecolor\":\"white\",\"minorgridcolor\":\"white\",\"startlinecolor\":\"#2a3f5f\"},\"type\":\"carpet\"}],\"table\":[{\"cells\":{\"fill\":{\"color\":\"#EBF0F8\"},\"line\":{\"color\":\"white\"}},\"header\":{\"fill\":{\"color\":\"#C8D4E3\"},\"line\":{\"color\":\"white\"}},\"type\":\"table\"}],\"barpolar\":[{\"marker\":{\"line\":{\"color\":\"#E5ECF6\",\"width\":0.5},\"pattern\":{\"fillmode\":\"overlay\",\"size\":10,\"solidity\":0.2}},\"type\":\"barpolar\"}],\"pie\":[{\"automargin\":true,\"type\":\"pie\"}]},\"layout\":{\"autotypenumbers\":\"strict\",\"colorway\":[\"#636efa\",\"#EF553B\",\"#00cc96\",\"#ab63fa\",\"#FFA15A\",\"#19d3f3\",\"#FF6692\",\"#B6E880\",\"#FF97FF\",\"#FECB52\"],\"font\":{\"color\":\"#2a3f5f\"},\"hovermode\":\"closest\",\"hoverlabel\":{\"align\":\"left\"},\"paper_bgcolor\":\"white\",\"plot_bgcolor\":\"#E5ECF6\",\"polar\":{\"bgcolor\":\"#E5ECF6\",\"angularaxis\":{\"gridcolor\":\"white\",\"linecolor\":\"white\",\"ticks\":\"\"},\"radialaxis\":{\"gridcolor\":\"white\",\"linecolor\":\"white\",\"ticks\":\"\"}},\"ternary\":{\"bgcolor\":\"#E5ECF6\",\"aaxis\":{\"gridcolor\":\"white\",\"linecolor\":\"white\",\"ticks\":\"\"},\"baxis\":{\"gridcolor\":\"white\",\"linecolor\":\"white\",\"ticks\":\"\"},\"caxis\":{\"gridcolor\":\"white\",\"linecolor\":\"white\",\"ticks\":\"\"}},\"coloraxis\":{\"colorbar\":{\"outlinewidth\":0,\"ticks\":\"\"}},\"colorscale\":{\"sequential\":[[0.0,\"#0d0887\"],[0.1111111111111111,\"#46039f\"],[0.2222222222222222,\"#7201a8\"],[0.3333333333333333,\"#9c179e\"],[0.4444444444444444,\"#bd3786\"],[0.5555555555555556,\"#d8576b\"],[0.6666666666666666,\"#ed7953\"],[0.7777777777777778,\"#fb9f3a\"],[0.8888888888888888,\"#fdca26\"],[1.0,\"#f0f921\"]],\"sequentialminus\":[[0.0,\"#0d0887\"],[0.1111111111111111,\"#46039f\"],[0.2222222222222222,\"#7201a8\"],[0.3333333333333333,\"#9c179e\"],[0.4444444444444444,\"#bd3786\"],[0.5555555555555556,\"#d8576b\"],[0.6666666666666666,\"#ed7953\"],[0.7777777777777778,\"#fb9f3a\"],[0.8888888888888888,\"#fdca26\"],[1.0,\"#f0f921\"]],\"diverging\":[[0,\"#8e0152\"],[0.1,\"#c51b7d\"],[0.2,\"#de77ae\"],[0.3,\"#f1b6da\"],[0.4,\"#fde0ef\"],[0.5,\"#f7f7f7\"],[0.6,\"#e6f5d0\"],[0.7,\"#b8e186\"],[0.8,\"#7fbc41\"],[0.9,\"#4d9221\"],[1,\"#276419\"]]},\"xaxis\":{\"gridcolor\":\"white\",\"linecolor\":\"white\",\"ticks\":\"\",\"title\":{\"standoff\":15},\"zerolinecolor\":\"white\",\"automargin\":true,\"zerolinewidth\":2},\"yaxis\":{\"gridcolor\":\"white\",\"linecolor\":\"white\",\"ticks\":\"\",\"title\":{\"standoff\":15},\"zerolinecolor\":\"white\",\"automargin\":true,\"zerolinewidth\":2},\"scene\":{\"xaxis\":{\"backgroundcolor\":\"#E5ECF6\",\"gridcolor\":\"white\",\"linecolor\":\"white\",\"showbackground\":true,\"ticks\":\"\",\"zerolinecolor\":\"white\",\"gridwidth\":2},\"yaxis\":{\"backgroundcolor\":\"#E5ECF6\",\"gridcolor\":\"white\",\"linecolor\":\"white\",\"showbackground\":true,\"ticks\":\"\",\"zerolinecolor\":\"white\",\"gridwidth\":2},\"zaxis\":{\"backgroundcolor\":\"#E5ECF6\",\"gridcolor\":\"white\",\"linecolor\":\"white\",\"showbackground\":true,\"ticks\":\"\",\"zerolinecolor\":\"white\",\"gridwidth\":2}},\"shapedefaults\":{\"line\":{\"color\":\"#2a3f5f\"}},\"annotationdefaults\":{\"arrowcolor\":\"#2a3f5f\",\"arrowhead\":0,\"arrowwidth\":1},\"geo\":{\"bgcolor\":\"white\",\"landcolor\":\"#E5ECF6\",\"subunitcolor\":\"white\",\"showland\":true,\"showlakes\":true,\"lakecolor\":\"white\"},\"title\":{\"x\":0.05},\"mapbox\":{\"style\":\"light\"}}},\"coloraxis\":{\"colorbar\":{\"title\":{\"text\":\"value\"}},\"colorscale\":[[0.0,\"rgb(103,0,31)\"],[0.1,\"rgb(178,24,43)\"],[0.2,\"rgb(214,96,77)\"],[0.3,\"rgb(244,165,130)\"],[0.4,\"rgb(253,219,199)\"],[0.5,\"rgb(247,247,247)\"],[0.6,\"rgb(209,229,240)\"],[0.7,\"rgb(146,197,222)\"],[0.8,\"rgb(67,147,195)\"],[0.9,\"rgb(33,102,172)\"],[1.0,\"rgb(5,48,97)\"]]},\"legend\":{\"tracegroupgap\":0},\"margin\":{\"t\":60},\"height\":1000,\"width\":1720,\"title\":{\"text\":\"Most Important Reason to Own A Business\",\"x\":0.5}},                        {\"responsive\": true}                    ).then(function(){\n                            \nvar gd = document.getElementById('726f88cf-b5fe-47e9-99cc-5a7f45e66e1c');\nvar x = new MutationObserver(function (mutations, observer) {{\n        var display = window.getComputedStyle(gd).display;\n        if (!display || display === 'none') {{\n            console.log([gd, 'removed!']);\n            Plotly.purge(gd);\n            observer.disconnect();\n        }}\n}});\n\n// Listen for the removal of the full notebook cells\nvar notebookContainer = gd.closest('#notebook-container');\nif (notebookContainer) {{\n    x.observe(notebookContainer, {childList: true});\n}}\n\n// Listen for the clearing of the current output cell\nvar outputEl = gd.closest('.output');\nif (outputEl) {{\n    x.observe(outputEl, {childList: true});\n}}\n\n                        })                };                });            </script>        </div>"
     },
     "metadata": {},
     "output_type": "display_data"
    }
   ],
   "source": [
    "fig = px.treemap(very_important_answers, path=[px.Constant(\"How important is\"),'Question','OWNER_RACE_LABEL','Answer'], values='value',\n",
    "                 color= 'value',\n",
    "                 color_continuous_scale='RdBu',\n",
    "                  width=1720,\n",
    "                 height=1000,)\n",
    "fig.update_layout(title_text='Most Important Reason to Own A Business', title_x=0.5)\n",
    "fig.show()"
   ],
   "metadata": {
    "collapsed": false,
    "pycharm": {
     "name": "#%%\n"
    }
   }
  },
  {
   "cell_type": "markdown",
   "source": [
    "# Filter 3: Gender dataframe\n",
    "Repeat steps for race dataframe except filter on gender."
   ],
   "metadata": {
    "collapsed": false,
    "pycharm": {
     "name": "#%% md\n"
    }
   }
  },
  {
   "cell_type": "code",
   "execution_count": 69,
   "outputs": [],
   "source": [
    "gender = business_owners[['OWNER_SEX_LABEL', 'OWNCHAR_LABEL', 'OWNPDEMP_PCT']]"
   ],
   "metadata": {
    "collapsed": false,
    "pycharm": {
     "name": "#%%\n"
    }
   }
  },
  {
   "cell_type": "code",
   "execution_count": 70,
   "outputs": [
    {
     "data": {
      "text/plain": "All owners of respondent firms    84516\nMale                              80421\nFemale                            73251\nName: OWNER_SEX_LABEL, dtype: int64"
     },
     "execution_count": 70,
     "metadata": {},
     "output_type": "execute_result"
    }
   ],
   "source": [
    "gender.OWNER_SEX_LABEL.value_counts(0)"
   ],
   "metadata": {
    "collapsed": false,
    "pycharm": {
     "name": "#%%\n"
    }
   }
  },
  {
   "cell_type": "code",
   "execution_count": 71,
   "outputs": [],
   "source": [
    "gender = gender[gender['OWNCHAR_LABEL'] != 'Total reporting']\n",
    "gender = gender[gender['OWNER_SEX_LABEL'] != 'All owners of respondent firms']"
   ],
   "metadata": {
    "collapsed": false,
    "pycharm": {
     "name": "#%%\n"
    }
   }
  },
  {
   "cell_type": "code",
   "execution_count": 72,
   "outputs": [
    {
     "data": {
      "text/plain": "(148830, 3)"
     },
     "execution_count": 72,
     "metadata": {},
     "output_type": "execute_result"
    }
   ],
   "source": [
    "gender.shape"
   ],
   "metadata": {
    "collapsed": false,
    "pycharm": {
     "name": "#%%\n"
    }
   }
  },
  {
   "cell_type": "code",
   "execution_count": 73,
   "outputs": [
    {
     "data": {
      "text/plain": "                                                              OWNPDEMP_PCT\nOWNER_SEX_LABEL OWNCHAR_LABEL                                             \nFemale          Balance work and family: Not important           24.932661\n                Balance work and family: Somewhat important      30.281828\n                Balance work and family: Very important          60.317778\n                Best avenue for ideas: Not important             29.021064\n                Best avenue for ideas: Somewhat important        34.790087\n...                                                                    ...\nMale            Wanted to be my own boss: Somewhat important     28.607759\n                Wanted to be my own boss: Very important         67.963127\n                Work for self: Not important                     33.642451\n                Work for self: Somewhat important                38.831072\n                Work for self: Very important                    39.221477\n\n[74 rows x 1 columns]",
      "text/html": "<div>\n<style scoped>\n    .dataframe tbody tr th:only-of-type {\n        vertical-align: middle;\n    }\n\n    .dataframe tbody tr th {\n        vertical-align: top;\n    }\n\n    .dataframe thead th {\n        text-align: right;\n    }\n</style>\n<table border=\"1\" class=\"dataframe\">\n  <thead>\n    <tr style=\"text-align: right;\">\n      <th></th>\n      <th></th>\n      <th>OWNPDEMP_PCT</th>\n    </tr>\n    <tr>\n      <th>OWNER_SEX_LABEL</th>\n      <th>OWNCHAR_LABEL</th>\n      <th></th>\n    </tr>\n  </thead>\n  <tbody>\n    <tr>\n      <th rowspan=\"5\" valign=\"top\">Female</th>\n      <th>Balance work and family: Not important</th>\n      <td>24.932661</td>\n    </tr>\n    <tr>\n      <th>Balance work and family: Somewhat important</th>\n      <td>30.281828</td>\n    </tr>\n    <tr>\n      <th>Balance work and family: Very important</th>\n      <td>60.317778</td>\n    </tr>\n    <tr>\n      <th>Best avenue for ideas: Not important</th>\n      <td>29.021064</td>\n    </tr>\n    <tr>\n      <th>Best avenue for ideas: Somewhat important</th>\n      <td>34.790087</td>\n    </tr>\n    <tr>\n      <th>...</th>\n      <th>...</th>\n      <td>...</td>\n    </tr>\n    <tr>\n      <th rowspan=\"5\" valign=\"top\">Male</th>\n      <th>Wanted to be my own boss: Somewhat important</th>\n      <td>28.607759</td>\n    </tr>\n    <tr>\n      <th>Wanted to be my own boss: Very important</th>\n      <td>67.963127</td>\n    </tr>\n    <tr>\n      <th>Work for self: Not important</th>\n      <td>33.642451</td>\n    </tr>\n    <tr>\n      <th>Work for self: Somewhat important</th>\n      <td>38.831072</td>\n    </tr>\n    <tr>\n      <th>Work for self: Very important</th>\n      <td>39.221477</td>\n    </tr>\n  </tbody>\n</table>\n<p>74 rows × 1 columns</p>\n</div>"
     },
     "execution_count": 73,
     "metadata": {},
     "output_type": "execute_result"
    }
   ],
   "source": [
    "gender_group = gender.groupby(['OWNER_SEX_LABEL','OWNCHAR_LABEL']).mean()\n",
    "gender_group"
   ],
   "metadata": {
    "collapsed": false,
    "pycharm": {
     "name": "#%%\n"
    }
   }
  },
  {
   "cell_type": "code",
   "execution_count": 74,
   "outputs": [
    {
     "data": {
      "text/plain": "OWNER_SEX_LABEL                                OWNCHAR_LABEL     Female  \\\n0                     Balance work and family: Not important  24.932661   \n1                Balance work and family: Somewhat important  30.281828   \n2                    Balance work and family: Very important  60.317778   \n3                       Best avenue for ideas: Not important  29.021064   \n4                  Best avenue for ideas: Somewhat important  34.790087   \n\nOWNER_SEX_LABEL       Male  \n0                19.265779  \n1                35.348822  \n2                56.407584  \n3                15.857672  \n4                32.610798  ",
      "text/html": "<div>\n<style scoped>\n    .dataframe tbody tr th:only-of-type {\n        vertical-align: middle;\n    }\n\n    .dataframe tbody tr th {\n        vertical-align: top;\n    }\n\n    .dataframe thead th {\n        text-align: right;\n    }\n</style>\n<table border=\"1\" class=\"dataframe\">\n  <thead>\n    <tr style=\"text-align: right;\">\n      <th>OWNER_SEX_LABEL</th>\n      <th>OWNCHAR_LABEL</th>\n      <th>Female</th>\n      <th>Male</th>\n    </tr>\n  </thead>\n  <tbody>\n    <tr>\n      <th>0</th>\n      <td>Balance work and family: Not important</td>\n      <td>24.932661</td>\n      <td>19.265779</td>\n    </tr>\n    <tr>\n      <th>1</th>\n      <td>Balance work and family: Somewhat important</td>\n      <td>30.281828</td>\n      <td>35.348822</td>\n    </tr>\n    <tr>\n      <th>2</th>\n      <td>Balance work and family: Very important</td>\n      <td>60.317778</td>\n      <td>56.407584</td>\n    </tr>\n    <tr>\n      <th>3</th>\n      <td>Best avenue for ideas: Not important</td>\n      <td>29.021064</td>\n      <td>15.857672</td>\n    </tr>\n    <tr>\n      <th>4</th>\n      <td>Best avenue for ideas: Somewhat important</td>\n      <td>34.790087</td>\n      <td>32.610798</td>\n    </tr>\n  </tbody>\n</table>\n</div>"
     },
     "execution_count": 74,
     "metadata": {},
     "output_type": "execute_result"
    }
   ],
   "source": [
    "gender_group_pivot = gender_group.unstack().T.droplevel(level=0)\n",
    "gender_group_pivot.reset_index(inplace=True)\n",
    "gender_group_pivot.head()"
   ],
   "metadata": {
    "collapsed": false,
    "pycharm": {
     "name": "#%%\n"
    }
   }
  },
  {
   "cell_type": "code",
   "execution_count": 75,
   "outputs": [],
   "source": [
    "gender_group_pivot[['Question', 'Answer']] =gender_group_pivot['OWNCHAR_LABEL'].str.split(':', expand =True)"
   ],
   "metadata": {
    "collapsed": false,
    "pycharm": {
     "name": "#%%\n"
    }
   }
  },
  {
   "cell_type": "code",
   "execution_count": 76,
   "outputs": [
    {
     "data": {
      "text/plain": "OWNER_SEX_LABEL                                OWNCHAR_LABEL     Female  \\\n0                     Balance work and family: Not important  24.932661   \n1                Balance work and family: Somewhat important  30.281828   \n2                    Balance work and family: Very important  60.317778   \n3                       Best avenue for ideas: Not important  29.021064   \n4                  Best avenue for ideas: Somewhat important  34.790087   \n\nOWNER_SEX_LABEL       Male                 Question               Answer  \n0                19.265779  Balance work and family        Not important  \n1                35.348822  Balance work and family   Somewhat important  \n2                56.407584  Balance work and family       Very important  \n3                15.857672    Best avenue for ideas        Not important  \n4                32.610798    Best avenue for ideas   Somewhat important  ",
      "text/html": "<div>\n<style scoped>\n    .dataframe tbody tr th:only-of-type {\n        vertical-align: middle;\n    }\n\n    .dataframe tbody tr th {\n        vertical-align: top;\n    }\n\n    .dataframe thead th {\n        text-align: right;\n    }\n</style>\n<table border=\"1\" class=\"dataframe\">\n  <thead>\n    <tr style=\"text-align: right;\">\n      <th>OWNER_SEX_LABEL</th>\n      <th>OWNCHAR_LABEL</th>\n      <th>Female</th>\n      <th>Male</th>\n      <th>Question</th>\n      <th>Answer</th>\n    </tr>\n  </thead>\n  <tbody>\n    <tr>\n      <th>0</th>\n      <td>Balance work and family: Not important</td>\n      <td>24.932661</td>\n      <td>19.265779</td>\n      <td>Balance work and family</td>\n      <td>Not important</td>\n    </tr>\n    <tr>\n      <th>1</th>\n      <td>Balance work and family: Somewhat important</td>\n      <td>30.281828</td>\n      <td>35.348822</td>\n      <td>Balance work and family</td>\n      <td>Somewhat important</td>\n    </tr>\n    <tr>\n      <th>2</th>\n      <td>Balance work and family: Very important</td>\n      <td>60.317778</td>\n      <td>56.407584</td>\n      <td>Balance work and family</td>\n      <td>Very important</td>\n    </tr>\n    <tr>\n      <th>3</th>\n      <td>Best avenue for ideas: Not important</td>\n      <td>29.021064</td>\n      <td>15.857672</td>\n      <td>Best avenue for ideas</td>\n      <td>Not important</td>\n    </tr>\n    <tr>\n      <th>4</th>\n      <td>Best avenue for ideas: Somewhat important</td>\n      <td>34.790087</td>\n      <td>32.610798</td>\n      <td>Best avenue for ideas</td>\n      <td>Somewhat important</td>\n    </tr>\n  </tbody>\n</table>\n</div>"
     },
     "execution_count": 76,
     "metadata": {},
     "output_type": "execute_result"
    }
   ],
   "source": [
    "gender_group_pivot.head()"
   ],
   "metadata": {
    "collapsed": false,
    "pycharm": {
     "name": "#%%\n"
    }
   }
  },
  {
   "cell_type": "code",
   "execution_count": 77,
   "outputs": [],
   "source": [
    "gender_group_pivot.drop(['OWNCHAR_LABEL', ], axis=1, inplace=True)"
   ],
   "metadata": {
    "collapsed": false,
    "pycharm": {
     "name": "#%%\n"
    }
   }
  },
  {
   "cell_type": "code",
   "execution_count": 78,
   "outputs": [],
   "source": [
    "very_important_answers_gender = gender_group_pivot[gender_group_pivot['Answer'] == ' Very important']"
   ],
   "metadata": {
    "collapsed": false,
    "pycharm": {
     "name": "#%%\n"
    }
   }
  },
  {
   "cell_type": "code",
   "execution_count": 79,
   "outputs": [],
   "source": [
    "very_important_answers_gender = pd.melt(very_important_answers_gender,id_vars=['Question','Answer'])"
   ],
   "metadata": {
    "collapsed": false,
    "pycharm": {
     "name": "#%%\n"
    }
   }
  },
  {
   "cell_type": "code",
   "execution_count": 80,
   "outputs": [
    {
     "data": {
      "text/plain": "                   Question           Answer OWNER_SEX_LABEL      value\n0   Balance work and family   Very important          Female  60.317778\n1     Best avenue for ideas   Very important          Female  51.957325\n2  Carry on family business   Very important          Female  28.073248\n3       Couldn't find a job   Very important          Female  11.464938\n4            Flexible hours   Very important          Female  56.849436",
      "text/html": "<div>\n<style scoped>\n    .dataframe tbody tr th:only-of-type {\n        vertical-align: middle;\n    }\n\n    .dataframe tbody tr th {\n        vertical-align: top;\n    }\n\n    .dataframe thead th {\n        text-align: right;\n    }\n</style>\n<table border=\"1\" class=\"dataframe\">\n  <thead>\n    <tr style=\"text-align: right;\">\n      <th></th>\n      <th>Question</th>\n      <th>Answer</th>\n      <th>OWNER_SEX_LABEL</th>\n      <th>value</th>\n    </tr>\n  </thead>\n  <tbody>\n    <tr>\n      <th>0</th>\n      <td>Balance work and family</td>\n      <td>Very important</td>\n      <td>Female</td>\n      <td>60.317778</td>\n    </tr>\n    <tr>\n      <th>1</th>\n      <td>Best avenue for ideas</td>\n      <td>Very important</td>\n      <td>Female</td>\n      <td>51.957325</td>\n    </tr>\n    <tr>\n      <th>2</th>\n      <td>Carry on family business</td>\n      <td>Very important</td>\n      <td>Female</td>\n      <td>28.073248</td>\n    </tr>\n    <tr>\n      <th>3</th>\n      <td>Couldn't find a job</td>\n      <td>Very important</td>\n      <td>Female</td>\n      <td>11.464938</td>\n    </tr>\n    <tr>\n      <th>4</th>\n      <td>Flexible hours</td>\n      <td>Very important</td>\n      <td>Female</td>\n      <td>56.849436</td>\n    </tr>\n  </tbody>\n</table>\n</div>"
     },
     "execution_count": 80,
     "metadata": {},
     "output_type": "execute_result"
    }
   ],
   "source": [
    "very_important_answers_gender.head()"
   ],
   "metadata": {
    "collapsed": false,
    "pycharm": {
     "name": "#%%\n"
    }
   }
  },
  {
   "cell_type": "code",
   "execution_count": 81,
   "outputs": [
    {
     "data": {
      "application/vnd.plotly.v1+json": {
       "data": [
        {
         "alignmentgroup": "True",
         "hovertemplate": "Gender=Female<br>Question=%{x}<br>Number of respondents=%{y}<extra></extra>",
         "legendgroup": "Female",
         "marker": {
          "color": "#636efa",
          "pattern": {
           "shape": ""
          }
         },
         "name": "Female",
         "offsetgroup": "Female",
         "orientation": "v",
         "showlegend": true,
         "textposition": "auto",
         "x": [
          "Balance work and family",
          "Best avenue for ideas",
          "Carry on family business",
          "Couldn't find a job",
          "Flexible hours",
          "Friend or family role model",
          "Greater income",
          "Help my community",
          "Other",
          "Start my own business",
          "Wanted to be my own boss",
          "Work for self"
         ],
         "xaxis": "x",
         "y": [
          60.31777777777778,
          51.957324540744224,
          28.073248407643312,
          11.464937623112277,
          56.849436090225566,
          33.17437722419929,
          57.89223300970873,
          32.39465570400822,
          15.255670103092783,
          43.07933042212518,
          54.437780898876404,
          30.994717762817196
         ],
         "yaxis": "y",
         "type": "bar"
        },
        {
         "alignmentgroup": "True",
         "hovertemplate": "Gender=Male<br>Question=%{x}<br>Number of respondents=%{y}<extra></extra>",
         "legendgroup": "Male",
         "marker": {
          "color": "#EF553B",
          "pattern": {
           "shape": ""
          }
         },
         "name": "Male",
         "offsetgroup": "Male",
         "orientation": "v",
         "showlegend": true,
         "textposition": "auto",
         "x": [
          "Balance work and family",
          "Best avenue for ideas",
          "Carry on family business",
          "Couldn't find a job",
          "Flexible hours",
          "Friend or family role model",
          "Greater income",
          "Help my community",
          "Other",
          "Start my own business",
          "Wanted to be my own boss",
          "Work for self"
         ],
         "xaxis": "x",
         "y": [
          56.407583547557834,
          61.667367535744326,
          26.391194029850748,
          12.723659480375897,
          53.893874029335635,
          34.899675925925926,
          66.6328327075511,
          31.696837209302323,
          14.341860465116278,
          55.882848588537215,
          67.963127090301,
          39.22147711826008
         ],
         "yaxis": "y",
         "type": "bar"
        }
       ],
       "layout": {
        "template": {
         "data": {
          "histogram2dcontour": [
           {
            "type": "histogram2dcontour",
            "colorbar": {
             "outlinewidth": 0,
             "ticks": ""
            },
            "colorscale": [
             [
              0.0,
              "#0d0887"
             ],
             [
              0.1111111111111111,
              "#46039f"
             ],
             [
              0.2222222222222222,
              "#7201a8"
             ],
             [
              0.3333333333333333,
              "#9c179e"
             ],
             [
              0.4444444444444444,
              "#bd3786"
             ],
             [
              0.5555555555555556,
              "#d8576b"
             ],
             [
              0.6666666666666666,
              "#ed7953"
             ],
             [
              0.7777777777777778,
              "#fb9f3a"
             ],
             [
              0.8888888888888888,
              "#fdca26"
             ],
             [
              1.0,
              "#f0f921"
             ]
            ]
           }
          ],
          "choropleth": [
           {
            "type": "choropleth",
            "colorbar": {
             "outlinewidth": 0,
             "ticks": ""
            }
           }
          ],
          "histogram2d": [
           {
            "type": "histogram2d",
            "colorbar": {
             "outlinewidth": 0,
             "ticks": ""
            },
            "colorscale": [
             [
              0.0,
              "#0d0887"
             ],
             [
              0.1111111111111111,
              "#46039f"
             ],
             [
              0.2222222222222222,
              "#7201a8"
             ],
             [
              0.3333333333333333,
              "#9c179e"
             ],
             [
              0.4444444444444444,
              "#bd3786"
             ],
             [
              0.5555555555555556,
              "#d8576b"
             ],
             [
              0.6666666666666666,
              "#ed7953"
             ],
             [
              0.7777777777777778,
              "#fb9f3a"
             ],
             [
              0.8888888888888888,
              "#fdca26"
             ],
             [
              1.0,
              "#f0f921"
             ]
            ]
           }
          ],
          "heatmap": [
           {
            "type": "heatmap",
            "colorbar": {
             "outlinewidth": 0,
             "ticks": ""
            },
            "colorscale": [
             [
              0.0,
              "#0d0887"
             ],
             [
              0.1111111111111111,
              "#46039f"
             ],
             [
              0.2222222222222222,
              "#7201a8"
             ],
             [
              0.3333333333333333,
              "#9c179e"
             ],
             [
              0.4444444444444444,
              "#bd3786"
             ],
             [
              0.5555555555555556,
              "#d8576b"
             ],
             [
              0.6666666666666666,
              "#ed7953"
             ],
             [
              0.7777777777777778,
              "#fb9f3a"
             ],
             [
              0.8888888888888888,
              "#fdca26"
             ],
             [
              1.0,
              "#f0f921"
             ]
            ]
           }
          ],
          "heatmapgl": [
           {
            "type": "heatmapgl",
            "colorbar": {
             "outlinewidth": 0,
             "ticks": ""
            },
            "colorscale": [
             [
              0.0,
              "#0d0887"
             ],
             [
              0.1111111111111111,
              "#46039f"
             ],
             [
              0.2222222222222222,
              "#7201a8"
             ],
             [
              0.3333333333333333,
              "#9c179e"
             ],
             [
              0.4444444444444444,
              "#bd3786"
             ],
             [
              0.5555555555555556,
              "#d8576b"
             ],
             [
              0.6666666666666666,
              "#ed7953"
             ],
             [
              0.7777777777777778,
              "#fb9f3a"
             ],
             [
              0.8888888888888888,
              "#fdca26"
             ],
             [
              1.0,
              "#f0f921"
             ]
            ]
           }
          ],
          "contourcarpet": [
           {
            "type": "contourcarpet",
            "colorbar": {
             "outlinewidth": 0,
             "ticks": ""
            }
           }
          ],
          "contour": [
           {
            "type": "contour",
            "colorbar": {
             "outlinewidth": 0,
             "ticks": ""
            },
            "colorscale": [
             [
              0.0,
              "#0d0887"
             ],
             [
              0.1111111111111111,
              "#46039f"
             ],
             [
              0.2222222222222222,
              "#7201a8"
             ],
             [
              0.3333333333333333,
              "#9c179e"
             ],
             [
              0.4444444444444444,
              "#bd3786"
             ],
             [
              0.5555555555555556,
              "#d8576b"
             ],
             [
              0.6666666666666666,
              "#ed7953"
             ],
             [
              0.7777777777777778,
              "#fb9f3a"
             ],
             [
              0.8888888888888888,
              "#fdca26"
             ],
             [
              1.0,
              "#f0f921"
             ]
            ]
           }
          ],
          "surface": [
           {
            "type": "surface",
            "colorbar": {
             "outlinewidth": 0,
             "ticks": ""
            },
            "colorscale": [
             [
              0.0,
              "#0d0887"
             ],
             [
              0.1111111111111111,
              "#46039f"
             ],
             [
              0.2222222222222222,
              "#7201a8"
             ],
             [
              0.3333333333333333,
              "#9c179e"
             ],
             [
              0.4444444444444444,
              "#bd3786"
             ],
             [
              0.5555555555555556,
              "#d8576b"
             ],
             [
              0.6666666666666666,
              "#ed7953"
             ],
             [
              0.7777777777777778,
              "#fb9f3a"
             ],
             [
              0.8888888888888888,
              "#fdca26"
             ],
             [
              1.0,
              "#f0f921"
             ]
            ]
           }
          ],
          "mesh3d": [
           {
            "type": "mesh3d",
            "colorbar": {
             "outlinewidth": 0,
             "ticks": ""
            }
           }
          ],
          "scatter": [
           {
            "fillpattern": {
             "fillmode": "overlay",
             "size": 10,
             "solidity": 0.2
            },
            "type": "scatter"
           }
          ],
          "parcoords": [
           {
            "type": "parcoords",
            "line": {
             "colorbar": {
              "outlinewidth": 0,
              "ticks": ""
             }
            }
           }
          ],
          "scatterpolargl": [
           {
            "type": "scatterpolargl",
            "marker": {
             "colorbar": {
              "outlinewidth": 0,
              "ticks": ""
             }
            }
           }
          ],
          "bar": [
           {
            "error_x": {
             "color": "#2a3f5f"
            },
            "error_y": {
             "color": "#2a3f5f"
            },
            "marker": {
             "line": {
              "color": "#E5ECF6",
              "width": 0.5
             },
             "pattern": {
              "fillmode": "overlay",
              "size": 10,
              "solidity": 0.2
             }
            },
            "type": "bar"
           }
          ],
          "scattergeo": [
           {
            "type": "scattergeo",
            "marker": {
             "colorbar": {
              "outlinewidth": 0,
              "ticks": ""
             }
            }
           }
          ],
          "scatterpolar": [
           {
            "type": "scatterpolar",
            "marker": {
             "colorbar": {
              "outlinewidth": 0,
              "ticks": ""
             }
            }
           }
          ],
          "histogram": [
           {
            "marker": {
             "pattern": {
              "fillmode": "overlay",
              "size": 10,
              "solidity": 0.2
             }
            },
            "type": "histogram"
           }
          ],
          "scattergl": [
           {
            "type": "scattergl",
            "marker": {
             "colorbar": {
              "outlinewidth": 0,
              "ticks": ""
             }
            }
           }
          ],
          "scatter3d": [
           {
            "type": "scatter3d",
            "line": {
             "colorbar": {
              "outlinewidth": 0,
              "ticks": ""
             }
            },
            "marker": {
             "colorbar": {
              "outlinewidth": 0,
              "ticks": ""
             }
            }
           }
          ],
          "scattermapbox": [
           {
            "type": "scattermapbox",
            "marker": {
             "colorbar": {
              "outlinewidth": 0,
              "ticks": ""
             }
            }
           }
          ],
          "scatterternary": [
           {
            "type": "scatterternary",
            "marker": {
             "colorbar": {
              "outlinewidth": 0,
              "ticks": ""
             }
            }
           }
          ],
          "scattercarpet": [
           {
            "type": "scattercarpet",
            "marker": {
             "colorbar": {
              "outlinewidth": 0,
              "ticks": ""
             }
            }
           }
          ],
          "carpet": [
           {
            "aaxis": {
             "endlinecolor": "#2a3f5f",
             "gridcolor": "white",
             "linecolor": "white",
             "minorgridcolor": "white",
             "startlinecolor": "#2a3f5f"
            },
            "baxis": {
             "endlinecolor": "#2a3f5f",
             "gridcolor": "white",
             "linecolor": "white",
             "minorgridcolor": "white",
             "startlinecolor": "#2a3f5f"
            },
            "type": "carpet"
           }
          ],
          "table": [
           {
            "cells": {
             "fill": {
              "color": "#EBF0F8"
             },
             "line": {
              "color": "white"
             }
            },
            "header": {
             "fill": {
              "color": "#C8D4E3"
             },
             "line": {
              "color": "white"
             }
            },
            "type": "table"
           }
          ],
          "barpolar": [
           {
            "marker": {
             "line": {
              "color": "#E5ECF6",
              "width": 0.5
             },
             "pattern": {
              "fillmode": "overlay",
              "size": 10,
              "solidity": 0.2
             }
            },
            "type": "barpolar"
           }
          ],
          "pie": [
           {
            "automargin": true,
            "type": "pie"
           }
          ]
         },
         "layout": {
          "autotypenumbers": "strict",
          "colorway": [
           "#636efa",
           "#EF553B",
           "#00cc96",
           "#ab63fa",
           "#FFA15A",
           "#19d3f3",
           "#FF6692",
           "#B6E880",
           "#FF97FF",
           "#FECB52"
          ],
          "font": {
           "color": "#2a3f5f"
          },
          "hovermode": "closest",
          "hoverlabel": {
           "align": "left"
          },
          "paper_bgcolor": "white",
          "plot_bgcolor": "#E5ECF6",
          "polar": {
           "bgcolor": "#E5ECF6",
           "angularaxis": {
            "gridcolor": "white",
            "linecolor": "white",
            "ticks": ""
           },
           "radialaxis": {
            "gridcolor": "white",
            "linecolor": "white",
            "ticks": ""
           }
          },
          "ternary": {
           "bgcolor": "#E5ECF6",
           "aaxis": {
            "gridcolor": "white",
            "linecolor": "white",
            "ticks": ""
           },
           "baxis": {
            "gridcolor": "white",
            "linecolor": "white",
            "ticks": ""
           },
           "caxis": {
            "gridcolor": "white",
            "linecolor": "white",
            "ticks": ""
           }
          },
          "coloraxis": {
           "colorbar": {
            "outlinewidth": 0,
            "ticks": ""
           }
          },
          "colorscale": {
           "sequential": [
            [
             0.0,
             "#0d0887"
            ],
            [
             0.1111111111111111,
             "#46039f"
            ],
            [
             0.2222222222222222,
             "#7201a8"
            ],
            [
             0.3333333333333333,
             "#9c179e"
            ],
            [
             0.4444444444444444,
             "#bd3786"
            ],
            [
             0.5555555555555556,
             "#d8576b"
            ],
            [
             0.6666666666666666,
             "#ed7953"
            ],
            [
             0.7777777777777778,
             "#fb9f3a"
            ],
            [
             0.8888888888888888,
             "#fdca26"
            ],
            [
             1.0,
             "#f0f921"
            ]
           ],
           "sequentialminus": [
            [
             0.0,
             "#0d0887"
            ],
            [
             0.1111111111111111,
             "#46039f"
            ],
            [
             0.2222222222222222,
             "#7201a8"
            ],
            [
             0.3333333333333333,
             "#9c179e"
            ],
            [
             0.4444444444444444,
             "#bd3786"
            ],
            [
             0.5555555555555556,
             "#d8576b"
            ],
            [
             0.6666666666666666,
             "#ed7953"
            ],
            [
             0.7777777777777778,
             "#fb9f3a"
            ],
            [
             0.8888888888888888,
             "#fdca26"
            ],
            [
             1.0,
             "#f0f921"
            ]
           ],
           "diverging": [
            [
             0,
             "#8e0152"
            ],
            [
             0.1,
             "#c51b7d"
            ],
            [
             0.2,
             "#de77ae"
            ],
            [
             0.3,
             "#f1b6da"
            ],
            [
             0.4,
             "#fde0ef"
            ],
            [
             0.5,
             "#f7f7f7"
            ],
            [
             0.6,
             "#e6f5d0"
            ],
            [
             0.7,
             "#b8e186"
            ],
            [
             0.8,
             "#7fbc41"
            ],
            [
             0.9,
             "#4d9221"
            ],
            [
             1,
             "#276419"
            ]
           ]
          },
          "xaxis": {
           "gridcolor": "white",
           "linecolor": "white",
           "ticks": "",
           "title": {
            "standoff": 15
           },
           "zerolinecolor": "white",
           "automargin": true,
           "zerolinewidth": 2
          },
          "yaxis": {
           "gridcolor": "white",
           "linecolor": "white",
           "ticks": "",
           "title": {
            "standoff": 15
           },
           "zerolinecolor": "white",
           "automargin": true,
           "zerolinewidth": 2
          },
          "scene": {
           "xaxis": {
            "backgroundcolor": "#E5ECF6",
            "gridcolor": "white",
            "linecolor": "white",
            "showbackground": true,
            "ticks": "",
            "zerolinecolor": "white",
            "gridwidth": 2
           },
           "yaxis": {
            "backgroundcolor": "#E5ECF6",
            "gridcolor": "white",
            "linecolor": "white",
            "showbackground": true,
            "ticks": "",
            "zerolinecolor": "white",
            "gridwidth": 2
           },
           "zaxis": {
            "backgroundcolor": "#E5ECF6",
            "gridcolor": "white",
            "linecolor": "white",
            "showbackground": true,
            "ticks": "",
            "zerolinecolor": "white",
            "gridwidth": 2
           }
          },
          "shapedefaults": {
           "line": {
            "color": "#2a3f5f"
           }
          },
          "annotationdefaults": {
           "arrowcolor": "#2a3f5f",
           "arrowhead": 0,
           "arrowwidth": 1
          },
          "geo": {
           "bgcolor": "white",
           "landcolor": "#E5ECF6",
           "subunitcolor": "white",
           "showland": true,
           "showlakes": true,
           "lakecolor": "white"
          },
          "title": {
           "x": 0.05
          },
          "mapbox": {
           "style": "light"
          }
         }
        },
        "xaxis": {
         "anchor": "y",
         "domain": [
          0.0,
          1.0
         ],
         "title": {
          "text": "Question"
         }
        },
        "yaxis": {
         "anchor": "x",
         "domain": [
          0.0,
          1.0
         ],
         "title": {
          "text": "Number of respondents"
         }
        },
        "legend": {
         "title": {
          "text": "Gender"
         },
         "tracegroupgap": 0
        },
        "title": {
         "text": "Most Important to Own a Business by Gender",
         "x": 0.5
        },
        "barmode": "relative"
       },
       "config": {
        "plotlyServerURL": "https://plot.ly"
       }
      },
      "text/html": "<div>                            <div id=\"28b06f2c-cd8f-415c-80d8-fd5c13869d44\" class=\"plotly-graph-div\" style=\"height:525px; width:100%;\"></div>            <script type=\"text/javascript\">                require([\"plotly\"], function(Plotly) {                    window.PLOTLYENV=window.PLOTLYENV || {};                                    if (document.getElementById(\"28b06f2c-cd8f-415c-80d8-fd5c13869d44\")) {                    Plotly.newPlot(                        \"28b06f2c-cd8f-415c-80d8-fd5c13869d44\",                        [{\"alignmentgroup\":\"True\",\"hovertemplate\":\"Gender=Female<br>Question=%{x}<br>Number of respondents=%{y}<extra></extra>\",\"legendgroup\":\"Female\",\"marker\":{\"color\":\"#636efa\",\"pattern\":{\"shape\":\"\"}},\"name\":\"Female\",\"offsetgroup\":\"Female\",\"orientation\":\"v\",\"showlegend\":true,\"textposition\":\"auto\",\"x\":[\"Balance work and family\",\"Best avenue for ideas\",\"Carry on family business\",\"Couldn't find a job\",\"Flexible hours\",\"Friend or family role model\",\"Greater income\",\"Help my community\",\"Other\",\"Start my own business\",\"Wanted to be my own boss\",\"Work for self\"],\"xaxis\":\"x\",\"y\":[60.31777777777778,51.957324540744224,28.073248407643312,11.464937623112277,56.849436090225566,33.17437722419929,57.89223300970873,32.39465570400822,15.255670103092783,43.07933042212518,54.437780898876404,30.994717762817196],\"yaxis\":\"y\",\"type\":\"bar\"},{\"alignmentgroup\":\"True\",\"hovertemplate\":\"Gender=Male<br>Question=%{x}<br>Number of respondents=%{y}<extra></extra>\",\"legendgroup\":\"Male\",\"marker\":{\"color\":\"#EF553B\",\"pattern\":{\"shape\":\"\"}},\"name\":\"Male\",\"offsetgroup\":\"Male\",\"orientation\":\"v\",\"showlegend\":true,\"textposition\":\"auto\",\"x\":[\"Balance work and family\",\"Best avenue for ideas\",\"Carry on family business\",\"Couldn't find a job\",\"Flexible hours\",\"Friend or family role model\",\"Greater income\",\"Help my community\",\"Other\",\"Start my own business\",\"Wanted to be my own boss\",\"Work for self\"],\"xaxis\":\"x\",\"y\":[56.407583547557834,61.667367535744326,26.391194029850748,12.723659480375897,53.893874029335635,34.899675925925926,66.6328327075511,31.696837209302323,14.341860465116278,55.882848588537215,67.963127090301,39.22147711826008],\"yaxis\":\"y\",\"type\":\"bar\"}],                        {\"template\":{\"data\":{\"histogram2dcontour\":[{\"type\":\"histogram2dcontour\",\"colorbar\":{\"outlinewidth\":0,\"ticks\":\"\"},\"colorscale\":[[0.0,\"#0d0887\"],[0.1111111111111111,\"#46039f\"],[0.2222222222222222,\"#7201a8\"],[0.3333333333333333,\"#9c179e\"],[0.4444444444444444,\"#bd3786\"],[0.5555555555555556,\"#d8576b\"],[0.6666666666666666,\"#ed7953\"],[0.7777777777777778,\"#fb9f3a\"],[0.8888888888888888,\"#fdca26\"],[1.0,\"#f0f921\"]]}],\"choropleth\":[{\"type\":\"choropleth\",\"colorbar\":{\"outlinewidth\":0,\"ticks\":\"\"}}],\"histogram2d\":[{\"type\":\"histogram2d\",\"colorbar\":{\"outlinewidth\":0,\"ticks\":\"\"},\"colorscale\":[[0.0,\"#0d0887\"],[0.1111111111111111,\"#46039f\"],[0.2222222222222222,\"#7201a8\"],[0.3333333333333333,\"#9c179e\"],[0.4444444444444444,\"#bd3786\"],[0.5555555555555556,\"#d8576b\"],[0.6666666666666666,\"#ed7953\"],[0.7777777777777778,\"#fb9f3a\"],[0.8888888888888888,\"#fdca26\"],[1.0,\"#f0f921\"]]}],\"heatmap\":[{\"type\":\"heatmap\",\"colorbar\":{\"outlinewidth\":0,\"ticks\":\"\"},\"colorscale\":[[0.0,\"#0d0887\"],[0.1111111111111111,\"#46039f\"],[0.2222222222222222,\"#7201a8\"],[0.3333333333333333,\"#9c179e\"],[0.4444444444444444,\"#bd3786\"],[0.5555555555555556,\"#d8576b\"],[0.6666666666666666,\"#ed7953\"],[0.7777777777777778,\"#fb9f3a\"],[0.8888888888888888,\"#fdca26\"],[1.0,\"#f0f921\"]]}],\"heatmapgl\":[{\"type\":\"heatmapgl\",\"colorbar\":{\"outlinewidth\":0,\"ticks\":\"\"},\"colorscale\":[[0.0,\"#0d0887\"],[0.1111111111111111,\"#46039f\"],[0.2222222222222222,\"#7201a8\"],[0.3333333333333333,\"#9c179e\"],[0.4444444444444444,\"#bd3786\"],[0.5555555555555556,\"#d8576b\"],[0.6666666666666666,\"#ed7953\"],[0.7777777777777778,\"#fb9f3a\"],[0.8888888888888888,\"#fdca26\"],[1.0,\"#f0f921\"]]}],\"contourcarpet\":[{\"type\":\"contourcarpet\",\"colorbar\":{\"outlinewidth\":0,\"ticks\":\"\"}}],\"contour\":[{\"type\":\"contour\",\"colorbar\":{\"outlinewidth\":0,\"ticks\":\"\"},\"colorscale\":[[0.0,\"#0d0887\"],[0.1111111111111111,\"#46039f\"],[0.2222222222222222,\"#7201a8\"],[0.3333333333333333,\"#9c179e\"],[0.4444444444444444,\"#bd3786\"],[0.5555555555555556,\"#d8576b\"],[0.6666666666666666,\"#ed7953\"],[0.7777777777777778,\"#fb9f3a\"],[0.8888888888888888,\"#fdca26\"],[1.0,\"#f0f921\"]]}],\"surface\":[{\"type\":\"surface\",\"colorbar\":{\"outlinewidth\":0,\"ticks\":\"\"},\"colorscale\":[[0.0,\"#0d0887\"],[0.1111111111111111,\"#46039f\"],[0.2222222222222222,\"#7201a8\"],[0.3333333333333333,\"#9c179e\"],[0.4444444444444444,\"#bd3786\"],[0.5555555555555556,\"#d8576b\"],[0.6666666666666666,\"#ed7953\"],[0.7777777777777778,\"#fb9f3a\"],[0.8888888888888888,\"#fdca26\"],[1.0,\"#f0f921\"]]}],\"mesh3d\":[{\"type\":\"mesh3d\",\"colorbar\":{\"outlinewidth\":0,\"ticks\":\"\"}}],\"scatter\":[{\"fillpattern\":{\"fillmode\":\"overlay\",\"size\":10,\"solidity\":0.2},\"type\":\"scatter\"}],\"parcoords\":[{\"type\":\"parcoords\",\"line\":{\"colorbar\":{\"outlinewidth\":0,\"ticks\":\"\"}}}],\"scatterpolargl\":[{\"type\":\"scatterpolargl\",\"marker\":{\"colorbar\":{\"outlinewidth\":0,\"ticks\":\"\"}}}],\"bar\":[{\"error_x\":{\"color\":\"#2a3f5f\"},\"error_y\":{\"color\":\"#2a3f5f\"},\"marker\":{\"line\":{\"color\":\"#E5ECF6\",\"width\":0.5},\"pattern\":{\"fillmode\":\"overlay\",\"size\":10,\"solidity\":0.2}},\"type\":\"bar\"}],\"scattergeo\":[{\"type\":\"scattergeo\",\"marker\":{\"colorbar\":{\"outlinewidth\":0,\"ticks\":\"\"}}}],\"scatterpolar\":[{\"type\":\"scatterpolar\",\"marker\":{\"colorbar\":{\"outlinewidth\":0,\"ticks\":\"\"}}}],\"histogram\":[{\"marker\":{\"pattern\":{\"fillmode\":\"overlay\",\"size\":10,\"solidity\":0.2}},\"type\":\"histogram\"}],\"scattergl\":[{\"type\":\"scattergl\",\"marker\":{\"colorbar\":{\"outlinewidth\":0,\"ticks\":\"\"}}}],\"scatter3d\":[{\"type\":\"scatter3d\",\"line\":{\"colorbar\":{\"outlinewidth\":0,\"ticks\":\"\"}},\"marker\":{\"colorbar\":{\"outlinewidth\":0,\"ticks\":\"\"}}}],\"scattermapbox\":[{\"type\":\"scattermapbox\",\"marker\":{\"colorbar\":{\"outlinewidth\":0,\"ticks\":\"\"}}}],\"scatterternary\":[{\"type\":\"scatterternary\",\"marker\":{\"colorbar\":{\"outlinewidth\":0,\"ticks\":\"\"}}}],\"scattercarpet\":[{\"type\":\"scattercarpet\",\"marker\":{\"colorbar\":{\"outlinewidth\":0,\"ticks\":\"\"}}}],\"carpet\":[{\"aaxis\":{\"endlinecolor\":\"#2a3f5f\",\"gridcolor\":\"white\",\"linecolor\":\"white\",\"minorgridcolor\":\"white\",\"startlinecolor\":\"#2a3f5f\"},\"baxis\":{\"endlinecolor\":\"#2a3f5f\",\"gridcolor\":\"white\",\"linecolor\":\"white\",\"minorgridcolor\":\"white\",\"startlinecolor\":\"#2a3f5f\"},\"type\":\"carpet\"}],\"table\":[{\"cells\":{\"fill\":{\"color\":\"#EBF0F8\"},\"line\":{\"color\":\"white\"}},\"header\":{\"fill\":{\"color\":\"#C8D4E3\"},\"line\":{\"color\":\"white\"}},\"type\":\"table\"}],\"barpolar\":[{\"marker\":{\"line\":{\"color\":\"#E5ECF6\",\"width\":0.5},\"pattern\":{\"fillmode\":\"overlay\",\"size\":10,\"solidity\":0.2}},\"type\":\"barpolar\"}],\"pie\":[{\"automargin\":true,\"type\":\"pie\"}]},\"layout\":{\"autotypenumbers\":\"strict\",\"colorway\":[\"#636efa\",\"#EF553B\",\"#00cc96\",\"#ab63fa\",\"#FFA15A\",\"#19d3f3\",\"#FF6692\",\"#B6E880\",\"#FF97FF\",\"#FECB52\"],\"font\":{\"color\":\"#2a3f5f\"},\"hovermode\":\"closest\",\"hoverlabel\":{\"align\":\"left\"},\"paper_bgcolor\":\"white\",\"plot_bgcolor\":\"#E5ECF6\",\"polar\":{\"bgcolor\":\"#E5ECF6\",\"angularaxis\":{\"gridcolor\":\"white\",\"linecolor\":\"white\",\"ticks\":\"\"},\"radialaxis\":{\"gridcolor\":\"white\",\"linecolor\":\"white\",\"ticks\":\"\"}},\"ternary\":{\"bgcolor\":\"#E5ECF6\",\"aaxis\":{\"gridcolor\":\"white\",\"linecolor\":\"white\",\"ticks\":\"\"},\"baxis\":{\"gridcolor\":\"white\",\"linecolor\":\"white\",\"ticks\":\"\"},\"caxis\":{\"gridcolor\":\"white\",\"linecolor\":\"white\",\"ticks\":\"\"}},\"coloraxis\":{\"colorbar\":{\"outlinewidth\":0,\"ticks\":\"\"}},\"colorscale\":{\"sequential\":[[0.0,\"#0d0887\"],[0.1111111111111111,\"#46039f\"],[0.2222222222222222,\"#7201a8\"],[0.3333333333333333,\"#9c179e\"],[0.4444444444444444,\"#bd3786\"],[0.5555555555555556,\"#d8576b\"],[0.6666666666666666,\"#ed7953\"],[0.7777777777777778,\"#fb9f3a\"],[0.8888888888888888,\"#fdca26\"],[1.0,\"#f0f921\"]],\"sequentialminus\":[[0.0,\"#0d0887\"],[0.1111111111111111,\"#46039f\"],[0.2222222222222222,\"#7201a8\"],[0.3333333333333333,\"#9c179e\"],[0.4444444444444444,\"#bd3786\"],[0.5555555555555556,\"#d8576b\"],[0.6666666666666666,\"#ed7953\"],[0.7777777777777778,\"#fb9f3a\"],[0.8888888888888888,\"#fdca26\"],[1.0,\"#f0f921\"]],\"diverging\":[[0,\"#8e0152\"],[0.1,\"#c51b7d\"],[0.2,\"#de77ae\"],[0.3,\"#f1b6da\"],[0.4,\"#fde0ef\"],[0.5,\"#f7f7f7\"],[0.6,\"#e6f5d0\"],[0.7,\"#b8e186\"],[0.8,\"#7fbc41\"],[0.9,\"#4d9221\"],[1,\"#276419\"]]},\"xaxis\":{\"gridcolor\":\"white\",\"linecolor\":\"white\",\"ticks\":\"\",\"title\":{\"standoff\":15},\"zerolinecolor\":\"white\",\"automargin\":true,\"zerolinewidth\":2},\"yaxis\":{\"gridcolor\":\"white\",\"linecolor\":\"white\",\"ticks\":\"\",\"title\":{\"standoff\":15},\"zerolinecolor\":\"white\",\"automargin\":true,\"zerolinewidth\":2},\"scene\":{\"xaxis\":{\"backgroundcolor\":\"#E5ECF6\",\"gridcolor\":\"white\",\"linecolor\":\"white\",\"showbackground\":true,\"ticks\":\"\",\"zerolinecolor\":\"white\",\"gridwidth\":2},\"yaxis\":{\"backgroundcolor\":\"#E5ECF6\",\"gridcolor\":\"white\",\"linecolor\":\"white\",\"showbackground\":true,\"ticks\":\"\",\"zerolinecolor\":\"white\",\"gridwidth\":2},\"zaxis\":{\"backgroundcolor\":\"#E5ECF6\",\"gridcolor\":\"white\",\"linecolor\":\"white\",\"showbackground\":true,\"ticks\":\"\",\"zerolinecolor\":\"white\",\"gridwidth\":2}},\"shapedefaults\":{\"line\":{\"color\":\"#2a3f5f\"}},\"annotationdefaults\":{\"arrowcolor\":\"#2a3f5f\",\"arrowhead\":0,\"arrowwidth\":1},\"geo\":{\"bgcolor\":\"white\",\"landcolor\":\"#E5ECF6\",\"subunitcolor\":\"white\",\"showland\":true,\"showlakes\":true,\"lakecolor\":\"white\"},\"title\":{\"x\":0.05},\"mapbox\":{\"style\":\"light\"}}},\"xaxis\":{\"anchor\":\"y\",\"domain\":[0.0,1.0],\"title\":{\"text\":\"Question\"}},\"yaxis\":{\"anchor\":\"x\",\"domain\":[0.0,1.0],\"title\":{\"text\":\"Number of respondents\"}},\"legend\":{\"title\":{\"text\":\"Gender\"},\"tracegroupgap\":0},\"title\":{\"text\":\"Most Important to Own a Business by Gender\",\"x\":0.5},\"barmode\":\"relative\"},                        {\"responsive\": true}                    ).then(function(){\n                            \nvar gd = document.getElementById('28b06f2c-cd8f-415c-80d8-fd5c13869d44');\nvar x = new MutationObserver(function (mutations, observer) {{\n        var display = window.getComputedStyle(gd).display;\n        if (!display || display === 'none') {{\n            console.log([gd, 'removed!']);\n            Plotly.purge(gd);\n            observer.disconnect();\n        }}\n}});\n\n// Listen for the removal of the full notebook cells\nvar notebookContainer = gd.closest('#notebook-container');\nif (notebookContainer) {{\n    x.observe(notebookContainer, {childList: true});\n}}\n\n// Listen for the clearing of the current output cell\nvar outputEl = gd.closest('.output');\nif (outputEl) {{\n    x.observe(outputEl, {childList: true});\n}}\n\n                        })                };                });            </script>        </div>"
     },
     "metadata": {},
     "output_type": "display_data"
    }
   ],
   "source": [
    "fig = px.bar(very_important_answers_gender, x ='Question', y='value', color='OWNER_SEX_LABEL',\n",
    "             labels={\"value\":\"Number of respondents\",\n",
    "                     \"OWNER_SEX_LABEL\":\"Gender\"},\n",
    "             title='Most Important to Own a Business by Gender',\n",
    "\n",
    "             )\n",
    "fig.update_layout( title_x=0.5)\n",
    "fig.show()"
   ],
   "metadata": {
    "collapsed": false,
    "pycharm": {
     "name": "#%%\n"
    }
   }
  },
  {
   "cell_type": "code",
   "execution_count": 82,
   "outputs": [
    {
     "data": {
      "text/plain": "Professional, scientific, and technical services                1822\nManagement of companies and enterprises                         1737\nEducational services                                            1694\nWholesale electronic markets and agents and brokers             1648\nPrinting and related support activities                         1628\n                                                                ... \nGeneral medical and surgical hospitals                           149\nForest nurseries and gathering of forest products                135\nSpecialty (except psychiatric and substance abuse) hospitals      96\nPipeline transportation                                            6\nPipeline transportation of natural gas                             6\nName: NAICS2017_LABEL, Length: 362, dtype: int64"
     },
     "execution_count": 82,
     "metadata": {},
     "output_type": "execute_result"
    }
   ],
   "source": [
    "business_owners['NAICS2017_LABEL'].value_counts()"
   ],
   "metadata": {
    "collapsed": false,
    "pycharm": {
     "name": "#%%\n"
    }
   }
  },
  {
   "cell_type": "markdown",
   "source": [
    "# Filter 4: Own Boss dataframe\n",
    "For this dataframe we want to find out what industry are people working in that answer very important to \"wanted to be my own boss\"\n",
    "1. We create a dataframe with OWN_CHAR_LABEL AND NAICS2017_label\n",
    "2. Filter using the following\n",
    "```own_boss = own_boss[(own_boss['Question'] == 'Wanted to be my own boss') & (own_boss['Answer'] == ' Very important')]```\n",
    "3. Finally, take the 10 largest values using nlargets with parameters n= 10 and columns ='Answer'"
   ],
   "metadata": {
    "collapsed": false,
    "pycharm": {
     "name": "#%% md\n"
    }
   }
  },
  {
   "cell_type": "code",
   "execution_count": 83,
   "outputs": [],
   "source": [
    "own_boss = business_owners[['OWNCHAR_LABEL', 'NAICS2017_LABEL', ]]"
   ],
   "metadata": {
    "collapsed": false,
    "pycharm": {
     "name": "#%%\n"
    }
   }
  },
  {
   "cell_type": "code",
   "execution_count": 96,
   "outputs": [
    {
     "data": {
      "text/plain": "                                              Sector  Total\n0            Management of companies and enterprises     51\n1            Printing and related support activities     48\n2  Wholesale electronic markets and agents and br...     48\n3                               Educational services     48\n4                         Other information services     48",
      "text/html": "<div>\n<style scoped>\n    .dataframe tbody tr th:only-of-type {\n        vertical-align: middle;\n    }\n\n    .dataframe tbody tr th {\n        vertical-align: top;\n    }\n\n    .dataframe thead th {\n        text-align: right;\n    }\n</style>\n<table border=\"1\" class=\"dataframe\">\n  <thead>\n    <tr style=\"text-align: right;\">\n      <th></th>\n      <th>Sector</th>\n      <th>Total</th>\n    </tr>\n  </thead>\n  <tbody>\n    <tr>\n      <th>0</th>\n      <td>Management of companies and enterprises</td>\n      <td>51</td>\n    </tr>\n    <tr>\n      <th>1</th>\n      <td>Printing and related support activities</td>\n      <td>48</td>\n    </tr>\n    <tr>\n      <th>2</th>\n      <td>Wholesale electronic markets and agents and br...</td>\n      <td>48</td>\n    </tr>\n    <tr>\n      <th>3</th>\n      <td>Educational services</td>\n      <td>48</td>\n    </tr>\n    <tr>\n      <th>4</th>\n      <td>Other information services</td>\n      <td>48</td>\n    </tr>\n  </tbody>\n</table>\n</div>"
     },
     "execution_count": 96,
     "metadata": {},
     "output_type": "execute_result"
    }
   ],
   "source": [
    "own_boss.head()"
   ],
   "metadata": {
    "collapsed": false,
    "pycharm": {
     "name": "#%%\n"
    }
   }
  },
  {
   "cell_type": "code",
   "execution_count": 85,
   "outputs": [
    {
     "data": {
      "text/plain": "Professional, scientific, and technical services                                                               1822\nManagement of companies and enterprises                                                                        1737\nEducational services                                                                                           1694\nWholesale electronic markets and agents and brokers                                                            1648\nPrinting and related support activities                                                                        1628\nOther information services                                                                                     1584\nData processing, hosting, and related services                                                                 1552\nGasoline stations                                                                                              1516\nSupport activities for mining                                                                                  1472\nHealth and personal care stores                                                                                1442\nUtilities                                                                                                      1332\nWarehousing and storage                                                                                        1310\nElectronics and appliance stores                                                                               1234\nOil and gas extraction                                                                                         1196\nTotal for all sectors                                                                                           912\nFood services and drinking places                                                                               907\nAccommodation and food services                                                                                 907\nHealth care and social assistance                                                                               905\nComputer systems design and related services                                                                    905\nRestaurants and other eating places                                                                             904\nManufacturing                                                                                                   904\nConstruction                                                                                                    903\nAmbulatory health care services                                                                                 902\nAdministrative and support and waste management and remediation services                                        902\nAdministrative and support services                                                                             901\nAccounting, tax preparation, bookkeeping, and payroll services                                                  899\nManagement, scientific, and technical consulting services                                                       898\nInformation                                                                                                     896\nRetail trade                                                                                                    895\nTransportation and warehousing                                                                                  895\nSpecialty trade contractors                                                                                     895\nOther services (except public administration)                                                                   894\nServices to buildings and dwellings                                                                             893\nWholesale trade                                                                                                 893\nBuilding equipment contractors                                                                                  889\nReal estate and rental and leasing                                                                              886\nReal estate                                                                                                     885\nConstruction of buildings                                                                                       883\nLegal services                                                                                                  882\nResidential building construction                                                                               878\nPersonal and laundry services                                                                                   877\nOffices of physicians                                                                                           873\nOffices of other health practitioners                                                                           870\nMerchant wholesalers, durable goods                                                                             868\nPersonal care services                                                                                          868\nRepair and maintenance                                                                                          868\nArchitectural, engineering, and related services                                                                864\nTruck transportation                                                                                            863\nFinance and insurance                                                                                           862\nMerchant wholesalers, nondurable goods                                                                          862\nArts, entertainment, and recreation                                                                             859\nAutomotive repair and maintenance                                                                               858\nBuilding finishing contractors                                                                                  854\nMiscellaneous store retailers                                                                                   852\nAdvertising, public relations, and related services                                                             849\nGeneral freight trucking                                                                                        848\nMotion picture and sound recording industries                                                                   848\nSocial assistance                                                                                               847\nOffices of real estate agents and brokers                                                                       845\nInsurance carriers and related activities                                                                       845\nAgencies, brokerages, and other insurance related activities                                                    845\nOther professional, scientific, and technical services                                                          843\nSupport activities for transportation                                                                           841\nMotion picture and video industries                                                                             839\nSpecialized freight trucking                                                                                    833\nFabricated metal product manufacturing                                                                          829\nFood manufacturing                                                                                              828\nOffices of dentists                                                                                             826\nOther miscellaneous store retailers                                                                             823\nFoundation, structure, and building exterior contractors                                                        820\nActivities related to real estate                                                                               819\nMiscellaneous manufacturing                                                                                     815\nNonstore retailers                                                                                              815\nTransit and ground passenger transportation                                                                     812\nPerforming arts, spectator sports, and related industries                                                       812\nOther schools and instruction                                                                                   808\nFood and beverage stores                                                                                        804\nIndividual and family services                                                                                  804\nChild day care services                                                                                         800\nPublishing industries (except internet)                                                                         800\nAmusement, gambling, and recreation industries                                                                  799\nSecurities, commodity contracts, and other financial investments and related activities                         796\nLessors of real estate                                                                                          796\nDrinking places (alcoholic beverages)                                                                           795\nOther miscellaneous manufacturing                                                                               795\nTelecommunications                                                                                              793\nOther specialty trade contractors                                                                               791\nBakeries and tortilla manufacturing                                                                             787\nMiscellaneous durable goods merchant wholesalers                                                                786\nNursing and residential care facilities                                                                         783\nIndustries not classified                                                                                       782\nOther financial investment activities                                                                           782\nMachinery manufacturing                                                                                         782\nBeverage manufacturing                                                                                          778\nBeverage and tobacco product manufacturing                                                                      778\nIndependent artists, writers, and performers                                                                    776\nWood product manufacturing                                                                                      774\nElectronic shopping and mail-order houses                                                                       774\nFreight transportation arrangement                                                                              772\nOther amusement and recreation industries                                                                       771\nSpecial food services                                                                                           769\nNewspaper, periodical, book, and directory publishers                                                           769\nMachinery, equipment, and supplies merchant wholesalers                                                         768\nSupport activities for road transportation                                                                      764\nOther transit and ground passenger transportation                                                               763\nOther wood product manufacturing                                                                                763\nMiscellaneous nondurable goods merchant wholesalers                                                             759\nOffice administrative services                                                                                  758\nHousehold appliances and electrical and electronic goods merchant wholesalers                                   757\nOther support services                                                                                          755\nBusiness support services                                                                                       754\nPlastics and rubber products manufacturing                                                                      754\nPlastics product manufacturing                                                                                  753\nContinuing care retirement communities and assisted living facilities for the elderly                           753\nFurniture and related product manufacturing                                                                     751\nArchitectural and structural metals manufacturing                                                               750\nSpecialized design services                                                                                     749\nComputer and electronic product manufacturing                                                                   746\nHousehold and institutional furniture and kitchen cabinet manufacturing                                         746\nMachine shops; turned product; and screw, nut, and bolt manufacturing                                           746\nGrocery and related product merchant wholesalers                                                                745\nSoftware publishers                                                                                             745\nCredit intermediation and related activities                                                                    744\nBeer, wine, and liquor stores                                                                                   744\nMotor vehicle and parts dealers                                                                                 743\nMining, quarrying, and oil and gas extraction                                                                   743\nFurniture and home furnishings stores                                                                           741\nDirect selling establishments                                                                                   740\nChemical manufacturing                                                                                          735\nBuilding material and garden equipment and supplies dealers                                                     735\nOther personal services                                                                                         734\nScientific research and development services                                                                    734\nInvestigation and security services                                                                             734\nWaste management and remediation services                                                                       733\nGrocery stores                                                                                                  731\nWired and wireless telecommunications carriers                                                                  731\nNonresidential building construction                                                                            729\nTransportation equipment manufacturing                                                                          725\nHome health care services                                                                                       724\nProfessional and commercial equipment and supplies merchant wholesalers                                         721\nHeavy and civil engineering construction                                                                        720\nBuilding material and supplies dealers                                                                          717\nHome furnishings stores                                                                                         716\nRental and leasing services                                                                                     713\nSpecialty food stores                                                                                           707\nOutpatient care centers                                                                                         705\nLumber and other construction materials merchant wholesalers                                                    704\nDrycleaning and laundry services                                                                                703\nMedical equipment and supplies manufacturing                                                                    703\nTaxi and limousine service                                                                                      701\nNonmetallic mineral product manufacturing                                                                       700\nAccommodation                                                                                                   697\nTraveler accommodation                                                                                          697\nAgriculture, forestry, fishing and hunting                                                                      695\nAutomobile dealers                                                                                              693\nSporting goods, hobby, musical instrument, and book stores                                                      687\nCouriers and messengers                                                                                         687\nSporting goods, hobby, and musical instrument stores                                                            686\nAutomotive parts, accessories, and tire stores                                                                  686\nMetal and mineral (except petroleum) merchant wholesalers                                                       685\nNavigational, measuring, electromedical, and control instruments manufacturing                                  683\nActivities related to credit intermediation                                                                     683\nPharmaceutical and medicine manufacturing                                                                       683\nDrugs and druggists' sundries merchant wholesalers                                                              682\nEmployment services                                                                                             681\nClothing and clothing accessories stores                                                                        681\nFurniture and home furnishing merchant wholesalers                                                              680\nCoating, engraving, heat treating, and allied activities                                                        676\nOffice supplies, stationery, and gift stores                                                                    676\nResidential intellectual and developmental disability, mental health, and substance abuse facilities            672\nTextile product mills                                                                                           671\nElectronic and precision equipment repair and maintenance                                                       671\nBroadcasting (except internet)                                                                                  671\nMotor vehicle and motor vehicle parts and supplies merchant wholesalers                                         669\nApparel manufacturing                                                                                           668\nTravel arrangement and reservation services                                                                     667\nOther telecommunications                                                                                        667\nPersonal and household goods repair and maintenance                                                             666\nPaper and paper product merchant wholesalers                                                                    664\nOther food manufacturing                                                                                        663\nRadio and television broadcasting                                                                               662\nLessors of nonfinancial intangible assets (except copyrighted works)                                            660\nRemediation and other waste management services                                                                 660\nCut and sew apparel manufacturing                                                                               656\nUtility system construction                                                                                     656\nSound recording industries                                                                                      653\nElectrical equipment, appliance, and component manufacturing                                                    652\nDeath care services                                                                                             649\nCouriers and express delivery services                                                                          648\nOther general purpose machinery manufacturing                                                                   646\nNondepository credit intermediation                                                                             645\nTechnical and trade schools                                                                                     644\nCommercial and industrial machinery and equipment (except automotive and electronic) repair and maintenance     640\nBusiness schools and computer and management training                                                           635\nJewelry, luggage, and leather goods stores                                                                      630\nGeneral merchandise stores                                                                                      630\nGeneral merchandise stores, including warehouse clubs and supercenters                                          630\nApparel, piece goods, and notions merchant wholesalers                                                          629\nUsed merchandise stores                                                                                         628\nSoap, cleaning compound, and toilet preparation manufacturing                                                   627\nOther nonmetallic mineral product manufacturing                                                                 625\nFlorists                                                                                                        625\nClothing stores                                                                                                 625\nChemical and allied products merchant wholesalers                                                               622\nMedical and diagnostic laboratories                                                                             621\nOther textile product mills                                                                                     618\nEducational support services                                                                                    616\nFurniture stores                                                                                                616\nHardware, plumbing and heating equipment and supplies merchant wholesalers                                      614\nPerforming arts companies                                                                                       612\nPetroleum and coal products manufacturing                                                                       612\nOther electrical equipment and component manufacturing                                                          611\nSecurities and commodity contracts intermediation and brokerage                                                 610\nSemiconductor and other electronic component manufacturing                                                      609\nSupport activities for agriculture and forestry                                                                 606\nIndustrial machinery manufacturing                                                                              603\nNursing care facilities (skilled nursing facilities)                                                            601\nElectric power generation, transmission and distribution                                                        601\nOther fabricated metal product manufacturing                                                                    599\nLocal messengers and local delivery                                                                             597\nHighway, street, and bridge construction                                                                        596\nAerospace product and parts manufacturing                                                                       593\nMetalworking machinery manufacturing                                                                            593\nSchool and employee bus transportation                                                                          590\nSupport activities for crop production                                                                          589\nOther ambulatory health care services                                                                           585\nPetroleum and petroleum products merchant wholesalers                                                           581\nTextile mills                                                                                                   580\nLawn and garden equipment and supplies stores                                                                   578\nOffice furniture (including fixtures) manufacturing                                                             568\nPromoters of performing arts, sports, and similar events                                                        566\nShoe stores                                                                                                     565\nWaste collection                                                                                                564\nMotor vehicle parts manufacturing                                                                               563\nBeer, wine, and distilled alcoholic beverage merchant wholesalers                                               562\nCement and concrete product manufacturing                                                                       560\nTextile furnishings mills                                                                                       555\nAnimal slaughtering and processing                                                                              553\nEngine, turbine, and power transmission equipment manufacturing                                                 551\nAgents and managers for artists, athletes, entertainers, and other public figures                               549\nAmusement parks and arcades                                                                                     549\nCommercial and industrial machinery and equipment rental and leasing                                            548\nCutlery and handtool manufacturing                                                                              539\nAutomotive equipment rental and leasing                                                                         538\nAnimal food manufacturing                                                                                       538\nWater, sewage and other systems                                                                                 536\nSupport activities for air transportation                                                                       536\nPrimary metal manufacturing                                                                                     536\nOther motor vehicle dealers                                                                                     534\nBasic chemical manufacturing                                                                                    532\nAir transportation                                                                                              532\nComputer and peripheral equipment manufacturing                                                                 530\nLogging                                                                                                         528\nGeneral rental centers                                                                                          528\nForestry and logging                                                                                            528\nWater transportation                                                                                            526\nOther support activities for transportation                                                                     524\nElementary and secondary schools                                                                                523\nDairy product manufacturing                                                                                     521\nVentilation, heating, air-conditioning, and commercial refrigeration equipment manufacturing                    520\nMotor vehicle body and trailer manufacturing                                                                    520\nGlass and glass product manufacturing                                                                           517\nElectric lighting equipment manufacturing                                                                       516\nTextile and fabric finishing and fabric coating mills                                                           515\nAudio and video equipment manufacturing                                                                         514\nApparel accessories and other apparel manufacturing                                                             514\nCommercial and service industry machinery manufacturing                                                         514\nPesticide, fertilizer, and other agricultural chemical manufacturing                                            513\nOther heavy and civil engineering construction                                                                  512\nCharter bus industry                                                                                            512\nCommunications equipment manufacturing                                                                          512\nSugar and confectionery product manufacturing                                                                   511\nOther transportation equipment manufacturing                                                                    504\nConsumer goods rental                                                                                           503\nSpectator sports                                                                                                502\nConverted paper product manufacturing                                                                           502\nPaper manufacturing                                                                                             502\nElectrical equipment manufacturing                                                                              499\nSawmills and wood preservation                                                                                  499\nScenic and sightseeing transportation                                                                           495\nPaint, coating, and adhesive manufacturing                                                                      493\nDeep sea, coastal, and great lakes water transportation                                                         491\nFruit and vegetable preserving and specialty food manufacturing                                                 491\nFacilities support services                                                                                     490\nResin, synthetic rubber, and artificial synthetic fibers and filaments manufacturing                            490\nOther chemical product and preparation manufacturing                                                            489\nNonscheduled air transportation                                                                                 483\nSupport activities for water transportation                                                                     481\nGrain and oilseed milling                                                                                       481\nLeather and allied product manufacturing                                                                        478\nMining (except oil and gas)                                                                                     477\nInsurance carriers                                                                                              475\nFishing, hunting and trapping                                                                                   473\nOther furniture related product manufacturing                                                                   467\nRubber product manufacturing                                                                                    465\nClay product and refractory manufacturing                                                                       465\nFishing                                                                                                         464\nSeafood product preparation and packaging                                                                       463\nLand subdivision                                                                                                458\nShip and boat building                                                                                          454\nOther leather and allied product manufacturing                                                                  453\nAgriculture, construction, and mining machinery manufacturing                                                   450\nMotor vehicle manufacturing                                                                                     443\nScenic and sightseeing transportation, land                                                                     443\nFoundries                                                                                                       441\nDepository credit intermediation                                                                                441\nOther residential care facilities                                                                               439\nVending machine operators                                                                                       439\nMuseums, historical sites, and similar institutions                                                             438\nRV (recreational vehicle) parks and recreational camps                                                          436\nSteel product manufacturing from purchased steel                                                                435\nNonmetallic mineral mining and quarrying                                                                        433\nVocational rehabilitation services                                                                              433\nFabric mills                                                                                                    429\nHardware manufacturing                                                                                          429\nHousehold appliance manufacturing                                                                               428\nSupport activities for forestry                                                                                 420\nFarm product raw material merchant wholesalers                                                                  414\nForging and stamping                                                                                            413\nSatellite telecommunications                                                                                    411\nBook stores and news dealers                                                                                    407\nWaste treatment and disposal                                                                                    382\nScenic and sightseeing transportation, water                                                                    370\nGambling industries                                                                                             370\nBoiler, tank, and shipping container manufacturing                                                              367\nRooming and boarding houses                                                                                     366\nNonferrous metal (except aluminum) production and processing                                                    357\nNatural gas distribution                                                                                        354\nFootwear manufacturing                                                                                          352\nCoal mining                                                                                                     344\nVeneer, plywood, and engineered wood product manufacturing                                                      339\nSupport activities for animal production                                                                        333\nMetal ore mining                                                                                                332\nManufacturing and reproducing magnetic and optical media                                                        331\nSpring and wire product manufacturing                                                                           324\nInland water transportation                                                                                     316\nSupport activities for rail transportation                                                                      315\nAlumina and aluminum production and processing                                                                  306\nTimber tract operations                                                                                         303\nApparel knitting mills                                                                                          298\nScheduled air transportation                                                                                    296\nColleges, universities, and professional schools                                                                289\nCable and other subscription programming                                                                        289\nFiber, yarn, and thread mills                                                                                   285\nPulp, paper, and paperboard mills                                                                               283\nIron and steel mills and ferroalloy manufacturing                                                               276\nCommunity food and housing, and emergency and other relief services                                             273\nLeather and hide tanning and finishing                                                                          256\nLime and gypsum product manufacturing                                                                           249\nJunior colleges                                                                                                 246\nRailroad rolling stock manufacturing                                                                            240\nInterurban and rural bus transportation                                                                         232\nHospitals                                                                                                       217\nHunting and trapping                                                                                            216\nScenic and sightseeing transportation, other                                                                    210\nUrban transit systems                                                                                           207\nTobacco manufacturing                                                                                           204\nGeneral medical and surgical hospitals                                                                          149\nForest nurseries and gathering of forest products                                                               135\nSpecialty (except psychiatric and substance abuse) hospitals                                                     96\nPipeline transportation                                                                                           6\nPipeline transportation of natural gas                                                                            6\nName: NAICS2017_LABEL, dtype: int64"
     },
     "execution_count": 85,
     "metadata": {},
     "output_type": "execute_result"
    }
   ],
   "source": [
    "pd.options.display.max_rows = 999\n",
    "own_boss['NAICS2017_LABEL'].value_counts()"
   ],
   "metadata": {
    "collapsed": false,
    "pycharm": {
     "name": "#%%\n"
    }
   }
  },
  {
   "cell_type": "code",
   "execution_count": 86,
   "outputs": [
    {
     "name": "stderr",
     "output_type": "stream",
     "text": [
      "C:\\Users\\shane\\AppData\\Local\\Temp\\ipykernel_652112\\967876002.py:2: SettingWithCopyWarning:\n",
      "\n",
      "\n",
      "A value is trying to be set on a copy of a slice from a DataFrame.\n",
      "Try using .loc[row_indexer,col_indexer] = value instead\n",
      "\n",
      "See the caveats in the documentation: https://pandas.pydata.org/pandas-docs/stable/user_guide/indexing.html#returning-a-view-versus-a-copy\n",
      "\n",
      "C:\\Users\\shane\\AppData\\Local\\Temp\\ipykernel_652112\\967876002.py:2: SettingWithCopyWarning:\n",
      "\n",
      "\n",
      "A value is trying to be set on a copy of a slice from a DataFrame.\n",
      "Try using .loc[row_indexer,col_indexer] = value instead\n",
      "\n",
      "See the caveats in the documentation: https://pandas.pydata.org/pandas-docs/stable/user_guide/indexing.html#returning-a-view-versus-a-copy\n",
      "\n"
     ]
    }
   ],
   "source": [
    "own_boss = own_boss[own_boss['NAICS2017_LABEL'] != 'Total for all sectors']\n",
    "own_boss[['Question', 'Answer']] =own_boss['OWNCHAR_LABEL'].str.split(':', expand =True)"
   ],
   "metadata": {
    "collapsed": false,
    "pycharm": {
     "name": "#%%\n"
    }
   }
  },
  {
   "cell_type": "code",
   "execution_count": 87,
   "outputs": [],
   "source": [
    "own_boss = own_boss[(own_boss['Question'] == 'Wanted to be my own boss') & (own_boss['Answer'] == ' Very important')]"
   ],
   "metadata": {
    "collapsed": false,
    "pycharm": {
     "name": "#%%\n"
    }
   }
  },
  {
   "cell_type": "code",
   "execution_count": 88,
   "outputs": [
    {
     "data": {
      "text/plain": "Management of companies and enterprises                                                                        51\nProfessional, scientific, and technical services                                                               48\nPrinting and related support activities                                                                        48\nOther information services                                                                                     48\nData processing, hosting, and related services                                                                 48\nEducational services                                                                                           48\nWholesale electronic markets and agents and brokers                                                            48\nGasoline stations                                                                                              42\nSupport activities for mining                                                                                  42\nHealth and personal care stores                                                                                40\nWarehousing and storage                                                                                        40\nElectronics and appliance stores                                                                               40\nUtilities                                                                                                      40\nOil and gas extraction                                                                                         38\nReal estate                                                                                                    24\nReal estate and rental and leasing                                                                             24\nAgencies, brokerages, and other insurance related activities                                                   24\nAdministrative and support and waste management and remediation services                                       24\nInsurance carriers and related activities                                                                      24\nAccounting, tax preparation, bookkeeping, and payroll services                                                 24\nSecurities, commodity contracts, and other financial investments and related activities                        24\nAdvertising, public relations, and related services                                                            24\nManagement, scientific, and technical consulting services                                                      24\nComputer systems design and related services                                                                   24\nAdministrative and support services                                                                            24\nOffices of real estate agents and brokers                                                                      24\nMotion picture and video industries                                                                            24\nOther financial investment activities                                                                          24\nNonstore retailers                                                                                             24\nMerchant wholesalers, durable goods                                                                            24\nWholesale trade                                                                                                24\nRetail trade                                                                                                   24\nMiscellaneous store retailers                                                                                  24\nTransportation and warehousing                                                                                 24\nElectronic shopping and mail-order houses                                                                      24\nSpecialized freight trucking                                                                                   24\nFinance and insurance                                                                                          24\nGeneral freight trucking                                                                                       24\nTruck transportation                                                                                           24\nSupport activities for transportation                                                                          24\nMotion picture and sound recording industries                                                                  24\nInformation                                                                                                    24\nServices to buildings and dwellings                                                                            24\nOther professional, scientific, and technical services                                                         24\nLegal services                                                                                                 24\nConstruction of buildings                                                                                      24\nAccommodation and food services                                                                                24\nPerforming arts, spectator sports, and related industries                                                      24\nRestaurants and other eating places                                                                            24\nOffices of other health practitioners                                                                          24\nSpecialty trade contractors                                                                                    24\nDrinking places (alcoholic beverages)                                                                          24\nNursing and residential care facilities                                                                        24\nBuilding equipment contractors                                                                                 24\nFood services and drinking places                                                                              24\nBuilding finishing contractors                                                                                 24\nResidential building construction                                                                              24\nOther services (except public administration)                                                                  24\nManufacturing                                                                                                  24\nAutomotive repair and maintenance                                                                              24\nOther schools and instruction                                                                                  24\nRepair and maintenance                                                                                         24\nHealth care and social assistance                                                                              24\nAmbulatory health care services                                                                                24\nConstruction                                                                                                   24\nPersonal care services                                                                                         24\nPersonal and laundry services                                                                                  24\nArts, entertainment, and recreation                                                                            24\nAmusement, gambling, and recreation industries                                                                 23\nIndependent artists, writers, and performers                                                                   23\nSupport activities for road transportation                                                                     23\nDirect selling establishments                                                                                  23\nFabricated metal product manufacturing                                                                         23\nTransit and ground passenger transportation                                                                    23\nOther miscellaneous store retailers                                                                            23\nOther miscellaneous manufacturing                                                                              23\nElectronic and precision equipment repair and maintenance                                                      23\nBeer, wine, and liquor stores                                                                                  23\nFood and beverage stores                                                                                       23\nMachinery, equipment, and supplies merchant wholesalers                                                        23\nMiscellaneous durable goods merchant wholesalers                                                               23\nMiscellaneous manufacturing                                                                                    23\nIndividual and family services                                                                                 23\nOffices of dentists                                                                                            23\nOther support services                                                                                         23\nBeverage and tobacco product manufacturing                                                                     23\nBeverage manufacturing                                                                                         23\nBusiness support services                                                                                      23\nOffice administrative services                                                                                 23\nWaste management and remediation services                                                                      23\nSpecialized design services                                                                                    23\nFood manufacturing                                                                                             23\nOther specialty trade contractors                                                                              23\nArchitectural, engineering, and related services                                                               23\nActivities related to real estate                                                                              23\nFoundation, structure, and building exterior contractors                                                       23\nMerchant wholesalers, nondurable goods                                                                         23\nOffices of physicians                                                                                          23\nOther wood product manufacturing                                                                               23\nLessors of real estate                                                                                         23\nCredit intermediation and related activities                                                                   23\nWood product manufacturing                                                                                     23\nSocial assistance                                                                                              23\nContinuing care retirement communities and assisted living facilities for the elderly                          23\nTelecommunications                                                                                             23\nIndustries not classified                                                                                      22\nMetal and mineral (except petroleum) merchant wholesalers                                                      22\nHousehold appliances and electrical and electronic goods merchant wholesalers                                  22\nLumber and other construction materials merchant wholesalers                                                   22\nPersonal and household goods repair and maintenance                                                            22\nInvestigation and security services                                                                            22\nTaxi and limousine service                                                                                     22\nFreight transportation arrangement                                                                             22\nSoftware publishers                                                                                            22\nNewspaper, periodical, book, and directory publishers                                                          22\nPublishing industries (except internet)                                                                        22\nHousehold and institutional furniture and kitchen cabinet manufacturing                                        22\nFurniture and related product manufacturing                                                                    22\nAgriculture, forestry, fishing and hunting                                                                     22\nNonresidential building construction                                                                           22\nArchitectural and structural metals manufacturing                                                              22\nComputer and electronic product manufacturing                                                                  22\nGrocery stores                                                                                                 21\nTravel arrangement and reservation services                                                                    21\nBakeries and tortilla manufacturing                                                                            21\nAutomotive parts, accessories, and tire stores                                                                 21\nPlastics and rubber products manufacturing                                                                     21\nApparel manufacturing                                                                                          21\nCut and sew apparel manufacturing                                                                              21\nFurniture and home furnishings stores                                                                          21\nNondepository credit intermediation                                                                            21\nPlastics product manufacturing                                                                                 21\nFurniture and home furnishing merchant wholesalers                                                             21\nActivities related to credit intermediation                                                                    21\nGrocery and related product merchant wholesalers                                                               21\nBroadcasting (except internet)                                                                                 21\nRadio and television broadcasting                                                                              21\nMiscellaneous nondurable goods merchant wholesalers                                                            21\nMotor vehicle and parts dealers                                                                                21\nRemediation and other waste management services                                                                21\nOther transit and ground passenger transportation                                                              21\nMachinery manufacturing                                                                                        21\nMining, quarrying, and oil and gas extraction                                                                  21\nSpecial food services                                                                                          21\nOther amusement and recreation industries                                                                      21\nHome furnishings stores                                                                                        21\nTechnical and trade schools                                                                                    21\nBuilding material and supplies dealers                                                                         21\nBuilding material and garden equipment and supplies dealers                                                    21\nHeavy and civil engineering construction                                                                       21\nTransportation equipment manufacturing                                                                         21\nUtility system construction                                                                                    21\nHome health care services                                                                                      21\nChemical manufacturing                                                                                         21\nOffice supplies, stationery, and gift stores                                                                   20\nLocal messengers and local delivery                                                                            20\nCouriers and messengers                                                                                        20\nUsed merchandise stores                                                                                        20\nSporting goods, hobby, and musical instrument stores                                                           20\nOther nonmetallic mineral product manufacturing                                                                20\nClothing and clothing accessories stores                                                                       20\nWired and wireless telecommunications carriers                                                                 20\nNonmetallic mineral product manufacturing                                                                      20\nPharmaceutical and medicine manufacturing                                                                      20\nDrycleaning and laundry services                                                                               20\nAccommodation                                                                                                  20\nTraveler accommodation                                                                                         20\nPerforming arts companies                                                                                      20\nChild day care services                                                                                        20\nNursing care facilities (skilled nursing facilities)                                                           20\nResidential intellectual and developmental disability, mental health, and substance abuse facilities           20\nOther ambulatory health care services                                                                          20\nBusiness schools and computer and management training                                                          20\nEducational support services                                                                                   20\nEmployment services                                                                                            20\nOther food manufacturing                                                                                       20\nScientific research and development services                                                                   20\nRental and leasing services                                                                                    20\nSoap, cleaning compound, and toilet preparation manufacturing                                                  20\nSporting goods, hobby, musical instrument, and book stores                                                     20\nOther personal services                                                                                        20\nSpecialty food stores                                                                                          20\nNavigational, measuring, electromedical, and control instruments manufacturing                                 20\nMachine shops; turned product; and screw, nut, and bolt manufacturing                                          20\nProfessional and commercial equipment and supplies merchant wholesalers                                        20\nOther fabricated metal product manufacturing                                                                   20\nTextile mills                                                                                                  19\nSound recording industries                                                                                     19\nOther telecommunications                                                                                       19\nSecurities and commodity contracts intermediation and brokerage                                                19\nPaper and paper product merchant wholesalers                                                                   19\nVentilation, heating, air-conditioning, and commercial refrigeration equipment manufacturing                   19\nTextile product mills                                                                                          19\nTextile and fabric finishing and fabric coating mills                                                          19\nIndustrial machinery manufacturing                                                                             19\nAutomobile dealers                                                                                             19\nWaste collection                                                                                               19\nMotor vehicle and motor vehicle parts and supplies merchant wholesalers                                        19\nAudio and video equipment manufacturing                                                                        19\nSupport activities for crop production                                                                         19\nSupport activities for agriculture and forestry                                                                19\nFishing, hunting and trapping                                                                                  19\nFishing                                                                                                        19\nCommercial and industrial machinery and equipment (except automotive and electronic) repair and maintenance    19\nPetroleum and petroleum products merchant wholesalers                                                          19\nElectrical equipment, appliance, and component manufacturing                                                   19\nJewelry, luggage, and leather goods stores                                                                     19\nFlorists                                                                                                       19\nCoating, engraving, heat treating, and allied activities                                                       19\nElectric power generation, transmission and distribution                                                       18\nFurniture stores                                                                                               18\nDrugs and druggists' sundries merchant wholesalers                                                             18\nOther general purpose machinery manufacturing                                                                  18\nMuseums, historical sites, and similar institutions                                                            18\nApparel, piece goods, and notions merchant wholesalers                                                         18\nLessors of nonfinancial intangible assets (except copyrighted works)                                           18\nWater, sewage and other systems                                                                                18\nPetroleum and coal products manufacturing                                                                      18\nMotor vehicle parts manufacturing                                                                              18\nCutlery and handtool manufacturing                                                                             18\nSupport activities for air transportation                                                                      18\nCouriers and express delivery services                                                                         18\nHighway, street, and bridge construction                                                                       18\nForestry and logging                                                                                           18\nLogging                                                                                                        18\nSugar and confectionery product manufacturing                                                                  18\nDeath care services                                                                                            18\nShoe stores                                                                                                    18\nOutpatient care centers                                                                                        18\nClothing stores                                                                                                18\nAnimal slaughtering and processing                                                                             17\nApparel accessories and other apparel manufacturing                                                            17\nGeneral merchandise stores, including warehouse clubs and supercenters                                         17\nSawmills and wood preservation                                                                                 17\nMetalworking machinery manufacturing                                                                           17\nElementary and secondary schools                                                                               17\nAerospace product and parts manufacturing                                                                      17\nMedical and diagnostic laboratories                                                                            17\nOther textile product mills                                                                                    17\nElectric lighting equipment manufacturing                                                                      17\nOther electrical equipment and component manufacturing                                                         17\nMedical equipment and supplies manufacturing                                                                   17\nGeneral merchandise stores                                                                                     17\nBasic chemical manufacturing                                                                                   17\nPesticide, fertilizer, and other agricultural chemical manufacturing                                           17\nAir transportation                                                                                             17\nPromoters of performing arts, sports, and similar events                                                       17\nLawn and garden equipment and supplies stores                                                                  17\nChemical and allied products merchant wholesalers                                                              17\nSemiconductor and other electronic component manufacturing                                                     17\nScenic and sightseeing transportation                                                                          17\nNonscheduled air transportation                                                                                17\nSatellite telecommunications                                                                                   17\nOther transportation equipment manufacturing                                                                   17\nFacilities support services                                                                                    16\nHardware manufacturing                                                                                         16\nCement and concrete product manufacturing                                                                      16\nSpectator sports                                                                                               16\nTextile furnishings mills                                                                                      16\nBeer, wine, and distilled alcoholic beverage merchant wholesalers                                              16\nConsumer goods rental                                                                                          16\nAgents and managers for artists, athletes, entertainers, and other public figures                              16\nGrain and oilseed milling                                                                                      16\nCommercial and industrial machinery and equipment rental and leasing                                           16\nGlass and glass product manufacturing                                                                          16\nInsurance carriers                                                                                             16\nOther leather and allied product manufacturing                                                                 16\nConverted paper product manufacturing                                                                          16\nFruit and vegetable preserving and specialty food manufacturing                                                16\nPaper manufacturing                                                                                            16\nOther motor vehicle dealers                                                                                    16\nLeather and allied product manufacturing                                                                       16\nAnimal food manufacturing                                                                                      15\nComputer and peripheral equipment manufacturing                                                                15\nRubber product manufacturing                                                                                   15\nFoundries                                                                                                      15\nSchool and employee bus transportation                                                                         15\nOther heavy and civil engineering construction                                                                 15\nScenic and sightseeing transportation, land                                                                    15\nOther chemical product and preparation manufacturing                                                           15\nOther residential care facilities                                                                              15\nHardware, plumbing and heating equipment and supplies merchant wholesalers                                     15\nSupport activities for forestry                                                                                15\nAmusement parks and arcades                                                                                    15\nPaint, coating, and adhesive manufacturing                                                                     15\nElectrical equipment manufacturing                                                                             15\nGeneral rental centers                                                                                         15\nAutomotive equipment rental and leasing                                                                        15\nMotor vehicle body and trailer manufacturing                                                                   15\nCommunications equipment manufacturing                                                                         15\nPrimary metal manufacturing                                                                                    15\nRooming and boarding houses                                                                                    15\nMining (except oil and gas)                                                                                    15\nOffice furniture (including fixtures) manufacturing                                                            15\nDairy product manufacturing                                                                                    14\nAgriculture, construction, and mining machinery manufacturing                                                  14\nVocational rehabilitation services                                                                             14\nGambling industries                                                                                            13\nShip and boat building                                                                                         13\nCommunity food and housing, and emergency and other relief services                                            13\nMotor vehicle manufacturing                                                                                    13\nNonmetallic mineral mining and quarrying                                                                       13\nLand subdivision                                                                                               13\nOther furniture related product manufacturing                                                                  13\nForging and stamping                                                                                           13\nCharter bus industry                                                                                           13\nSteel product manufacturing from purchased steel                                                               13\nClay product and refractory manufacturing                                                                      13\nVending machine operators                                                                                      13\nFootwear manufacturing                                                                                         13\nSupport activities for water transportation                                                                    13\nResin, synthetic rubber, and artificial synthetic fibers and filaments manufacturing                           13\nManufacturing and reproducing magnetic and optical media                                                       13\nScenic and sightseeing transportation, water                                                                   13\nCommercial and service industry machinery manufacturing                                                        13\nSeafood product preparation and packaging                                                                      13\nWater transportation                                                                                           13\nBook stores and news dealers                                                                                   13\nDeep sea, coastal, and great lakes water transportation                                                        13\nNatural gas distribution                                                                                       12\nEngine, turbine, and power transmission equipment manufacturing                                                12\nOther support activities for transportation                                                                    12\nRV (recreational vehicle) parks and recreational camps                                                         12\nFarm product raw material merchant wholesalers                                                                 12\nInterurban and rural bus transportation                                                                        12\nBoiler, tank, and shipping container manufacturing                                                             11\nCable and other subscription programming                                                                       11\nColleges, universities, and professional schools                                                               11\nMetal ore mining                                                                                               11\nLeather and hide tanning and finishing                                                                         11\nJunior colleges                                                                                                11\nApparel knitting mills                                                                                         10\nCoal mining                                                                                                    10\nInland water transportation                                                                                     9\nWaste treatment and disposal                                                                                    9\nScenic and sightseeing transportation, other                                                                    9\nTobacco manufacturing                                                                                           9\nFiber, yarn, and thread mills                                                                                   9\nFabric mills                                                                                                    9\nSupport activities for animal production                                                                        9\nHousehold appliance manufacturing                                                                               9\nRailroad rolling stock manufacturing                                                                            9\nSupport activities for rail transportation                                                                      9\nUrban transit systems                                                                                           9\nVeneer, plywood, and engineered wood product manufacturing                                                      9\nDepository credit intermediation                                                                                9\nAlumina and aluminum production and processing                                                                  9\nIron and steel mills and ferroalloy manufacturing                                                               9\nSpring and wire product manufacturing                                                                           9\nScheduled air transportation                                                                                    8\nPulp, paper, and paperboard mills                                                                               8\nNonferrous metal (except aluminum) production and processing                                                    8\nHunting and trapping                                                                                            6\nTimber tract operations                                                                                         6\nLime and gypsum product manufacturing                                                                           6\nName: NAICS2017_LABEL, dtype: int64"
     },
     "execution_count": 88,
     "metadata": {},
     "output_type": "execute_result"
    }
   ],
   "source": [
    "own_boss['NAICS2017_LABEL'].value_counts()"
   ],
   "metadata": {
    "collapsed": false,
    "pycharm": {
     "name": "#%%\n"
    }
   }
  },
  {
   "cell_type": "code",
   "execution_count": 89,
   "outputs": [
    {
     "data": {
      "text/plain": "(6967, 4)"
     },
     "execution_count": 89,
     "metadata": {},
     "output_type": "execute_result"
    }
   ],
   "source": [
    "own_boss.shape"
   ],
   "metadata": {
    "collapsed": false,
    "pycharm": {
     "name": "#%%\n"
    }
   }
  },
  {
   "cell_type": "code",
   "execution_count": 90,
   "outputs": [],
   "source": [
    "own_boss.drop(columns='OWNCHAR_LABEL', inplace=True)"
   ],
   "metadata": {
    "collapsed": false,
    "pycharm": {
     "name": "#%%\n"
    }
   }
  },
  {
   "cell_type": "code",
   "execution_count": 91,
   "outputs": [],
   "source": [
    "# own_boss.groupby('NAICS2017_LABEL').mean().sort_values('OWNPDEMP_PCT')"
   ],
   "metadata": {
    "collapsed": false,
    "pycharm": {
     "name": "#%%\n"
    }
   }
  },
  {
   "cell_type": "code",
   "execution_count": 92,
   "outputs": [],
   "source": [
    "own_boss =own_boss.groupby('NAICS2017_LABEL').count().sort_values('Answer', ascending=False)"
   ],
   "metadata": {
    "collapsed": false,
    "pycharm": {
     "name": "#%%\n"
    }
   }
  },
  {
   "cell_type": "code",
   "execution_count": 93,
   "outputs": [],
   "source": [
    "own_boss = own_boss.nlargest(10, columns='Answer')"
   ],
   "metadata": {
    "collapsed": false,
    "pycharm": {
     "name": "#%%\n"
    }
   }
  },
  {
   "cell_type": "code",
   "execution_count": 94,
   "outputs": [],
   "source": [
    "own_boss = own_boss.unstack().reset_index()\n",
    "own_boss.drop('level_0',inplace=True, axis=1)\n",
    "own_boss.rename(columns={\"NAICS2017_LABEL\": \"Sector\", 0: \"Total\"}, inplace=True)"
   ],
   "metadata": {
    "collapsed": false,
    "pycharm": {
     "name": "#%%\n"
    }
   }
  },
  {
   "cell_type": "code",
   "execution_count": 95,
   "outputs": [
    {
     "data": {
      "text/plain": "<Figure size 640x480 with 1 Axes>",
      "image/png": "[encoded data removed]"
     },
     "metadata": {},
     "output_type": "display_data"
    }
   ],
   "source": [
    "top_10 = sns.barplot(x='Total', y='Sector', data=own_boss)\n",
    "plt.title('Wanted to be my own boss: Very important')\n",
    "plt.show()"
   ],
   "metadata": {
    "collapsed": false,
    "pycharm": {
     "name": "#%%\n"
    }
   }
  },
  {
   "cell_type": "code",
   "execution_count": 95,
   "outputs": [],
   "source": [],
   "metadata": {
    "collapsed": false,
    "pycharm": {
     "name": "#%%\n"
    }
   }
  }
 ],
 "metadata": {
  "kernelspec": {
   "display_name": "Python 3",
   "language": "python",
   "name": "python3"
  },
  "language_info": {
   "codemirror_mode": {
    "name": "ipython",
    "version": 2
   },
   "file_extension": ".py",
   "mimetype": "text/x-python",
   "name": "python",
   "nbconvert_exporter": "python",
   "pygments_lexer": "ipython2",
   "version": "2.7.6"
  }
 },
 "nbformat": 4,
 "nbformat_minor": 0
}